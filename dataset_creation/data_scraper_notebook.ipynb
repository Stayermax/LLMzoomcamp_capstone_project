{
 "cells": [
  {
   "cell_type": "markdown",
   "id": "a48a4e2b-f26b-4319-885e-f7c1cdbfe7fe",
   "metadata": {},
   "source": [
    "# Scrapping data "
   ]
  },
  {
   "cell_type": "code",
   "execution_count": 51,
   "id": "38b7afb7-95df-4450-82ba-2017f9c37676",
   "metadata": {},
   "outputs": [],
   "source": [
    "import os\n",
    "import json\n",
    "import pandas as pd\n",
    "from tqdm import tqdm\n",
    "from scraper import STYLES, PRICE_BINS, RATING_BINS, MIN_RATING, SORTS"
   ]
  },
  {
   "cell_type": "markdown",
   "id": "0475454f-7680-44f7-831d-3ff79d434f9e",
   "metadata": {},
   "source": [
    "## Let's test it once"
   ]
  },
  {
   "cell_type": "code",
   "execution_count": 2,
   "id": "ab6e627a-bc02-4b29-8afe-6027e6049460",
   "metadata": {},
   "outputs": [],
   "source": [
    "from scraper import run_actor, run_input"
   ]
  },
  {
   "cell_type": "code",
   "execution_count": 4,
   "id": "27813be4-6d6f-43b1-86ba-845f7c472817",
   "metadata": {},
   "outputs": [
    {
     "name": "stderr",
     "output_type": "stream",
     "text": [
      "\u001b[36m[apify.vivino runId:4xbXKz6mhyKWChBLN]\u001b[0m -> Status: RUNNING, Message: \n",
      "\u001b[36m[apify.vivino runId:4xbXKz6mhyKWChBLN]\u001b[0m -> 2025-08-09T15:50:00.977Z ACTOR: Pulling Docker image of build nkVEzOROcSLMN8Z2I from registry.\n",
      "\u001b[36m[apify.vivino runId:4xbXKz6mhyKWChBLN]\u001b[0m -> 2025-08-09T15:50:02.167Z ACTOR: Creating Docker container.\n",
      "\u001b[36m[apify.vivino runId:4xbXKz6mhyKWChBLN]\u001b[0m -> 2025-08-09T15:50:02.359Z ACTOR: Starting Docker container.\n",
      "\u001b[36m[apify.vivino runId:4xbXKz6mhyKWChBLN]\u001b[0m -> 2025-08-09T15:50:03.775Z \u001b[32mINFO\u001b[39m  System info\u001b[90m {\"apifyVersion\":\"3.4.4\",\"apifyClientVersion\":\"2.13.0\",\"crawleeVersion\":\"3.14.1\",\"osType\":\"Linux\",\"nodeVersion\":\"v18.20.8\"}\u001b[39m\n",
      "\u001b[36m[apify.vivino runId:4xbXKz6mhyKWChBLN]\u001b[0m -> 2025-08-09T15:50:11.359Z Total available results: 611\n",
      "\u001b[36m[apify.vivino runId:4xbXKz6mhyKWChBLN]\u001b[0m -> 2025-08-09T15:50:13.362Z Processing page 2 of 25..\n",
      "\u001b[36m[apify.vivino runId:4xbXKz6mhyKWChBLN]\u001b[0m -> 2025-08-09T15:50:17.379Z Processing page 3 of 25..\n",
      "\u001b[36m[apify.vivino runId:4xbXKz6mhyKWChBLN]\u001b[0m -> 2025-08-09T15:50:22.181Z Processing page 4 of 25..\n",
      "\u001b[36m[apify.vivino runId:4xbXKz6mhyKWChBLN]\u001b[0m -> 2025-08-09T15:50:25.479Z Processing page 5 of 25..\n",
      "\u001b[36m[apify.vivino runId:4xbXKz6mhyKWChBLN]\u001b[0m -> 2025-08-09T15:50:28.577Z Reached the maximum limit of 100 items.\n",
      "\u001b[36m[apify.vivino runId:4xbXKz6mhyKWChBLN]\u001b[0m -> 2025-08-09T15:50:28.579Z ✅ Found 120 items!\n",
      "\u001b[36m[apify.vivino runId:4xbXKz6mhyKWChBLN]\u001b[0m -> 2025-08-09T15:50:32.055Z Done.\n",
      "\u001b[36m[apify.vivino runId:4xbXKz6mhyKWChBLN]\u001b[0m -> Status: SUCCEEDED, Message: \n"
     ]
    },
    {
     "data": {
      "text/plain": [
       "120"
      ]
     },
     "execution_count": 4,
     "metadata": {},
     "output_type": "execute_result"
    }
   ],
   "source": [
    "style = STYLES[1]\n",
    "pmin = PRICE_BINS[0][0]\n",
    "pmax = PRICE_BINS[0][1]\n",
    "rbin = RATING_BINS[0]\n",
    "sort_by = SORTS[0]\n",
    "min_rating = MIN_RATING[0]\n",
    "results_max = 100\n",
    "\n",
    "res = run_actor(style, pmin, pmax, rbin, sort_by, min_rating, results_max)\n",
    "len(res)"
   ]
  },
  {
   "cell_type": "markdown",
   "id": "52395840-9f78-4f94-975b-b20192c02a07",
   "metadata": {},
   "source": [
    "## Now to getting all the data"
   ]
  },
  {
   "cell_type": "code",
   "execution_count": 3,
   "id": "6cddb014-be4a-4cba-b828-0e63b98f2069",
   "metadata": {},
   "outputs": [],
   "source": [
    "from scraper import run_all"
   ]
  },
  {
   "cell_type": "code",
   "execution_count": 5,
   "id": "a79a5e3a-4bfa-4804-97b4-068f6e0d0a6d",
   "metadata": {
    "scrolled": true
   },
   "outputs": [
    {
     "name": "stderr",
     "output_type": "stream",
     "text": [
      "  0%|                                                                                                                       | 0/2 [00:00<?, ?it/s]\n",
      "  0%|                                                                                                                       | 0/2 [00:00<?, ?it/s]\u001b[A\n",
      "\n",
      "  0%|                                                                                                                       | 0/5 [00:00<?, ?it/s]\u001b[A\u001b[A\n",
      "\n",
      "\n",
      "  0%|                                                                                                                       | 0/6 [00:00<?, ?it/s]\u001b[A\u001b[A\u001b[A\n",
      "\n",
      "\n",
      "\n",
      "100%|████████████████████████████████████████████████████████████████████████████████████████████████████████████| 4/4 [00:00<00:00, 11626.62it/s]\u001b[A\u001b[A\u001b[A\u001b[A\n"
     ]
    },
    {
     "name": "stdout",
     "output_type": "stream",
     "text": [
      "Running actor for ['Red'] 0 15 [3, 4, 5] ratings_average 1\n",
      "File data/scrapped_data/scrapped_data_Red_0_15_ratings_average_[3, 4, 5]_1.json already exists\n",
      "Running actor for ['Red'] 0 15 [3, 4, 5] ratings_average 3.2\n",
      "File data/scrapped_data/scrapped_data_Red_0_15_ratings_average_[3, 4, 5]_3.2.json already exists\n",
      "Running actor for ['Red'] 0 15 [3, 4, 5] ratings_average 3.8\n",
      "File data/scrapped_data/scrapped_data_Red_0_15_ratings_average_[3, 4, 5]_3.8.json already exists\n",
      "Running actor for ['Red'] 0 15 [3, 4, 5] ratings_average 4.2\n",
      "File data/scrapped_data/scrapped_data_Red_0_15_ratings_average_[3, 4, 5]_4.2.json already exists\n"
     ]
    },
    {
     "name": "stderr",
     "output_type": "stream",
     "text": [
      "\n",
      "\n",
      "\n",
      "\n",
      "100%|█████████████████████████████████████████████████████████████████████████████████████████████████████████████| 4/4 [00:00<00:00, 9759.87it/s]\u001b[A\u001b[A\u001b[A\u001b[A\n"
     ]
    },
    {
     "name": "stdout",
     "output_type": "stream",
     "text": [
      "Running actor for ['White'] 0 15 [3, 4, 5] ratings_average 1\n",
      "File data/scrapped_data/scrapped_data_White_0_15_ratings_average_[3, 4, 5]_1.json already exists\n",
      "Running actor for ['White'] 0 15 [3, 4, 5] ratings_average 3.2\n",
      "File data/scrapped_data/scrapped_data_White_0_15_ratings_average_[3, 4, 5]_3.2.json already exists\n",
      "Running actor for ['White'] 0 15 [3, 4, 5] ratings_average 3.8\n",
      "File data/scrapped_data/scrapped_data_White_0_15_ratings_average_[3, 4, 5]_3.8.json already exists\n",
      "Running actor for ['White'] 0 15 [3, 4, 5] ratings_average 4.2\n",
      "File data/scrapped_data/scrapped_data_White_0_15_ratings_average_[3, 4, 5]_4.2.json already exists\n"
     ]
    },
    {
     "name": "stderr",
     "output_type": "stream",
     "text": [
      "\n",
      "\n",
      "\n",
      "\n",
      "100%|█████████████████████████████████████████████████████████████████████████████████████████████████████████████| 4/4 [00:00<00:00, 8313.78it/s]\u001b[A\u001b[A\u001b[A\u001b[A\n"
     ]
    },
    {
     "name": "stdout",
     "output_type": "stream",
     "text": [
      "Running actor for ['Rose'] 0 15 [3, 4, 5] ratings_average 1\n",
      "File data/scrapped_data/scrapped_data_Rose_0_15_ratings_average_[3, 4, 5]_1.json already exists\n",
      "Running actor for ['Rose'] 0 15 [3, 4, 5] ratings_average 3.2\n",
      "File data/scrapped_data/scrapped_data_Rose_0_15_ratings_average_[3, 4, 5]_3.2.json already exists\n",
      "Running actor for ['Rose'] 0 15 [3, 4, 5] ratings_average 3.8\n",
      "File data/scrapped_data/scrapped_data_Rose_0_15_ratings_average_[3, 4, 5]_3.8.json already exists\n",
      "Running actor for ['Rose'] 0 15 [3, 4, 5] ratings_average 4.2\n",
      "File data/scrapped_data/scrapped_data_Rose_0_15_ratings_average_[3, 4, 5]_4.2.json already exists\n"
     ]
    },
    {
     "name": "stderr",
     "output_type": "stream",
     "text": [
      "\n",
      "\n",
      "\n",
      "\n",
      "100%|█████████████████████████████████████████████████████████████████████████████████████████████████████████████| 4/4 [00:00<00:00, 9998.34it/s]\u001b[A\u001b[A\u001b[A\u001b[A\n"
     ]
    },
    {
     "name": "stdout",
     "output_type": "stream",
     "text": [
      "Running actor for ['Sparkling'] 0 15 [3, 4, 5] ratings_average 1\n",
      "File data/scrapped_data/scrapped_data_Sparkling_0_15_ratings_average_[3, 4, 5]_1.json already exists\n",
      "Running actor for ['Sparkling'] 0 15 [3, 4, 5] ratings_average 3.2\n",
      "File data/scrapped_data/scrapped_data_Sparkling_0_15_ratings_average_[3, 4, 5]_3.2.json already exists\n",
      "Running actor for ['Sparkling'] 0 15 [3, 4, 5] ratings_average 3.8\n",
      "File data/scrapped_data/scrapped_data_Sparkling_0_15_ratings_average_[3, 4, 5]_3.8.json already exists\n",
      "Running actor for ['Sparkling'] 0 15 [3, 4, 5] ratings_average 4.2\n",
      "File data/scrapped_data/scrapped_data_Sparkling_0_15_ratings_average_[3, 4, 5]_4.2.json already exists\n"
     ]
    },
    {
     "name": "stderr",
     "output_type": "stream",
     "text": [
      "\n",
      "\n",
      "\n",
      "\n",
      "100%|█████████████████████████████████████████████████████████████████████████████████████████████████████████████| 4/4 [00:00<00:00, 6116.37it/s]\u001b[A\u001b[A\u001b[A\u001b[A\n"
     ]
    },
    {
     "name": "stdout",
     "output_type": "stream",
     "text": [
      "Running actor for ['Dessert'] 0 15 [3, 4, 5] ratings_average 1\n",
      "File data/scrapped_data/scrapped_data_Dessert_0_15_ratings_average_[3, 4, 5]_1.json already exists\n",
      "Running actor for ['Dessert'] 0 15 [3, 4, 5] ratings_average 3.2\n",
      "File data/scrapped_data/scrapped_data_Dessert_0_15_ratings_average_[3, 4, 5]_3.2.json already exists\n",
      "Running actor for ['Dessert'] 0 15 [3, 4, 5] ratings_average 3.8\n",
      "File data/scrapped_data/scrapped_data_Dessert_0_15_ratings_average_[3, 4, 5]_3.8.json already exists\n",
      "Running actor for ['Dessert'] 0 15 [3, 4, 5] ratings_average 4.2\n",
      "File data/scrapped_data/scrapped_data_Dessert_0_15_ratings_average_[3, 4, 5]_4.2.json already exists\n"
     ]
    },
    {
     "name": "stderr",
     "output_type": "stream",
     "text": [
      "\n",
      "\n",
      "\n",
      "\n",
      "100%|█████████████████████████████████████████████████████████████████████████████████████████████████████████████| 4/4 [00:00<00:00, 3184.14it/s]\u001b[A\u001b[A\u001b[A\u001b[A\n",
      "100%|██████████████████████████████████████████████████████████████████████████████████████████████████████████████| 6/6 [00:00<00:00, 470.74it/s]\n"
     ]
    },
    {
     "name": "stdout",
     "output_type": "stream",
     "text": [
      "Running actor for ['Fortified'] 0 15 [3, 4, 5] ratings_average 1\n",
      "File data/scrapped_data/scrapped_data_Fortified_0_15_ratings_average_[3, 4, 5]_1.json already exists\n",
      "Running actor for ['Fortified'] 0 15 [3, 4, 5] ratings_average 3.2\n",
      "File data/scrapped_data/scrapped_data_Fortified_0_15_ratings_average_[3, 4, 5]_3.2.json already exists\n",
      "Running actor for ['Fortified'] 0 15 [3, 4, 5] ratings_average 3.8\n",
      "File data/scrapped_data/scrapped_data_Fortified_0_15_ratings_average_[3, 4, 5]_3.8.json already exists\n",
      "Running actor for ['Fortified'] 0 15 [3, 4, 5] ratings_average 4.2\n",
      "File data/scrapped_data/scrapped_data_Fortified_0_15_ratings_average_[3, 4, 5]_4.2.json already exists\n"
     ]
    },
    {
     "name": "stderr",
     "output_type": "stream",
     "text": [
      "\n",
      "\n",
      "\n",
      "  0%|                                                                                                                       | 0/6 [00:00<?, ?it/s]\u001b[A\u001b[A\u001b[A\n",
      "\n",
      "\n",
      "\n",
      "100%|█████████████████████████████████████████████████████████████████████████████████████████████████████████████| 4/4 [00:00<00:00, 7936.24it/s]\u001b[A\u001b[A\u001b[A\u001b[A\n"
     ]
    },
    {
     "name": "stdout",
     "output_type": "stream",
     "text": [
      "Running actor for ['Red'] 15 30 [3, 4, 5] ratings_average 1\n",
      "File data/scrapped_data/scrapped_data_Red_15_30_ratings_average_[3, 4, 5]_1.json already exists\n",
      "Running actor for ['Red'] 15 30 [3, 4, 5] ratings_average 3.2\n",
      "File data/scrapped_data/scrapped_data_Red_15_30_ratings_average_[3, 4, 5]_3.2.json already exists\n",
      "Running actor for ['Red'] 15 30 [3, 4, 5] ratings_average 3.8\n",
      "File data/scrapped_data/scrapped_data_Red_15_30_ratings_average_[3, 4, 5]_3.8.json already exists\n",
      "Running actor for ['Red'] 15 30 [3, 4, 5] ratings_average 4.2\n",
      "File data/scrapped_data/scrapped_data_Red_15_30_ratings_average_[3, 4, 5]_4.2.json already exists\n"
     ]
    },
    {
     "name": "stderr",
     "output_type": "stream",
     "text": [
      "\n",
      "\n",
      "\n",
      "\n",
      "100%|████████████████████████████████████████████████████████████████████████████████████████████████████████████| 4/4 [00:00<00:00, 17848.10it/s]\u001b[A\u001b[A\u001b[A\u001b[A\n"
     ]
    },
    {
     "name": "stdout",
     "output_type": "stream",
     "text": [
      "Running actor for ['White'] 15 30 [3, 4, 5] ratings_average 1\n",
      "File data/scrapped_data/scrapped_data_White_15_30_ratings_average_[3, 4, 5]_1.json already exists\n",
      "Running actor for ['White'] 15 30 [3, 4, 5] ratings_average 3.2\n",
      "File data/scrapped_data/scrapped_data_White_15_30_ratings_average_[3, 4, 5]_3.2.json already exists\n",
      "Running actor for ['White'] 15 30 [3, 4, 5] ratings_average 3.8\n",
      "File data/scrapped_data/scrapped_data_White_15_30_ratings_average_[3, 4, 5]_3.8.json already exists\n",
      "Running actor for ['White'] 15 30 [3, 4, 5] ratings_average 4.2\n",
      "File data/scrapped_data/scrapped_data_White_15_30_ratings_average_[3, 4, 5]_4.2.json already exists\n"
     ]
    },
    {
     "name": "stderr",
     "output_type": "stream",
     "text": [
      "\n",
      "\n",
      "\n",
      "\n",
      "100%|████████████████████████████████████████████████████████████████████████████████████████████████████████████| 4/4 [00:00<00:00, 20189.19it/s]\u001b[A\u001b[A\u001b[A\u001b[A\n"
     ]
    },
    {
     "name": "stdout",
     "output_type": "stream",
     "text": [
      "Running actor for ['Rose'] 15 30 [3, 4, 5] ratings_average 1\n",
      "File data/scrapped_data/scrapped_data_Rose_15_30_ratings_average_[3, 4, 5]_1.json already exists\n",
      "Running actor for ['Rose'] 15 30 [3, 4, 5] ratings_average 3.2\n",
      "File data/scrapped_data/scrapped_data_Rose_15_30_ratings_average_[3, 4, 5]_3.2.json already exists\n",
      "Running actor for ['Rose'] 15 30 [3, 4, 5] ratings_average 3.8\n",
      "File data/scrapped_data/scrapped_data_Rose_15_30_ratings_average_[3, 4, 5]_3.8.json already exists\n",
      "Running actor for ['Rose'] 15 30 [3, 4, 5] ratings_average 4.2\n",
      "File data/scrapped_data/scrapped_data_Rose_15_30_ratings_average_[3, 4, 5]_4.2.json already exists\n"
     ]
    },
    {
     "name": "stderr",
     "output_type": "stream",
     "text": [
      "\n",
      "\n",
      "\n",
      "\n",
      "100%|█████████████████████████████████████████████████████████████████████████████████████████████████████████████| 4/4 [00:00<00:00, 8697.36it/s]\u001b[A\u001b[A\u001b[A\u001b[A\n"
     ]
    },
    {
     "name": "stdout",
     "output_type": "stream",
     "text": [
      "Running actor for ['Sparkling'] 15 30 [3, 4, 5] ratings_average 1\n",
      "File data/scrapped_data/scrapped_data_Sparkling_15_30_ratings_average_[3, 4, 5]_1.json already exists\n",
      "Running actor for ['Sparkling'] 15 30 [3, 4, 5] ratings_average 3.2\n",
      "File data/scrapped_data/scrapped_data_Sparkling_15_30_ratings_average_[3, 4, 5]_3.2.json already exists\n",
      "Running actor for ['Sparkling'] 15 30 [3, 4, 5] ratings_average 3.8\n",
      "File data/scrapped_data/scrapped_data_Sparkling_15_30_ratings_average_[3, 4, 5]_3.8.json already exists\n",
      "Running actor for ['Sparkling'] 15 30 [3, 4, 5] ratings_average 4.2\n",
      "File data/scrapped_data/scrapped_data_Sparkling_15_30_ratings_average_[3, 4, 5]_4.2.json already exists\n"
     ]
    },
    {
     "name": "stderr",
     "output_type": "stream",
     "text": [
      "\n",
      "\n",
      "\n",
      "\n",
      "100%|████████████████████████████████████████████████████████████████████████████████████████████████████████████| 4/4 [00:00<00:00, 14979.66it/s]\u001b[A\u001b[A\u001b[A\u001b[A\n"
     ]
    },
    {
     "name": "stdout",
     "output_type": "stream",
     "text": [
      "Running actor for ['Dessert'] 15 30 [3, 4, 5] ratings_average 1\n",
      "File data/scrapped_data/scrapped_data_Dessert_15_30_ratings_average_[3, 4, 5]_1.json already exists\n",
      "Running actor for ['Dessert'] 15 30 [3, 4, 5] ratings_average 3.2\n",
      "File data/scrapped_data/scrapped_data_Dessert_15_30_ratings_average_[3, 4, 5]_3.2.json already exists\n",
      "Running actor for ['Dessert'] 15 30 [3, 4, 5] ratings_average 3.8\n",
      "File data/scrapped_data/scrapped_data_Dessert_15_30_ratings_average_[3, 4, 5]_3.8.json already exists\n",
      "Running actor for ['Dessert'] 15 30 [3, 4, 5] ratings_average 4.2\n",
      "File data/scrapped_data/scrapped_data_Dessert_15_30_ratings_average_[3, 4, 5]_4.2.json already exists\n"
     ]
    },
    {
     "name": "stderr",
     "output_type": "stream",
     "text": [
      "\n",
      "\n",
      "\n",
      "\n",
      "100%|████████████████████████████████████████████████████████████████████████████████████████████████████████████| 4/4 [00:00<00:00, 15210.53it/s]\u001b[A\u001b[A\u001b[A\u001b[A\n",
      "100%|██████████████████████████████████████████████████████████████████████████████████████████████████████████████| 6/6 [00:00<00:00, 556.84it/s]\n"
     ]
    },
    {
     "name": "stdout",
     "output_type": "stream",
     "text": [
      "Running actor for ['Fortified'] 15 30 [3, 4, 5] ratings_average 1\n",
      "File data/scrapped_data/scrapped_data_Fortified_15_30_ratings_average_[3, 4, 5]_1.json already exists\n",
      "Running actor for ['Fortified'] 15 30 [3, 4, 5] ratings_average 3.2\n",
      "File data/scrapped_data/scrapped_data_Fortified_15_30_ratings_average_[3, 4, 5]_3.2.json already exists\n",
      "Running actor for ['Fortified'] 15 30 [3, 4, 5] ratings_average 3.8\n",
      "File data/scrapped_data/scrapped_data_Fortified_15_30_ratings_average_[3, 4, 5]_3.8.json already exists\n",
      "Running actor for ['Fortified'] 15 30 [3, 4, 5] ratings_average 4.2\n",
      "File data/scrapped_data/scrapped_data_Fortified_15_30_ratings_average_[3, 4, 5]_4.2.json already exists\n"
     ]
    },
    {
     "name": "stderr",
     "output_type": "stream",
     "text": [
      "\n",
      "\n",
      "\n",
      "  0%|                                                                                                                       | 0/6 [00:00<?, ?it/s]\u001b[A\u001b[A\u001b[A\n",
      "\n",
      "\n",
      "\n",
      "100%|████████████████████████████████████████████████████████████████████████████████████████████████████████████| 4/4 [00:00<00:00, 10987.04it/s]\u001b[A\u001b[A\u001b[A\u001b[A\n"
     ]
    },
    {
     "name": "stdout",
     "output_type": "stream",
     "text": [
      "Running actor for ['Red'] 30 50 [3, 4, 5] ratings_average 1\n",
      "File data/scrapped_data/scrapped_data_Red_30_50_ratings_average_[3, 4, 5]_1.json already exists\n",
      "Running actor for ['Red'] 30 50 [3, 4, 5] ratings_average 3.2\n",
      "File data/scrapped_data/scrapped_data_Red_30_50_ratings_average_[3, 4, 5]_3.2.json already exists\n",
      "Running actor for ['Red'] 30 50 [3, 4, 5] ratings_average 3.8\n",
      "File data/scrapped_data/scrapped_data_Red_30_50_ratings_average_[3, 4, 5]_3.8.json already exists\n",
      "Running actor for ['Red'] 30 50 [3, 4, 5] ratings_average 4.2\n",
      "File data/scrapped_data/scrapped_data_Red_30_50_ratings_average_[3, 4, 5]_4.2.json already exists\n"
     ]
    },
    {
     "name": "stderr",
     "output_type": "stream",
     "text": [
      "\n",
      "\n",
      "\n",
      "\n",
      "100%|█████████████████████████████████████████████████████████████████████████████████████████████████████████████| 4/4 [00:00<00:00, 9903.91it/s]\u001b[A\u001b[A\u001b[A\u001b[A\n"
     ]
    },
    {
     "name": "stdout",
     "output_type": "stream",
     "text": [
      "Running actor for ['White'] 30 50 [3, 4, 5] ratings_average 1\n",
      "File data/scrapped_data/scrapped_data_White_30_50_ratings_average_[3, 4, 5]_1.json already exists\n",
      "Running actor for ['White'] 30 50 [3, 4, 5] ratings_average 3.2\n",
      "File data/scrapped_data/scrapped_data_White_30_50_ratings_average_[3, 4, 5]_3.2.json already exists\n",
      "Running actor for ['White'] 30 50 [3, 4, 5] ratings_average 3.8\n",
      "File data/scrapped_data/scrapped_data_White_30_50_ratings_average_[3, 4, 5]_3.8.json already exists\n",
      "Running actor for ['White'] 30 50 [3, 4, 5] ratings_average 4.2\n",
      "File data/scrapped_data/scrapped_data_White_30_50_ratings_average_[3, 4, 5]_4.2.json already exists\n"
     ]
    },
    {
     "name": "stderr",
     "output_type": "stream",
     "text": [
      "\n",
      "\n",
      "\n",
      "\n",
      "100%|█████████████████████████████████████████████████████████████████████████████████████████████████████████████| 4/4 [00:00<00:00, 8148.24it/s]\u001b[A\u001b[A\u001b[A\u001b[A\n"
     ]
    },
    {
     "name": "stdout",
     "output_type": "stream",
     "text": [
      "Running actor for ['Rose'] 30 50 [3, 4, 5] ratings_average 1\n",
      "File data/scrapped_data/scrapped_data_Rose_30_50_ratings_average_[3, 4, 5]_1.json already exists\n",
      "Running actor for ['Rose'] 30 50 [3, 4, 5] ratings_average 3.2\n",
      "File data/scrapped_data/scrapped_data_Rose_30_50_ratings_average_[3, 4, 5]_3.2.json already exists\n",
      "Running actor for ['Rose'] 30 50 [3, 4, 5] ratings_average 3.8\n",
      "File data/scrapped_data/scrapped_data_Rose_30_50_ratings_average_[3, 4, 5]_3.8.json already exists\n",
      "Running actor for ['Rose'] 30 50 [3, 4, 5] ratings_average 4.2\n",
      "File data/scrapped_data/scrapped_data_Rose_30_50_ratings_average_[3, 4, 5]_4.2.json already exists\n"
     ]
    },
    {
     "name": "stderr",
     "output_type": "stream",
     "text": [
      "\n",
      "\n",
      "\n",
      "\n",
      "100%|████████████████████████████████████████████████████████████████████████████████████████████████████████████| 4/4 [00:00<00:00, 12895.63it/s]\u001b[A\u001b[A\u001b[A\u001b[A\n"
     ]
    },
    {
     "name": "stdout",
     "output_type": "stream",
     "text": [
      "Running actor for ['Sparkling'] 30 50 [3, 4, 5] ratings_average 1\n",
      "File data/scrapped_data/scrapped_data_Sparkling_30_50_ratings_average_[3, 4, 5]_1.json already exists\n",
      "Running actor for ['Sparkling'] 30 50 [3, 4, 5] ratings_average 3.2\n",
      "File data/scrapped_data/scrapped_data_Sparkling_30_50_ratings_average_[3, 4, 5]_3.2.json already exists\n",
      "Running actor for ['Sparkling'] 30 50 [3, 4, 5] ratings_average 3.8\n",
      "File data/scrapped_data/scrapped_data_Sparkling_30_50_ratings_average_[3, 4, 5]_3.8.json already exists\n",
      "Running actor for ['Sparkling'] 30 50 [3, 4, 5] ratings_average 4.2\n",
      "File data/scrapped_data/scrapped_data_Sparkling_30_50_ratings_average_[3, 4, 5]_4.2.json already exists\n"
     ]
    },
    {
     "name": "stderr",
     "output_type": "stream",
     "text": [
      "\n",
      "\n",
      "\n",
      "\n",
      "100%|████████████████████████████████████████████████████████████████████████████████████████████████████████████| 4/4 [00:00<00:00, 18600.02it/s]\u001b[A\u001b[A\u001b[A\u001b[A\n"
     ]
    },
    {
     "name": "stdout",
     "output_type": "stream",
     "text": [
      "Running actor for ['Dessert'] 30 50 [3, 4, 5] ratings_average 1\n",
      "File data/scrapped_data/scrapped_data_Dessert_30_50_ratings_average_[3, 4, 5]_1.json already exists\n",
      "Running actor for ['Dessert'] 30 50 [3, 4, 5] ratings_average 3.2\n",
      "File data/scrapped_data/scrapped_data_Dessert_30_50_ratings_average_[3, 4, 5]_3.2.json already exists\n",
      "Running actor for ['Dessert'] 30 50 [3, 4, 5] ratings_average 3.8\n",
      "File data/scrapped_data/scrapped_data_Dessert_30_50_ratings_average_[3, 4, 5]_3.8.json already exists\n",
      "Running actor for ['Dessert'] 30 50 [3, 4, 5] ratings_average 4.2\n",
      "File data/scrapped_data/scrapped_data_Dessert_30_50_ratings_average_[3, 4, 5]_4.2.json already exists\n"
     ]
    },
    {
     "name": "stderr",
     "output_type": "stream",
     "text": [
      "\n",
      "\n",
      "\n",
      "\n",
      "100%|████████████████████████████████████████████████████████████████████████████████████████████████████████████| 4/4 [00:00<00:00, 16131.94it/s]\u001b[A\u001b[A\u001b[A\u001b[A\n",
      "100%|██████████████████████████████████████████████████████████████████████████████████████████████████████████████| 6/6 [00:00<00:00, 557.11it/s]\n"
     ]
    },
    {
     "name": "stdout",
     "output_type": "stream",
     "text": [
      "Running actor for ['Fortified'] 30 50 [3, 4, 5] ratings_average 1\n",
      "File data/scrapped_data/scrapped_data_Fortified_30_50_ratings_average_[3, 4, 5]_1.json already exists\n",
      "Running actor for ['Fortified'] 30 50 [3, 4, 5] ratings_average 3.2\n",
      "File data/scrapped_data/scrapped_data_Fortified_30_50_ratings_average_[3, 4, 5]_3.2.json already exists\n",
      "Running actor for ['Fortified'] 30 50 [3, 4, 5] ratings_average 3.8\n",
      "File data/scrapped_data/scrapped_data_Fortified_30_50_ratings_average_[3, 4, 5]_3.8.json already exists\n",
      "Running actor for ['Fortified'] 30 50 [3, 4, 5] ratings_average 4.2\n",
      "File data/scrapped_data/scrapped_data_Fortified_30_50_ratings_average_[3, 4, 5]_4.2.json already exists\n"
     ]
    },
    {
     "name": "stderr",
     "output_type": "stream",
     "text": [
      "\n",
      "\n",
      "\n",
      "  0%|                                                                                                                       | 0/6 [00:00<?, ?it/s]\u001b[A\u001b[A\u001b[A\n",
      "\n",
      "\n",
      "\n",
      "100%|█████████████████████████████████████████████████████████████████████████████████████████████████████████████| 4/4 [00:00<00:00, 5586.82it/s]\u001b[A\u001b[A\u001b[A\u001b[A\n"
     ]
    },
    {
     "name": "stdout",
     "output_type": "stream",
     "text": [
      "Running actor for ['Red'] 50 100 [3, 4, 5] ratings_average 1\n",
      "File data/scrapped_data/scrapped_data_Red_50_100_ratings_average_[3, 4, 5]_1.json already exists\n",
      "Running actor for ['Red'] 50 100 [3, 4, 5] ratings_average 3.2\n",
      "File data/scrapped_data/scrapped_data_Red_50_100_ratings_average_[3, 4, 5]_3.2.json already exists\n",
      "Running actor for ['Red'] 50 100 [3, 4, 5] ratings_average 3.8\n",
      "File data/scrapped_data/scrapped_data_Red_50_100_ratings_average_[3, 4, 5]_3.8.json already exists\n",
      "Running actor for ['Red'] 50 100 [3, 4, 5] ratings_average 4.2\n",
      "File data/scrapped_data/scrapped_data_Red_50_100_ratings_average_[3, 4, 5]_4.2.json already exists\n"
     ]
    },
    {
     "name": "stderr",
     "output_type": "stream",
     "text": [
      "\n",
      "\n",
      "\n",
      "\n",
      "100%|█████████████████████████████████████████████████████████████████████████████████████████████████████████████| 4/4 [00:00<00:00, 9393.74it/s]\u001b[A\u001b[A\u001b[A\u001b[A\n"
     ]
    },
    {
     "name": "stdout",
     "output_type": "stream",
     "text": [
      "Running actor for ['White'] 50 100 [3, 4, 5] ratings_average 1\n",
      "File data/scrapped_data/scrapped_data_White_50_100_ratings_average_[3, 4, 5]_1.json already exists\n",
      "Running actor for ['White'] 50 100 [3, 4, 5] ratings_average 3.2\n",
      "File data/scrapped_data/scrapped_data_White_50_100_ratings_average_[3, 4, 5]_3.2.json already exists\n",
      "Running actor for ['White'] 50 100 [3, 4, 5] ratings_average 3.8\n",
      "File data/scrapped_data/scrapped_data_White_50_100_ratings_average_[3, 4, 5]_3.8.json already exists\n",
      "Running actor for ['White'] 50 100 [3, 4, 5] ratings_average 4.2\n",
      "File data/scrapped_data/scrapped_data_White_50_100_ratings_average_[3, 4, 5]_4.2.json already exists\n"
     ]
    },
    {
     "name": "stderr",
     "output_type": "stream",
     "text": [
      "\n",
      "\n",
      "\n",
      "\n",
      "100%|█████████████████████████████████████████████████████████████████████████████████████████████████████████████| 4/4 [00:00<00:00, 7951.29it/s]\u001b[A\u001b[A\u001b[A\u001b[A\n"
     ]
    },
    {
     "name": "stdout",
     "output_type": "stream",
     "text": [
      "Running actor for ['Rose'] 50 100 [3, 4, 5] ratings_average 1\n",
      "File data/scrapped_data/scrapped_data_Rose_50_100_ratings_average_[3, 4, 5]_1.json already exists\n",
      "Running actor for ['Rose'] 50 100 [3, 4, 5] ratings_average 3.2\n",
      "File data/scrapped_data/scrapped_data_Rose_50_100_ratings_average_[3, 4, 5]_3.2.json already exists\n",
      "Running actor for ['Rose'] 50 100 [3, 4, 5] ratings_average 3.8\n",
      "File data/scrapped_data/scrapped_data_Rose_50_100_ratings_average_[3, 4, 5]_3.8.json already exists\n",
      "Running actor for ['Rose'] 50 100 [3, 4, 5] ratings_average 4.2\n",
      "File data/scrapped_data/scrapped_data_Rose_50_100_ratings_average_[3, 4, 5]_4.2.json already exists\n"
     ]
    },
    {
     "name": "stderr",
     "output_type": "stream",
     "text": [
      "\n",
      "\n",
      "\n",
      "\n",
      "100%|█████████████████████████████████████████████████████████████████████████████████████████████████████████████| 4/4 [00:00<00:00, 8643.59it/s]\u001b[A\u001b[A\u001b[A\u001b[A\n"
     ]
    },
    {
     "name": "stdout",
     "output_type": "stream",
     "text": [
      "Running actor for ['Sparkling'] 50 100 [3, 4, 5] ratings_average 1\n",
      "File data/scrapped_data/scrapped_data_Sparkling_50_100_ratings_average_[3, 4, 5]_1.json already exists\n",
      "Running actor for ['Sparkling'] 50 100 [3, 4, 5] ratings_average 3.2\n",
      "File data/scrapped_data/scrapped_data_Sparkling_50_100_ratings_average_[3, 4, 5]_3.2.json already exists\n",
      "Running actor for ['Sparkling'] 50 100 [3, 4, 5] ratings_average 3.8\n",
      "File data/scrapped_data/scrapped_data_Sparkling_50_100_ratings_average_[3, 4, 5]_3.8.json already exists\n",
      "Running actor for ['Sparkling'] 50 100 [3, 4, 5] ratings_average 4.2\n",
      "File data/scrapped_data/scrapped_data_Sparkling_50_100_ratings_average_[3, 4, 5]_4.2.json already exists\n"
     ]
    },
    {
     "name": "stderr",
     "output_type": "stream",
     "text": [
      "\n",
      "\n",
      "\n",
      "\n",
      "100%|████████████████████████████████████████████████████████████████████████████████████████████████████████████| 4/4 [00:00<00:00, 12192.74it/s]\u001b[A\u001b[A\u001b[A\u001b[A\n"
     ]
    },
    {
     "name": "stdout",
     "output_type": "stream",
     "text": [
      "Running actor for ['Dessert'] 50 100 [3, 4, 5] ratings_average 1\n",
      "File data/scrapped_data/scrapped_data_Dessert_50_100_ratings_average_[3, 4, 5]_1.json already exists\n",
      "Running actor for ['Dessert'] 50 100 [3, 4, 5] ratings_average 3.2\n",
      "File data/scrapped_data/scrapped_data_Dessert_50_100_ratings_average_[3, 4, 5]_3.2.json already exists\n",
      "Running actor for ['Dessert'] 50 100 [3, 4, 5] ratings_average 3.8\n",
      "File data/scrapped_data/scrapped_data_Dessert_50_100_ratings_average_[3, 4, 5]_3.8.json already exists\n",
      "Running actor for ['Dessert'] 50 100 [3, 4, 5] ratings_average 4.2\n",
      "File data/scrapped_data/scrapped_data_Dessert_50_100_ratings_average_[3, 4, 5]_4.2.json already exists\n"
     ]
    },
    {
     "name": "stderr",
     "output_type": "stream",
     "text": [
      "\n",
      "\n",
      "\n",
      "\n",
      "100%|█████████████████████████████████████████████████████████████████████████████████████████████████████████████| 4/4 [00:00<00:00, 6172.63it/s]\u001b[A\u001b[A\u001b[A\u001b[A\n",
      "100%|██████████████████████████████████████████████████████████████████████████████████████████████████████████████| 6/6 [00:00<00:00, 506.93it/s]\n"
     ]
    },
    {
     "name": "stdout",
     "output_type": "stream",
     "text": [
      "Running actor for ['Fortified'] 50 100 [3, 4, 5] ratings_average 1\n",
      "File data/scrapped_data/scrapped_data_Fortified_50_100_ratings_average_[3, 4, 5]_1.json already exists\n",
      "Running actor for ['Fortified'] 50 100 [3, 4, 5] ratings_average 3.2\n",
      "File data/scrapped_data/scrapped_data_Fortified_50_100_ratings_average_[3, 4, 5]_3.2.json already exists\n",
      "Running actor for ['Fortified'] 50 100 [3, 4, 5] ratings_average 3.8\n",
      "File data/scrapped_data/scrapped_data_Fortified_50_100_ratings_average_[3, 4, 5]_3.8.json already exists\n",
      "Running actor for ['Fortified'] 50 100 [3, 4, 5] ratings_average 4.2\n",
      "File data/scrapped_data/scrapped_data_Fortified_50_100_ratings_average_[3, 4, 5]_4.2.json already exists\n"
     ]
    },
    {
     "name": "stderr",
     "output_type": "stream",
     "text": [
      "\n",
      "\n",
      "\n",
      "  0%|                                                                                                                       | 0/6 [00:00<?, ?it/s]\u001b[A\u001b[A\u001b[A\n",
      "\n",
      "\n",
      "\n",
      "100%|████████████████████████████████████████████████████████████████████████████████████████████████████████████| 4/4 [00:00<00:00, 10472.67it/s]\u001b[A\u001b[A\u001b[A\u001b[A\n"
     ]
    },
    {
     "name": "stdout",
     "output_type": "stream",
     "text": [
      "Running actor for ['Red'] 100 250 [3, 4, 5] ratings_average 1\n",
      "File data/scrapped_data/scrapped_data_Red_100_250_ratings_average_[3, 4, 5]_1.json already exists\n",
      "Running actor for ['Red'] 100 250 [3, 4, 5] ratings_average 3.2\n",
      "File data/scrapped_data/scrapped_data_Red_100_250_ratings_average_[3, 4, 5]_3.2.json already exists\n",
      "Running actor for ['Red'] 100 250 [3, 4, 5] ratings_average 3.8\n",
      "File data/scrapped_data/scrapped_data_Red_100_250_ratings_average_[3, 4, 5]_3.8.json already exists\n",
      "Running actor for ['Red'] 100 250 [3, 4, 5] ratings_average 4.2\n",
      "File data/scrapped_data/scrapped_data_Red_100_250_ratings_average_[3, 4, 5]_4.2.json already exists\n"
     ]
    },
    {
     "name": "stderr",
     "output_type": "stream",
     "text": [
      "\n",
      "\n",
      "\n",
      "\n",
      "100%|█████████████████████████████████████████████████████████████████████████████████████████████████████████████| 4/4 [00:00<00:00, 9664.29it/s]\u001b[A\u001b[A\u001b[A\u001b[A\n"
     ]
    },
    {
     "name": "stdout",
     "output_type": "stream",
     "text": [
      "Running actor for ['White'] 100 250 [3, 4, 5] ratings_average 1\n",
      "File data/scrapped_data/scrapped_data_White_100_250_ratings_average_[3, 4, 5]_1.json already exists\n",
      "Running actor for ['White'] 100 250 [3, 4, 5] ratings_average 3.2\n",
      "File data/scrapped_data/scrapped_data_White_100_250_ratings_average_[3, 4, 5]_3.2.json already exists\n",
      "Running actor for ['White'] 100 250 [3, 4, 5] ratings_average 3.8\n",
      "File data/scrapped_data/scrapped_data_White_100_250_ratings_average_[3, 4, 5]_3.8.json already exists\n",
      "Running actor for ['White'] 100 250 [3, 4, 5] ratings_average 4.2\n",
      "File data/scrapped_data/scrapped_data_White_100_250_ratings_average_[3, 4, 5]_4.2.json already exists\n"
     ]
    },
    {
     "name": "stderr",
     "output_type": "stream",
     "text": [
      "\n",
      "\n",
      "\n",
      "\n",
      "100%|█████████████████████████████████████████████████████████████████████████████████████████████████████████████| 4/4 [00:00<00:00, 7489.83it/s]\u001b[A\u001b[A\u001b[A\u001b[A\n"
     ]
    },
    {
     "name": "stdout",
     "output_type": "stream",
     "text": [
      "Running actor for ['Rose'] 100 250 [3, 4, 5] ratings_average 1\n",
      "File data/scrapped_data/scrapped_data_Rose_100_250_ratings_average_[3, 4, 5]_1.json already exists\n",
      "Running actor for ['Rose'] 100 250 [3, 4, 5] ratings_average 3.2\n",
      "File data/scrapped_data/scrapped_data_Rose_100_250_ratings_average_[3, 4, 5]_3.2.json already exists\n",
      "Running actor for ['Rose'] 100 250 [3, 4, 5] ratings_average 3.8\n",
      "File data/scrapped_data/scrapped_data_Rose_100_250_ratings_average_[3, 4, 5]_3.8.json already exists\n",
      "Running actor for ['Rose'] 100 250 [3, 4, 5] ratings_average 4.2\n",
      "File data/scrapped_data/scrapped_data_Rose_100_250_ratings_average_[3, 4, 5]_4.2.json already exists\n"
     ]
    },
    {
     "name": "stderr",
     "output_type": "stream",
     "text": [
      "\n",
      "\n",
      "\n",
      "\n",
      "100%|████████████████████████████████████████████████████████████████████████████████████████████████████████████| 4/4 [00:00<00:00, 12501.65it/s]\u001b[A\u001b[A\u001b[A\u001b[A\n"
     ]
    },
    {
     "name": "stdout",
     "output_type": "stream",
     "text": [
      "Running actor for ['Sparkling'] 100 250 [3, 4, 5] ratings_average 1\n",
      "File data/scrapped_data/scrapped_data_Sparkling_100_250_ratings_average_[3, 4, 5]_1.json already exists\n",
      "Running actor for ['Sparkling'] 100 250 [3, 4, 5] ratings_average 3.2\n",
      "File data/scrapped_data/scrapped_data_Sparkling_100_250_ratings_average_[3, 4, 5]_3.2.json already exists\n",
      "Running actor for ['Sparkling'] 100 250 [3, 4, 5] ratings_average 3.8\n",
      "File data/scrapped_data/scrapped_data_Sparkling_100_250_ratings_average_[3, 4, 5]_3.8.json already exists\n",
      "Running actor for ['Sparkling'] 100 250 [3, 4, 5] ratings_average 4.2\n",
      "File data/scrapped_data/scrapped_data_Sparkling_100_250_ratings_average_[3, 4, 5]_4.2.json already exists\n"
     ]
    },
    {
     "name": "stderr",
     "output_type": "stream",
     "text": [
      "\n",
      "\n",
      "\n",
      "\n",
      "100%|████████████████████████████████████████████████████████████████████████████████████████████████████████████| 4/4 [00:00<00:00, 10125.05it/s]\u001b[A\u001b[A\u001b[A\u001b[A\n"
     ]
    },
    {
     "name": "stdout",
     "output_type": "stream",
     "text": [
      "Running actor for ['Dessert'] 100 250 [3, 4, 5] ratings_average 1\n",
      "File data/scrapped_data/scrapped_data_Dessert_100_250_ratings_average_[3, 4, 5]_1.json already exists\n",
      "Running actor for ['Dessert'] 100 250 [3, 4, 5] ratings_average 3.2\n",
      "File data/scrapped_data/scrapped_data_Dessert_100_250_ratings_average_[3, 4, 5]_3.2.json already exists\n",
      "Running actor for ['Dessert'] 100 250 [3, 4, 5] ratings_average 3.8\n",
      "File data/scrapped_data/scrapped_data_Dessert_100_250_ratings_average_[3, 4, 5]_3.8.json already exists\n",
      "Running actor for ['Dessert'] 100 250 [3, 4, 5] ratings_average 4.2\n",
      "File data/scrapped_data/scrapped_data_Dessert_100_250_ratings_average_[3, 4, 5]_4.2.json already exists\n"
     ]
    },
    {
     "name": "stderr",
     "output_type": "stream",
     "text": [
      "\n",
      "\n",
      "\n",
      "\n",
      "100%|█████████████████████████████████████████████████████████████████████████████████████████████████████████████| 4/4 [00:00<00:00, 7778.03it/s]\u001b[A\u001b[A\u001b[A\u001b[A\n",
      "100%|██████████████████████████████████████████████████████████████████████████████████████████████████████████████| 6/6 [00:00<00:00, 559.54it/s]\n",
      "100%|███████████████████████████████████████████████████████████████████████████████████████████████████████████████| 5/5 [00:00<00:00, 77.70it/s]\n"
     ]
    },
    {
     "name": "stdout",
     "output_type": "stream",
     "text": [
      "Running actor for ['Fortified'] 100 250 [3, 4, 5] ratings_average 1\n",
      "File data/scrapped_data/scrapped_data_Fortified_100_250_ratings_average_[3, 4, 5]_1.json already exists\n",
      "Running actor for ['Fortified'] 100 250 [3, 4, 5] ratings_average 3.2\n",
      "File data/scrapped_data/scrapped_data_Fortified_100_250_ratings_average_[3, 4, 5]_3.2.json already exists\n",
      "Running actor for ['Fortified'] 100 250 [3, 4, 5] ratings_average 3.8\n",
      "File data/scrapped_data/scrapped_data_Fortified_100_250_ratings_average_[3, 4, 5]_3.8.json already exists\n",
      "Running actor for ['Fortified'] 100 250 [3, 4, 5] ratings_average 4.2\n",
      "File data/scrapped_data/scrapped_data_Fortified_100_250_ratings_average_[3, 4, 5]_4.2.json already exists\n"
     ]
    },
    {
     "name": "stderr",
     "output_type": "stream",
     "text": [
      "\n",
      "\n",
      "  0%|                                                                                                                       | 0/5 [00:00<?, ?it/s]\u001b[A\u001b[A\n",
      "\n",
      "\n",
      "100%|████████████████████████████████████████████████████████████████████████████████████████████████████████████| 6/6 [00:00<00:00, 10168.01it/s]\u001b[A\u001b[A\u001b[A\n"
     ]
    },
    {
     "name": "stdout",
     "output_type": "stream",
     "text": [
      "File data/scrapped_data/scrapped_data_Red_0_15_ratings_average_[1, 2]_1.json already exists\n",
      "File data/scrapped_data/scrapped_data_White_0_15_ratings_average_[1, 2]_1.json already exists\n",
      "File data/scrapped_data/scrapped_data_Rose_0_15_ratings_average_[1, 2]_1.json already exists\n",
      "File data/scrapped_data/scrapped_data_Sparkling_0_15_ratings_average_[1, 2]_1.json already exists\n",
      "File data/scrapped_data/scrapped_data_Dessert_0_15_ratings_average_[1, 2]_1.json already exists\n",
      "File data/scrapped_data/scrapped_data_Fortified_0_15_ratings_average_[1, 2]_1.json already exists\n"
     ]
    },
    {
     "name": "stderr",
     "output_type": "stream",
     "text": [
      "\n",
      "\n",
      "\n",
      "100%|████████████████████████████████████████████████████████████████████████████████████████████████████████████| 6/6 [00:00<00:00, 15877.49it/s]\u001b[A\u001b[A\u001b[A\n"
     ]
    },
    {
     "name": "stdout",
     "output_type": "stream",
     "text": [
      "File data/scrapped_data/scrapped_data_Red_15_30_ratings_average_[1, 2]_1.json already exists\n",
      "File data/scrapped_data/scrapped_data_White_15_30_ratings_average_[1, 2]_1.json already exists\n",
      "File data/scrapped_data/scrapped_data_Rose_15_30_ratings_average_[1, 2]_1.json already exists\n",
      "File data/scrapped_data/scrapped_data_Sparkling_15_30_ratings_average_[1, 2]_1.json already exists\n",
      "File data/scrapped_data/scrapped_data_Dessert_15_30_ratings_average_[1, 2]_1.json already exists\n",
      "File data/scrapped_data/scrapped_data_Fortified_15_30_ratings_average_[1, 2]_1.json already exists\n"
     ]
    },
    {
     "name": "stderr",
     "output_type": "stream",
     "text": [
      "\n",
      "\n",
      "\n",
      "100%|████████████████████████████████████████████████████████████████████████████████████████████████████████████| 6/6 [00:00<00:00, 20004.63it/s]\u001b[A\u001b[A\u001b[A\n"
     ]
    },
    {
     "name": "stdout",
     "output_type": "stream",
     "text": [
      "File data/scrapped_data/scrapped_data_Red_30_50_ratings_average_[1, 2]_1.json already exists\n",
      "File data/scrapped_data/scrapped_data_White_30_50_ratings_average_[1, 2]_1.json already exists\n",
      "File data/scrapped_data/scrapped_data_Rose_30_50_ratings_average_[1, 2]_1.json already exists\n",
      "File data/scrapped_data/scrapped_data_Sparkling_30_50_ratings_average_[1, 2]_1.json already exists\n",
      "File data/scrapped_data/scrapped_data_Dessert_30_50_ratings_average_[1, 2]_1.json already exists\n",
      "File data/scrapped_data/scrapped_data_Fortified_30_50_ratings_average_[1, 2]_1.json already exists\n"
     ]
    },
    {
     "name": "stderr",
     "output_type": "stream",
     "text": [
      "\n",
      "\n",
      "\n",
      "100%|████████████████████████████████████████████████████████████████████████████████████████████████████████████| 6/6 [00:00<00:00, 32430.19it/s]\u001b[A\u001b[A\u001b[A\n"
     ]
    },
    {
     "name": "stdout",
     "output_type": "stream",
     "text": [
      "File data/scrapped_data/scrapped_data_Red_50_100_ratings_average_[1, 2]_1.json already exists\n",
      "File data/scrapped_data/scrapped_data_White_50_100_ratings_average_[1, 2]_1.json already exists\n",
      "File data/scrapped_data/scrapped_data_Rose_50_100_ratings_average_[1, 2]_1.json already exists\n",
      "File data/scrapped_data/scrapped_data_Sparkling_50_100_ratings_average_[1, 2]_1.json already exists\n",
      "File data/scrapped_data/scrapped_data_Dessert_50_100_ratings_average_[1, 2]_1.json already exists\n",
      "File data/scrapped_data/scrapped_data_Fortified_50_100_ratings_average_[1, 2]_1.json already exists\n"
     ]
    },
    {
     "name": "stderr",
     "output_type": "stream",
     "text": [
      "\n",
      "\n",
      "\n",
      "100%|████████████████████████████████████████████████████████████████████████████████████████████████████████████| 6/6 [00:00<00:00, 12710.01it/s]\u001b[A\u001b[A\u001b[A\n",
      "100%|██████████████████████████████████████████████████████████████████████████████████████████████████████████████| 5/5 [00:00<00:00, 604.44it/s]\n",
      "100%|███████████████████████████████████████████████████████████████████████████████████████████████████████████████| 2/2 [00:00<00:00, 26.33it/s]\n"
     ]
    },
    {
     "name": "stdout",
     "output_type": "stream",
     "text": [
      "File data/scrapped_data/scrapped_data_Red_100_250_ratings_average_[1, 2]_1.json already exists\n",
      "File data/scrapped_data/scrapped_data_White_100_250_ratings_average_[1, 2]_1.json already exists\n",
      "File data/scrapped_data/scrapped_data_Rose_100_250_ratings_average_[1, 2]_1.json already exists\n",
      "File data/scrapped_data/scrapped_data_Sparkling_100_250_ratings_average_[1, 2]_1.json already exists\n",
      "File data/scrapped_data/scrapped_data_Dessert_100_250_ratings_average_[1, 2]_1.json already exists\n",
      "File data/scrapped_data/scrapped_data_Fortified_100_250_ratings_average_[1, 2]_1.json already exists\n"
     ]
    },
    {
     "name": "stderr",
     "output_type": "stream",
     "text": [
      "\n",
      "  0%|                                                                                                                       | 0/2 [00:00<?, ?it/s]\u001b[A\n",
      "\n",
      "  0%|                                                                                                                       | 0/5 [00:00<?, ?it/s]\u001b[A\u001b[A\n",
      "\n",
      "\n",
      "  0%|                                                                                                                       | 0/6 [00:00<?, ?it/s]\u001b[A\u001b[A\u001b[A\n",
      "\n",
      "\n",
      "\n",
      "100%|████████████████████████████████████████████████████████████████████████████████████████████████████████████| 4/4 [00:00<00:00, 13076.55it/s]\u001b[A\u001b[A\u001b[A\u001b[A\n"
     ]
    },
    {
     "name": "stdout",
     "output_type": "stream",
     "text": [
      "Running actor for ['Red'] 0 15 [3, 4, 5] ratings_count 1\n",
      "File data/scrapped_data/scrapped_data_Red_0_15_ratings_count_[3, 4, 5]_1.json already exists\n",
      "Running actor for ['Red'] 0 15 [3, 4, 5] ratings_count 3.2\n",
      "File data/scrapped_data/scrapped_data_Red_0_15_ratings_count_[3, 4, 5]_3.2.json already exists\n",
      "Running actor for ['Red'] 0 15 [3, 4, 5] ratings_count 3.8\n",
      "File data/scrapped_data/scrapped_data_Red_0_15_ratings_count_[3, 4, 5]_3.8.json already exists\n",
      "Running actor for ['Red'] 0 15 [3, 4, 5] ratings_count 4.2\n",
      "File data/scrapped_data/scrapped_data_Red_0_15_ratings_count_[3, 4, 5]_4.2.json already exists\n"
     ]
    },
    {
     "name": "stderr",
     "output_type": "stream",
     "text": [
      "\n",
      "\n",
      "\n",
      "\n",
      "100%|████████████████████████████████████████████████████████████████████████████████████████████████████████████| 4/4 [00:00<00:00, 15406.08it/s]\u001b[A\u001b[A\u001b[A\u001b[A\n"
     ]
    },
    {
     "name": "stdout",
     "output_type": "stream",
     "text": [
      "Running actor for ['White'] 0 15 [3, 4, 5] ratings_count 1\n",
      "File data/scrapped_data/scrapped_data_White_0_15_ratings_count_[3, 4, 5]_1.json already exists\n",
      "Running actor for ['White'] 0 15 [3, 4, 5] ratings_count 3.2\n",
      "File data/scrapped_data/scrapped_data_White_0_15_ratings_count_[3, 4, 5]_3.2.json already exists\n",
      "Running actor for ['White'] 0 15 [3, 4, 5] ratings_count 3.8\n",
      "File data/scrapped_data/scrapped_data_White_0_15_ratings_count_[3, 4, 5]_3.8.json already exists\n",
      "Running actor for ['White'] 0 15 [3, 4, 5] ratings_count 4.2\n",
      "File data/scrapped_data/scrapped_data_White_0_15_ratings_count_[3, 4, 5]_4.2.json already exists\n"
     ]
    },
    {
     "name": "stderr",
     "output_type": "stream",
     "text": [
      "\n",
      "\n",
      "\n",
      "\n",
      "100%|████████████████████████████████████████████████████████████████████████████████████████████████████████████| 4/4 [00:00<00:00, 10782.27it/s]\u001b[A\u001b[A\u001b[A\u001b[A\n"
     ]
    },
    {
     "name": "stdout",
     "output_type": "stream",
     "text": [
      "Running actor for ['Rose'] 0 15 [3, 4, 5] ratings_count 1\n",
      "File data/scrapped_data/scrapped_data_Rose_0_15_ratings_count_[3, 4, 5]_1.json already exists\n",
      "Running actor for ['Rose'] 0 15 [3, 4, 5] ratings_count 3.2\n",
      "File data/scrapped_data/scrapped_data_Rose_0_15_ratings_count_[3, 4, 5]_3.2.json already exists\n",
      "Running actor for ['Rose'] 0 15 [3, 4, 5] ratings_count 3.8\n",
      "File data/scrapped_data/scrapped_data_Rose_0_15_ratings_count_[3, 4, 5]_3.8.json already exists\n",
      "Running actor for ['Rose'] 0 15 [3, 4, 5] ratings_count 4.2\n",
      "File data/scrapped_data/scrapped_data_Rose_0_15_ratings_count_[3, 4, 5]_4.2.json already exists\n"
     ]
    },
    {
     "name": "stderr",
     "output_type": "stream",
     "text": [
      "\n",
      "\n",
      "\n",
      "\n",
      "100%|████████████████████████████████████████████████████████████████████████████████████████████████████████████| 4/4 [00:00<00:00, 21372.25it/s]\u001b[A\u001b[A\u001b[A\u001b[A\n"
     ]
    },
    {
     "name": "stdout",
     "output_type": "stream",
     "text": [
      "Running actor for ['Sparkling'] 0 15 [3, 4, 5] ratings_count 1\n",
      "File data/scrapped_data/scrapped_data_Sparkling_0_15_ratings_count_[3, 4, 5]_1.json already exists\n",
      "Running actor for ['Sparkling'] 0 15 [3, 4, 5] ratings_count 3.2\n",
      "File data/scrapped_data/scrapped_data_Sparkling_0_15_ratings_count_[3, 4, 5]_3.2.json already exists\n",
      "Running actor for ['Sparkling'] 0 15 [3, 4, 5] ratings_count 3.8\n",
      "File data/scrapped_data/scrapped_data_Sparkling_0_15_ratings_count_[3, 4, 5]_3.8.json already exists\n",
      "Running actor for ['Sparkling'] 0 15 [3, 4, 5] ratings_count 4.2\n",
      "File data/scrapped_data/scrapped_data_Sparkling_0_15_ratings_count_[3, 4, 5]_4.2.json already exists\n"
     ]
    },
    {
     "name": "stderr",
     "output_type": "stream",
     "text": [
      "\n",
      "\n",
      "\n",
      "\n",
      "100%|████████████████████████████████████████████████████████████████████████████████████████████████████████████| 4/4 [00:00<00:00, 13831.18it/s]\u001b[A\u001b[A\u001b[A\u001b[A\n"
     ]
    },
    {
     "name": "stdout",
     "output_type": "stream",
     "text": [
      "Running actor for ['Dessert'] 0 15 [3, 4, 5] ratings_count 1\n",
      "File data/scrapped_data/scrapped_data_Dessert_0_15_ratings_count_[3, 4, 5]_1.json already exists\n",
      "Running actor for ['Dessert'] 0 15 [3, 4, 5] ratings_count 3.2\n",
      "File data/scrapped_data/scrapped_data_Dessert_0_15_ratings_count_[3, 4, 5]_3.2.json already exists\n",
      "Running actor for ['Dessert'] 0 15 [3, 4, 5] ratings_count 3.8\n",
      "File data/scrapped_data/scrapped_data_Dessert_0_15_ratings_count_[3, 4, 5]_3.8.json already exists\n",
      "Running actor for ['Dessert'] 0 15 [3, 4, 5] ratings_count 4.2\n",
      "File data/scrapped_data/scrapped_data_Dessert_0_15_ratings_count_[3, 4, 5]_4.2.json already exists\n"
     ]
    },
    {
     "name": "stderr",
     "output_type": "stream",
     "text": [
      "\n",
      "\n",
      "\n",
      "\n",
      "100%|████████████████████████████████████████████████████████████████████████████████████████████████████████████| 4/4 [00:00<00:00, 16147.46it/s]\u001b[A\u001b[A\u001b[A\u001b[A\n",
      "100%|██████████████████████████████████████████████████████████████████████████████████████████████████████████████| 6/6 [00:00<00:00, 676.23it/s]\n"
     ]
    },
    {
     "name": "stdout",
     "output_type": "stream",
     "text": [
      "Running actor for ['Fortified'] 0 15 [3, 4, 5] ratings_count 1\n",
      "File data/scrapped_data/scrapped_data_Fortified_0_15_ratings_count_[3, 4, 5]_1.json already exists\n",
      "Running actor for ['Fortified'] 0 15 [3, 4, 5] ratings_count 3.2\n",
      "File data/scrapped_data/scrapped_data_Fortified_0_15_ratings_count_[3, 4, 5]_3.2.json already exists\n",
      "Running actor for ['Fortified'] 0 15 [3, 4, 5] ratings_count 3.8\n",
      "File data/scrapped_data/scrapped_data_Fortified_0_15_ratings_count_[3, 4, 5]_3.8.json already exists\n",
      "Running actor for ['Fortified'] 0 15 [3, 4, 5] ratings_count 4.2\n",
      "File data/scrapped_data/scrapped_data_Fortified_0_15_ratings_count_[3, 4, 5]_4.2.json already exists\n"
     ]
    },
    {
     "name": "stderr",
     "output_type": "stream",
     "text": [
      "\n",
      "\n",
      "\n",
      "  0%|                                                                                                                       | 0/6 [00:00<?, ?it/s]\u001b[A\u001b[A\u001b[A\n",
      "\n",
      "\n",
      "\n",
      "100%|████████████████████████████████████████████████████████████████████████████████████████████████████████████| 4/4 [00:00<00:00, 18416.26it/s]\u001b[A\u001b[A\u001b[A\u001b[A\n"
     ]
    },
    {
     "name": "stdout",
     "output_type": "stream",
     "text": [
      "Running actor for ['Red'] 15 30 [3, 4, 5] ratings_count 1\n",
      "File data/scrapped_data/scrapped_data_Red_15_30_ratings_count_[3, 4, 5]_1.json already exists\n",
      "Running actor for ['Red'] 15 30 [3, 4, 5] ratings_count 3.2\n",
      "File data/scrapped_data/scrapped_data_Red_15_30_ratings_count_[3, 4, 5]_3.2.json already exists\n",
      "Running actor for ['Red'] 15 30 [3, 4, 5] ratings_count 3.8\n",
      "File data/scrapped_data/scrapped_data_Red_15_30_ratings_count_[3, 4, 5]_3.8.json already exists\n",
      "Running actor for ['Red'] 15 30 [3, 4, 5] ratings_count 4.2\n",
      "File data/scrapped_data/scrapped_data_Red_15_30_ratings_count_[3, 4, 5]_4.2.json already exists\n"
     ]
    },
    {
     "name": "stderr",
     "output_type": "stream",
     "text": [
      "\n",
      "\n",
      "\n",
      "\n",
      "100%|█████████████████████████████████████████████████████████████████████████████████████████████████████████████| 4/4 [00:00<00:00, 9945.00it/s]\u001b[A\u001b[A\u001b[A\u001b[A\n"
     ]
    },
    {
     "name": "stdout",
     "output_type": "stream",
     "text": [
      "Running actor for ['White'] 15 30 [3, 4, 5] ratings_count 1\n",
      "File data/scrapped_data/scrapped_data_White_15_30_ratings_count_[3, 4, 5]_1.json already exists\n",
      "Running actor for ['White'] 15 30 [3, 4, 5] ratings_count 3.2\n",
      "File data/scrapped_data/scrapped_data_White_15_30_ratings_count_[3, 4, 5]_3.2.json already exists\n",
      "Running actor for ['White'] 15 30 [3, 4, 5] ratings_count 3.8\n",
      "File data/scrapped_data/scrapped_data_White_15_30_ratings_count_[3, 4, 5]_3.8.json already exists\n",
      "Running actor for ['White'] 15 30 [3, 4, 5] ratings_count 4.2\n",
      "File data/scrapped_data/scrapped_data_White_15_30_ratings_count_[3, 4, 5]_4.2.json already exists\n"
     ]
    },
    {
     "name": "stderr",
     "output_type": "stream",
     "text": [
      "\n",
      "\n",
      "\n",
      "\n",
      "100%|████████████████████████████████████████████████████████████████████████████████████████████████████████████| 4/4 [00:00<00:00, 12009.46it/s]\u001b[A\u001b[A\u001b[A\u001b[A\n"
     ]
    },
    {
     "name": "stdout",
     "output_type": "stream",
     "text": [
      "Running actor for ['Rose'] 15 30 [3, 4, 5] ratings_count 1\n",
      "File data/scrapped_data/scrapped_data_Rose_15_30_ratings_count_[3, 4, 5]_1.json already exists\n",
      "Running actor for ['Rose'] 15 30 [3, 4, 5] ratings_count 3.2\n",
      "File data/scrapped_data/scrapped_data_Rose_15_30_ratings_count_[3, 4, 5]_3.2.json already exists\n",
      "Running actor for ['Rose'] 15 30 [3, 4, 5] ratings_count 3.8\n",
      "File data/scrapped_data/scrapped_data_Rose_15_30_ratings_count_[3, 4, 5]_3.8.json already exists\n",
      "Running actor for ['Rose'] 15 30 [3, 4, 5] ratings_count 4.2\n",
      "File data/scrapped_data/scrapped_data_Rose_15_30_ratings_count_[3, 4, 5]_4.2.json already exists\n"
     ]
    },
    {
     "name": "stderr",
     "output_type": "stream",
     "text": [
      "\n",
      "\n",
      "\n",
      "\n",
      "100%|████████████████████████████████████████████████████████████████████████████████████████████████████████████| 4/4 [00:00<00:00, 12273.02it/s]\u001b[A\u001b[A\u001b[A\u001b[A\n"
     ]
    },
    {
     "name": "stdout",
     "output_type": "stream",
     "text": [
      "Running actor for ['Sparkling'] 15 30 [3, 4, 5] ratings_count 1\n",
      "File data/scrapped_data/scrapped_data_Sparkling_15_30_ratings_count_[3, 4, 5]_1.json already exists\n",
      "Running actor for ['Sparkling'] 15 30 [3, 4, 5] ratings_count 3.2\n",
      "File data/scrapped_data/scrapped_data_Sparkling_15_30_ratings_count_[3, 4, 5]_3.2.json already exists\n",
      "Running actor for ['Sparkling'] 15 30 [3, 4, 5] ratings_count 3.8\n",
      "File data/scrapped_data/scrapped_data_Sparkling_15_30_ratings_count_[3, 4, 5]_3.8.json already exists\n",
      "Running actor for ['Sparkling'] 15 30 [3, 4, 5] ratings_count 4.2\n",
      "File data/scrapped_data/scrapped_data_Sparkling_15_30_ratings_count_[3, 4, 5]_4.2.json already exists\n"
     ]
    },
    {
     "name": "stderr",
     "output_type": "stream",
     "text": [
      "\n",
      "\n",
      "\n",
      "\n",
      "100%|█████████████████████████████████████████████████████████████████████████████████████████████████████████████| 4/4 [00:00<00:00, 9172.89it/s]\u001b[A\u001b[A\u001b[A\u001b[A\n"
     ]
    },
    {
     "name": "stdout",
     "output_type": "stream",
     "text": [
      "Running actor for ['Dessert'] 15 30 [3, 4, 5] ratings_count 1\n",
      "File data/scrapped_data/scrapped_data_Dessert_15_30_ratings_count_[3, 4, 5]_1.json already exists\n",
      "Running actor for ['Dessert'] 15 30 [3, 4, 5] ratings_count 3.2\n",
      "File data/scrapped_data/scrapped_data_Dessert_15_30_ratings_count_[3, 4, 5]_3.2.json already exists\n",
      "Running actor for ['Dessert'] 15 30 [3, 4, 5] ratings_count 3.8\n",
      "File data/scrapped_data/scrapped_data_Dessert_15_30_ratings_count_[3, 4, 5]_3.8.json already exists\n",
      "Running actor for ['Dessert'] 15 30 [3, 4, 5] ratings_count 4.2\n",
      "File data/scrapped_data/scrapped_data_Dessert_15_30_ratings_count_[3, 4, 5]_4.2.json already exists\n"
     ]
    },
    {
     "name": "stderr",
     "output_type": "stream",
     "text": [
      "\n",
      "\n",
      "\n",
      "\n",
      "100%|████████████████████████████████████████████████████████████████████████████████████████████████████████████| 4/4 [00:00<00:00, 10280.16it/s]\u001b[A\u001b[A\u001b[A\u001b[A\n",
      "100%|██████████████████████████████████████████████████████████████████████████████████████████████████████████████| 6/6 [00:00<00:00, 604.16it/s]\n"
     ]
    },
    {
     "name": "stdout",
     "output_type": "stream",
     "text": [
      "Running actor for ['Fortified'] 15 30 [3, 4, 5] ratings_count 1\n",
      "File data/scrapped_data/scrapped_data_Fortified_15_30_ratings_count_[3, 4, 5]_1.json already exists\n",
      "Running actor for ['Fortified'] 15 30 [3, 4, 5] ratings_count 3.2\n",
      "File data/scrapped_data/scrapped_data_Fortified_15_30_ratings_count_[3, 4, 5]_3.2.json already exists\n",
      "Running actor for ['Fortified'] 15 30 [3, 4, 5] ratings_count 3.8\n",
      "File data/scrapped_data/scrapped_data_Fortified_15_30_ratings_count_[3, 4, 5]_3.8.json already exists\n",
      "Running actor for ['Fortified'] 15 30 [3, 4, 5] ratings_count 4.2\n",
      "File data/scrapped_data/scrapped_data_Fortified_15_30_ratings_count_[3, 4, 5]_4.2.json already exists\n"
     ]
    },
    {
     "name": "stderr",
     "output_type": "stream",
     "text": [
      "\n",
      "\n",
      "\n",
      "  0%|                                                                                                                       | 0/6 [00:00<?, ?it/s]\u001b[A\u001b[A\u001b[A\n",
      "\n",
      "\n",
      "\n",
      "100%|█████████████████████████████████████████████████████████████████████████████████████████████████████████████| 4/4 [00:00<00:00, 9974.56it/s]\u001b[A\u001b[A\u001b[A\u001b[A\n"
     ]
    },
    {
     "name": "stdout",
     "output_type": "stream",
     "text": [
      "Running actor for ['Red'] 30 50 [3, 4, 5] ratings_count 1\n",
      "File data/scrapped_data/scrapped_data_Red_30_50_ratings_count_[3, 4, 5]_1.json already exists\n",
      "Running actor for ['Red'] 30 50 [3, 4, 5] ratings_count 3.2\n",
      "File data/scrapped_data/scrapped_data_Red_30_50_ratings_count_[3, 4, 5]_3.2.json already exists\n",
      "Running actor for ['Red'] 30 50 [3, 4, 5] ratings_count 3.8\n",
      "File data/scrapped_data/scrapped_data_Red_30_50_ratings_count_[3, 4, 5]_3.8.json already exists\n",
      "Running actor for ['Red'] 30 50 [3, 4, 5] ratings_count 4.2\n",
      "File data/scrapped_data/scrapped_data_Red_30_50_ratings_count_[3, 4, 5]_4.2.json already exists\n"
     ]
    },
    {
     "name": "stderr",
     "output_type": "stream",
     "text": [
      "\n",
      "\n",
      "\n",
      "\n",
      "100%|████████████████████████████████████████████████████████████████████████████████████████████████████████████| 4/4 [00:00<00:00, 11030.39it/s]\u001b[A\u001b[A\u001b[A\u001b[A\n"
     ]
    },
    {
     "name": "stdout",
     "output_type": "stream",
     "text": [
      "Running actor for ['White'] 30 50 [3, 4, 5] ratings_count 1\n",
      "File data/scrapped_data/scrapped_data_White_30_50_ratings_count_[3, 4, 5]_1.json already exists\n",
      "Running actor for ['White'] 30 50 [3, 4, 5] ratings_count 3.2\n",
      "File data/scrapped_data/scrapped_data_White_30_50_ratings_count_[3, 4, 5]_3.2.json already exists\n",
      "Running actor for ['White'] 30 50 [3, 4, 5] ratings_count 3.8\n",
      "File data/scrapped_data/scrapped_data_White_30_50_ratings_count_[3, 4, 5]_3.8.json already exists\n",
      "Running actor for ['White'] 30 50 [3, 4, 5] ratings_count 4.2\n",
      "File data/scrapped_data/scrapped_data_White_30_50_ratings_count_[3, 4, 5]_4.2.json already exists\n"
     ]
    },
    {
     "name": "stderr",
     "output_type": "stream",
     "text": [
      "\n",
      "\n",
      "\n",
      "\n",
      "100%|████████████████████████████████████████████████████████████████████████████████████████████████████████████| 4/4 [00:00<00:00, 10100.67it/s]\u001b[A\u001b[A\u001b[A\u001b[A\n"
     ]
    },
    {
     "name": "stdout",
     "output_type": "stream",
     "text": [
      "Running actor for ['Rose'] 30 50 [3, 4, 5] ratings_count 1\n",
      "File data/scrapped_data/scrapped_data_Rose_30_50_ratings_count_[3, 4, 5]_1.json already exists\n",
      "Running actor for ['Rose'] 30 50 [3, 4, 5] ratings_count 3.2\n",
      "File data/scrapped_data/scrapped_data_Rose_30_50_ratings_count_[3, 4, 5]_3.2.json already exists\n",
      "Running actor for ['Rose'] 30 50 [3, 4, 5] ratings_count 3.8\n",
      "File data/scrapped_data/scrapped_data_Rose_30_50_ratings_count_[3, 4, 5]_3.8.json already exists\n",
      "Running actor for ['Rose'] 30 50 [3, 4, 5] ratings_count 4.2\n",
      "File data/scrapped_data/scrapped_data_Rose_30_50_ratings_count_[3, 4, 5]_4.2.json already exists\n"
     ]
    },
    {
     "name": "stderr",
     "output_type": "stream",
     "text": [
      "\n",
      "\n",
      "\n",
      "\n",
      "100%|████████████████████████████████████████████████████████████████████████████████████████████████████████████| 4/4 [00:00<00:00, 18766.46it/s]\u001b[A\u001b[A\u001b[A\u001b[A\n"
     ]
    },
    {
     "name": "stdout",
     "output_type": "stream",
     "text": [
      "Running actor for ['Sparkling'] 30 50 [3, 4, 5] ratings_count 1\n",
      "File data/scrapped_data/scrapped_data_Sparkling_30_50_ratings_count_[3, 4, 5]_1.json already exists\n",
      "Running actor for ['Sparkling'] 30 50 [3, 4, 5] ratings_count 3.2\n",
      "File data/scrapped_data/scrapped_data_Sparkling_30_50_ratings_count_[3, 4, 5]_3.2.json already exists\n",
      "Running actor for ['Sparkling'] 30 50 [3, 4, 5] ratings_count 3.8\n",
      "File data/scrapped_data/scrapped_data_Sparkling_30_50_ratings_count_[3, 4, 5]_3.8.json already exists\n",
      "Running actor for ['Sparkling'] 30 50 [3, 4, 5] ratings_count 4.2\n",
      "File data/scrapped_data/scrapped_data_Sparkling_30_50_ratings_count_[3, 4, 5]_4.2.json already exists\n"
     ]
    },
    {
     "name": "stderr",
     "output_type": "stream",
     "text": [
      "\n",
      "\n",
      "\n",
      "\n",
      "100%|█████████████████████████████████████████████████████████████████████████████████████████████████████████████| 4/4 [00:00<00:00, 8909.83it/s]\u001b[A\u001b[A\u001b[A\u001b[A\n"
     ]
    },
    {
     "name": "stdout",
     "output_type": "stream",
     "text": [
      "Running actor for ['Dessert'] 30 50 [3, 4, 5] ratings_count 1\n",
      "File data/scrapped_data/scrapped_data_Dessert_30_50_ratings_count_[3, 4, 5]_1.json already exists\n",
      "Running actor for ['Dessert'] 30 50 [3, 4, 5] ratings_count 3.2\n",
      "File data/scrapped_data/scrapped_data_Dessert_30_50_ratings_count_[3, 4, 5]_3.2.json already exists\n",
      "Running actor for ['Dessert'] 30 50 [3, 4, 5] ratings_count 3.8\n",
      "File data/scrapped_data/scrapped_data_Dessert_30_50_ratings_count_[3, 4, 5]_3.8.json already exists\n",
      "Running actor for ['Dessert'] 30 50 [3, 4, 5] ratings_count 4.2\n",
      "File data/scrapped_data/scrapped_data_Dessert_30_50_ratings_count_[3, 4, 5]_4.2.json already exists\n"
     ]
    },
    {
     "name": "stderr",
     "output_type": "stream",
     "text": [
      "\n",
      "\n",
      "\n",
      "\n",
      "100%|█████████████████████████████████████████████████████████████████████████████████████████████████████████████| 4/4 [00:00<00:00, 7861.86it/s]\u001b[A\u001b[A\u001b[A\u001b[A\n",
      "100%|██████████████████████████████████████████████████████████████████████████████████████████████████████████████| 6/6 [00:00<00:00, 524.90it/s]\n"
     ]
    },
    {
     "name": "stdout",
     "output_type": "stream",
     "text": [
      "Running actor for ['Fortified'] 30 50 [3, 4, 5] ratings_count 1\n",
      "File data/scrapped_data/scrapped_data_Fortified_30_50_ratings_count_[3, 4, 5]_1.json already exists\n",
      "Running actor for ['Fortified'] 30 50 [3, 4, 5] ratings_count 3.2\n",
      "File data/scrapped_data/scrapped_data_Fortified_30_50_ratings_count_[3, 4, 5]_3.2.json already exists\n",
      "Running actor for ['Fortified'] 30 50 [3, 4, 5] ratings_count 3.8\n",
      "File data/scrapped_data/scrapped_data_Fortified_30_50_ratings_count_[3, 4, 5]_3.8.json already exists\n",
      "Running actor for ['Fortified'] 30 50 [3, 4, 5] ratings_count 4.2\n",
      "File data/scrapped_data/scrapped_data_Fortified_30_50_ratings_count_[3, 4, 5]_4.2.json already exists\n"
     ]
    },
    {
     "name": "stderr",
     "output_type": "stream",
     "text": [
      "\n",
      "\n",
      "\n",
      "  0%|                                                                                                                       | 0/6 [00:00<?, ?it/s]\u001b[A\u001b[A\u001b[A\n",
      "\n",
      "\n",
      "\n",
      "100%|█████████████████████████████████████████████████████████████████████████████████████████████████████████████| 4/4 [00:00<00:00, 8733.58it/s]\u001b[A\u001b[A\u001b[A\u001b[A\n"
     ]
    },
    {
     "name": "stdout",
     "output_type": "stream",
     "text": [
      "Running actor for ['Red'] 50 100 [3, 4, 5] ratings_count 1\n",
      "File data/scrapped_data/scrapped_data_Red_50_100_ratings_count_[3, 4, 5]_1.json already exists\n",
      "Running actor for ['Red'] 50 100 [3, 4, 5] ratings_count 3.2\n",
      "File data/scrapped_data/scrapped_data_Red_50_100_ratings_count_[3, 4, 5]_3.2.json already exists\n",
      "Running actor for ['Red'] 50 100 [3, 4, 5] ratings_count 3.8\n",
      "File data/scrapped_data/scrapped_data_Red_50_100_ratings_count_[3, 4, 5]_3.8.json already exists\n",
      "Running actor for ['Red'] 50 100 [3, 4, 5] ratings_count 4.2\n",
      "File data/scrapped_data/scrapped_data_Red_50_100_ratings_count_[3, 4, 5]_4.2.json already exists\n"
     ]
    },
    {
     "name": "stderr",
     "output_type": "stream",
     "text": [
      "\n",
      "\n",
      "\n",
      "\n",
      "100%|████████████████████████████████████████████████████████████████████████████████████████████████████████████| 4/4 [00:00<00:00, 16256.99it/s]\u001b[A\u001b[A\u001b[A\u001b[A\n"
     ]
    },
    {
     "name": "stdout",
     "output_type": "stream",
     "text": [
      "Running actor for ['White'] 50 100 [3, 4, 5] ratings_count 1\n",
      "File data/scrapped_data/scrapped_data_White_50_100_ratings_count_[3, 4, 5]_1.json already exists\n",
      "Running actor for ['White'] 50 100 [3, 4, 5] ratings_count 3.2\n",
      "File data/scrapped_data/scrapped_data_White_50_100_ratings_count_[3, 4, 5]_3.2.json already exists\n",
      "Running actor for ['White'] 50 100 [3, 4, 5] ratings_count 3.8\n",
      "File data/scrapped_data/scrapped_data_White_50_100_ratings_count_[3, 4, 5]_3.8.json already exists\n",
      "Running actor for ['White'] 50 100 [3, 4, 5] ratings_count 4.2\n",
      "File data/scrapped_data/scrapped_data_White_50_100_ratings_count_[3, 4, 5]_4.2.json already exists\n"
     ]
    },
    {
     "name": "stderr",
     "output_type": "stream",
     "text": [
      "\n",
      "\n",
      "\n",
      "\n",
      "100%|████████████████████████████████████████████████████████████████████████████████████████████████████████████| 4/4 [00:00<00:00, 13475.68it/s]\u001b[A\u001b[A\u001b[A\u001b[A\n"
     ]
    },
    {
     "name": "stdout",
     "output_type": "stream",
     "text": [
      "Running actor for ['Rose'] 50 100 [3, 4, 5] ratings_count 1\n",
      "File data/scrapped_data/scrapped_data_Rose_50_100_ratings_count_[3, 4, 5]_1.json already exists\n",
      "Running actor for ['Rose'] 50 100 [3, 4, 5] ratings_count 3.2\n",
      "File data/scrapped_data/scrapped_data_Rose_50_100_ratings_count_[3, 4, 5]_3.2.json already exists\n",
      "Running actor for ['Rose'] 50 100 [3, 4, 5] ratings_count 3.8\n",
      "File data/scrapped_data/scrapped_data_Rose_50_100_ratings_count_[3, 4, 5]_3.8.json already exists\n",
      "Running actor for ['Rose'] 50 100 [3, 4, 5] ratings_count 4.2\n",
      "File data/scrapped_data/scrapped_data_Rose_50_100_ratings_count_[3, 4, 5]_4.2.json already exists\n"
     ]
    },
    {
     "name": "stderr",
     "output_type": "stream",
     "text": [
      "\n",
      "\n",
      "\n",
      "\n",
      "100%|████████████████████████████████████████████████████████████████████████████████████████████████████████████| 4/4 [00:00<00:00, 14039.51it/s]\u001b[A\u001b[A\u001b[A\u001b[A\n"
     ]
    },
    {
     "name": "stdout",
     "output_type": "stream",
     "text": [
      "Running actor for ['Sparkling'] 50 100 [3, 4, 5] ratings_count 1\n",
      "File data/scrapped_data/scrapped_data_Sparkling_50_100_ratings_count_[3, 4, 5]_1.json already exists\n",
      "Running actor for ['Sparkling'] 50 100 [3, 4, 5] ratings_count 3.2\n",
      "File data/scrapped_data/scrapped_data_Sparkling_50_100_ratings_count_[3, 4, 5]_3.2.json already exists\n",
      "Running actor for ['Sparkling'] 50 100 [3, 4, 5] ratings_count 3.8\n",
      "File data/scrapped_data/scrapped_data_Sparkling_50_100_ratings_count_[3, 4, 5]_3.8.json already exists\n",
      "Running actor for ['Sparkling'] 50 100 [3, 4, 5] ratings_count 4.2\n",
      "File data/scrapped_data/scrapped_data_Sparkling_50_100_ratings_count_[3, 4, 5]_4.2.json already exists\n"
     ]
    },
    {
     "name": "stderr",
     "output_type": "stream",
     "text": [
      "\n",
      "\n",
      "\n",
      "\n",
      "100%|████████████████████████████████████████████████████████████████████████████████████████████████████████████| 4/4 [00:00<00:00, 11169.92it/s]\u001b[A\u001b[A\u001b[A\u001b[A\n"
     ]
    },
    {
     "name": "stdout",
     "output_type": "stream",
     "text": [
      "Running actor for ['Dessert'] 50 100 [3, 4, 5] ratings_count 1\n",
      "File data/scrapped_data/scrapped_data_Dessert_50_100_ratings_count_[3, 4, 5]_1.json already exists\n",
      "Running actor for ['Dessert'] 50 100 [3, 4, 5] ratings_count 3.2\n",
      "File data/scrapped_data/scrapped_data_Dessert_50_100_ratings_count_[3, 4, 5]_3.2.json already exists\n",
      "Running actor for ['Dessert'] 50 100 [3, 4, 5] ratings_count 3.8\n",
      "File data/scrapped_data/scrapped_data_Dessert_50_100_ratings_count_[3, 4, 5]_3.8.json already exists\n",
      "Running actor for ['Dessert'] 50 100 [3, 4, 5] ratings_count 4.2\n",
      "File data/scrapped_data/scrapped_data_Dessert_50_100_ratings_count_[3, 4, 5]_4.2.json already exists\n"
     ]
    },
    {
     "name": "stderr",
     "output_type": "stream",
     "text": [
      "\n",
      "\n",
      "\n",
      "\n",
      "100%|████████████████████████████████████████████████████████████████████████████████████████████████████████████| 4/4 [00:00<00:00, 13076.55it/s]\u001b[A\u001b[A\u001b[A\u001b[A\n",
      "100%|██████████████████████████████████████████████████████████████████████████████████████████████████████████████| 6/6 [00:00<00:00, 591.00it/s]\n"
     ]
    },
    {
     "name": "stdout",
     "output_type": "stream",
     "text": [
      "Running actor for ['Fortified'] 50 100 [3, 4, 5] ratings_count 1\n",
      "File data/scrapped_data/scrapped_data_Fortified_50_100_ratings_count_[3, 4, 5]_1.json already exists\n",
      "Running actor for ['Fortified'] 50 100 [3, 4, 5] ratings_count 3.2\n",
      "File data/scrapped_data/scrapped_data_Fortified_50_100_ratings_count_[3, 4, 5]_3.2.json already exists\n",
      "Running actor for ['Fortified'] 50 100 [3, 4, 5] ratings_count 3.8\n",
      "File data/scrapped_data/scrapped_data_Fortified_50_100_ratings_count_[3, 4, 5]_3.8.json already exists\n",
      "Running actor for ['Fortified'] 50 100 [3, 4, 5] ratings_count 4.2\n",
      "File data/scrapped_data/scrapped_data_Fortified_50_100_ratings_count_[3, 4, 5]_4.2.json already exists\n"
     ]
    },
    {
     "name": "stderr",
     "output_type": "stream",
     "text": [
      "\n",
      "\n",
      "\n",
      "  0%|                                                                                                                       | 0/6 [00:00<?, ?it/s]\u001b[A\u001b[A\u001b[A\n",
      "\n",
      "\n",
      "\n",
      "100%|████████████████████████████████████████████████████████████████████████████████████████████████████████████| 4/4 [00:00<00:00, 17867.11it/s]\u001b[A\u001b[A\u001b[A\u001b[A\n"
     ]
    },
    {
     "name": "stdout",
     "output_type": "stream",
     "text": [
      "Running actor for ['Red'] 100 250 [3, 4, 5] ratings_count 1\n",
      "File data/scrapped_data/scrapped_data_Red_100_250_ratings_count_[3, 4, 5]_1.json already exists\n",
      "Running actor for ['Red'] 100 250 [3, 4, 5] ratings_count 3.2\n",
      "File data/scrapped_data/scrapped_data_Red_100_250_ratings_count_[3, 4, 5]_3.2.json already exists\n",
      "Running actor for ['Red'] 100 250 [3, 4, 5] ratings_count 3.8\n",
      "File data/scrapped_data/scrapped_data_Red_100_250_ratings_count_[3, 4, 5]_3.8.json already exists\n",
      "Running actor for ['Red'] 100 250 [3, 4, 5] ratings_count 4.2\n",
      "File data/scrapped_data/scrapped_data_Red_100_250_ratings_count_[3, 4, 5]_4.2.json already exists\n"
     ]
    },
    {
     "name": "stderr",
     "output_type": "stream",
     "text": [
      "\n",
      "\n",
      "\n",
      "\n",
      "100%|█████████████████████████████████████████████████████████████████████████████████████████████████████████████| 4/4 [00:00<00:00, 7394.10it/s]\u001b[A\u001b[A\u001b[A\u001b[A\n"
     ]
    },
    {
     "name": "stdout",
     "output_type": "stream",
     "text": [
      "Running actor for ['White'] 100 250 [3, 4, 5] ratings_count 1\n",
      "File data/scrapped_data/scrapped_data_White_100_250_ratings_count_[3, 4, 5]_1.json already exists\n",
      "Running actor for ['White'] 100 250 [3, 4, 5] ratings_count 3.2\n",
      "File data/scrapped_data/scrapped_data_White_100_250_ratings_count_[3, 4, 5]_3.2.json already exists\n",
      "Running actor for ['White'] 100 250 [3, 4, 5] ratings_count 3.8\n",
      "File data/scrapped_data/scrapped_data_White_100_250_ratings_count_[3, 4, 5]_3.8.json already exists\n",
      "Running actor for ['White'] 100 250 [3, 4, 5] ratings_count 4.2\n",
      "File data/scrapped_data/scrapped_data_White_100_250_ratings_count_[3, 4, 5]_4.2.json already exists\n"
     ]
    },
    {
     "name": "stderr",
     "output_type": "stream",
     "text": [
      "\n",
      "\n",
      "\n",
      "\n",
      "100%|████████████████████████████████████████████████████████████████████████████████████████████████████████████| 4/4 [00:00<00:00, 12700.39it/s]\u001b[A\u001b[A\u001b[A\u001b[A\n"
     ]
    },
    {
     "name": "stdout",
     "output_type": "stream",
     "text": [
      "Running actor for ['Rose'] 100 250 [3, 4, 5] ratings_count 1\n",
      "File data/scrapped_data/scrapped_data_Rose_100_250_ratings_count_[3, 4, 5]_1.json already exists\n",
      "Running actor for ['Rose'] 100 250 [3, 4, 5] ratings_count 3.2\n",
      "File data/scrapped_data/scrapped_data_Rose_100_250_ratings_count_[3, 4, 5]_3.2.json already exists\n",
      "Running actor for ['Rose'] 100 250 [3, 4, 5] ratings_count 3.8\n",
      "File data/scrapped_data/scrapped_data_Rose_100_250_ratings_count_[3, 4, 5]_3.8.json already exists\n",
      "Running actor for ['Rose'] 100 250 [3, 4, 5] ratings_count 4.2\n",
      "File data/scrapped_data/scrapped_data_Rose_100_250_ratings_count_[3, 4, 5]_4.2.json already exists\n"
     ]
    },
    {
     "name": "stderr",
     "output_type": "stream",
     "text": [
      "\n",
      "\n",
      "\n",
      "\n",
      "100%|████████████████████████████████████████████████████████████████████████████████████████████████████████████| 4/4 [00:00<00:00, 19807.81it/s]\u001b[A\u001b[A\u001b[A\u001b[A\n"
     ]
    },
    {
     "name": "stdout",
     "output_type": "stream",
     "text": [
      "Running actor for ['Sparkling'] 100 250 [3, 4, 5] ratings_count 1\n",
      "File data/scrapped_data/scrapped_data_Sparkling_100_250_ratings_count_[3, 4, 5]_1.json already exists\n",
      "Running actor for ['Sparkling'] 100 250 [3, 4, 5] ratings_count 3.2\n",
      "File data/scrapped_data/scrapped_data_Sparkling_100_250_ratings_count_[3, 4, 5]_3.2.json already exists\n",
      "Running actor for ['Sparkling'] 100 250 [3, 4, 5] ratings_count 3.8\n",
      "File data/scrapped_data/scrapped_data_Sparkling_100_250_ratings_count_[3, 4, 5]_3.8.json already exists\n",
      "Running actor for ['Sparkling'] 100 250 [3, 4, 5] ratings_count 4.2\n",
      "File data/scrapped_data/scrapped_data_Sparkling_100_250_ratings_count_[3, 4, 5]_4.2.json already exists\n"
     ]
    },
    {
     "name": "stderr",
     "output_type": "stream",
     "text": [
      "\n",
      "\n",
      "\n",
      "\n",
      "100%|████████████████████████████████████████████████████████████████████████████████████████████████████████████| 4/4 [00:00<00:00, 10362.70it/s]\u001b[A\u001b[A\u001b[A\u001b[A\n"
     ]
    },
    {
     "name": "stdout",
     "output_type": "stream",
     "text": [
      "Running actor for ['Dessert'] 100 250 [3, 4, 5] ratings_count 1\n",
      "File data/scrapped_data/scrapped_data_Dessert_100_250_ratings_count_[3, 4, 5]_1.json already exists\n",
      "Running actor for ['Dessert'] 100 250 [3, 4, 5] ratings_count 3.2\n",
      "File data/scrapped_data/scrapped_data_Dessert_100_250_ratings_count_[3, 4, 5]_3.2.json already exists\n",
      "Running actor for ['Dessert'] 100 250 [3, 4, 5] ratings_count 3.8\n",
      "File data/scrapped_data/scrapped_data_Dessert_100_250_ratings_count_[3, 4, 5]_3.8.json already exists\n",
      "Running actor for ['Dessert'] 100 250 [3, 4, 5] ratings_count 4.2\n",
      "File data/scrapped_data/scrapped_data_Dessert_100_250_ratings_count_[3, 4, 5]_4.2.json already exists\n"
     ]
    },
    {
     "name": "stderr",
     "output_type": "stream",
     "text": [
      "\n",
      "\n",
      "\n",
      "\n",
      "100%|████████████████████████████████████████████████████████████████████████████████████████████████████████████| 4/4 [00:00<00:00, 21263.90it/s]\u001b[A\u001b[A\u001b[A\u001b[A\n",
      "100%|██████████████████████████████████████████████████████████████████████████████████████████████████████████████| 6/6 [00:00<00:00, 547.94it/s]\n",
      "100%|███████████████████████████████████████████████████████████████████████████████████████████████████████████████| 5/5 [00:00<00:00, 85.91it/s]\n"
     ]
    },
    {
     "name": "stdout",
     "output_type": "stream",
     "text": [
      "Running actor for ['Fortified'] 100 250 [3, 4, 5] ratings_count 1\n",
      "File data/scrapped_data/scrapped_data_Fortified_100_250_ratings_count_[3, 4, 5]_1.json already exists\n",
      "Running actor for ['Fortified'] 100 250 [3, 4, 5] ratings_count 3.2\n",
      "File data/scrapped_data/scrapped_data_Fortified_100_250_ratings_count_[3, 4, 5]_3.2.json already exists\n",
      "Running actor for ['Fortified'] 100 250 [3, 4, 5] ratings_count 3.8\n",
      "File data/scrapped_data/scrapped_data_Fortified_100_250_ratings_count_[3, 4, 5]_3.8.json already exists\n",
      "Running actor for ['Fortified'] 100 250 [3, 4, 5] ratings_count 4.2\n",
      "File data/scrapped_data/scrapped_data_Fortified_100_250_ratings_count_[3, 4, 5]_4.2.json already exists\n"
     ]
    },
    {
     "name": "stderr",
     "output_type": "stream",
     "text": [
      "\n",
      "\n",
      "  0%|                                                                                                                       | 0/5 [00:00<?, ?it/s]\u001b[A\u001b[A\n",
      "\n",
      "\n",
      "100%|████████████████████████████████████████████████████████████████████████████████████████████████████████████| 6/6 [00:00<00:00, 28695.35it/s]\u001b[A\u001b[A\u001b[A\n"
     ]
    },
    {
     "name": "stdout",
     "output_type": "stream",
     "text": [
      "File data/scrapped_data/scrapped_data_Red_0_15_ratings_count_[1, 2]_1.json already exists\n",
      "File data/scrapped_data/scrapped_data_White_0_15_ratings_count_[1, 2]_1.json already exists\n",
      "File data/scrapped_data/scrapped_data_Rose_0_15_ratings_count_[1, 2]_1.json already exists\n",
      "File data/scrapped_data/scrapped_data_Sparkling_0_15_ratings_count_[1, 2]_1.json already exists\n",
      "File data/scrapped_data/scrapped_data_Dessert_0_15_ratings_count_[1, 2]_1.json already exists\n",
      "File data/scrapped_data/scrapped_data_Fortified_0_15_ratings_count_[1, 2]_1.json already exists\n"
     ]
    },
    {
     "name": "stderr",
     "output_type": "stream",
     "text": [
      "\n",
      "\n",
      "\n",
      "100%|████████████████████████████████████████████████████████████████████████████████████████████████████████████| 6/6 [00:00<00:00, 12403.07it/s]\u001b[A\u001b[A\u001b[A\n"
     ]
    },
    {
     "name": "stdout",
     "output_type": "stream",
     "text": [
      "File data/scrapped_data/scrapped_data_Red_15_30_ratings_count_[1, 2]_1.json already exists\n",
      "File data/scrapped_data/scrapped_data_White_15_30_ratings_count_[1, 2]_1.json already exists\n",
      "File data/scrapped_data/scrapped_data_Rose_15_30_ratings_count_[1, 2]_1.json already exists\n",
      "File data/scrapped_data/scrapped_data_Sparkling_15_30_ratings_count_[1, 2]_1.json already exists\n",
      "File data/scrapped_data/scrapped_data_Dessert_15_30_ratings_count_[1, 2]_1.json already exists\n",
      "File data/scrapped_data/scrapped_data_Fortified_15_30_ratings_count_[1, 2]_1.json already exists\n"
     ]
    },
    {
     "name": "stderr",
     "output_type": "stream",
     "text": [
      "\n",
      "\n",
      "\n",
      "100%|████████████████████████████████████████████████████████████████████████████████████████████████████████████| 6/6 [00:00<00:00, 37282.70it/s]\u001b[A\u001b[A\u001b[A\n"
     ]
    },
    {
     "name": "stdout",
     "output_type": "stream",
     "text": [
      "File data/scrapped_data/scrapped_data_Red_30_50_ratings_count_[1, 2]_1.json already exists\n",
      "File data/scrapped_data/scrapped_data_White_30_50_ratings_count_[1, 2]_1.json already exists\n",
      "File data/scrapped_data/scrapped_data_Rose_30_50_ratings_count_[1, 2]_1.json already exists\n",
      "File data/scrapped_data/scrapped_data_Sparkling_30_50_ratings_count_[1, 2]_1.json already exists\n",
      "File data/scrapped_data/scrapped_data_Dessert_30_50_ratings_count_[1, 2]_1.json already exists\n",
      "File data/scrapped_data/scrapped_data_Fortified_30_50_ratings_count_[1, 2]_1.json already exists\n"
     ]
    },
    {
     "name": "stderr",
     "output_type": "stream",
     "text": [
      "\n",
      "\n",
      "\n",
      "100%|████████████████████████████████████████████████████████████████████████████████████████████████████████████| 6/6 [00:00<00:00, 11496.49it/s]\u001b[A\u001b[A\u001b[A\n"
     ]
    },
    {
     "name": "stdout",
     "output_type": "stream",
     "text": [
      "File data/scrapped_data/scrapped_data_Red_50_100_ratings_count_[1, 2]_1.json already exists\n",
      "File data/scrapped_data/scrapped_data_White_50_100_ratings_count_[1, 2]_1.json already exists\n",
      "File data/scrapped_data/scrapped_data_Rose_50_100_ratings_count_[1, 2]_1.json already exists\n",
      "File data/scrapped_data/scrapped_data_Sparkling_50_100_ratings_count_[1, 2]_1.json already exists\n",
      "File data/scrapped_data/scrapped_data_Dessert_50_100_ratings_count_[1, 2]_1.json already exists\n",
      "File data/scrapped_data/scrapped_data_Fortified_50_100_ratings_count_[1, 2]_1.json already exists\n"
     ]
    },
    {
     "name": "stderr",
     "output_type": "stream",
     "text": [
      "\n",
      "\n",
      "\n",
      "100%|████████████████████████████████████████████████████████████████████████████████████████████████████████████| 6/6 [00:00<00:00, 16946.68it/s]\u001b[A\u001b[A\u001b[A\n",
      "100%|██████████████████████████████████████████████████████████████████████████████████████████████████████████████| 5/5 [00:00<00:00, 524.93it/s]\n",
      "100%|███████████████████████████████████████████████████████████████████████████████████████████████████████████████| 2/2 [00:00<00:00, 28.18it/s]\n",
      "100%|███████████████████████████████████████████████████████████████████████████████████████████████████████████████| 2/2 [00:00<00:00, 13.33it/s]"
     ]
    },
    {
     "name": "stdout",
     "output_type": "stream",
     "text": [
      "File data/scrapped_data/scrapped_data_Red_100_250_ratings_count_[1, 2]_1.json already exists\n",
      "File data/scrapped_data/scrapped_data_White_100_250_ratings_count_[1, 2]_1.json already exists\n",
      "File data/scrapped_data/scrapped_data_Rose_100_250_ratings_count_[1, 2]_1.json already exists\n",
      "File data/scrapped_data/scrapped_data_Sparkling_100_250_ratings_count_[1, 2]_1.json already exists\n",
      "File data/scrapped_data/scrapped_data_Dessert_100_250_ratings_count_[1, 2]_1.json already exists\n",
      "File data/scrapped_data/scrapped_data_Fortified_100_250_ratings_count_[1, 2]_1.json already exists\n"
     ]
    },
    {
     "name": "stderr",
     "output_type": "stream",
     "text": [
      "\n"
     ]
    }
   ],
   "source": [
    "run_all()"
   ]
  },
  {
   "cell_type": "markdown",
   "id": "e74b401c-b824-4868-912c-5eab2790fa92",
   "metadata": {},
   "source": [
    "# JSON to CSV"
   ]
  },
  {
   "cell_type": "code",
   "execution_count": 9,
   "id": "81543a7b-f72e-483b-8328-5d0a96aa20bf",
   "metadata": {},
   "outputs": [],
   "source": [
    "from typing import Any, Dict, Optional"
   ]
  },
  {
   "cell_type": "code",
   "execution_count": 10,
   "id": "43cbff15-e8fd-4fd1-af12-d70ecf9d244b",
   "metadata": {},
   "outputs": [],
   "source": [
    "def _get(d: dict, path: str, default=None):\n",
    "    \"\"\"Safe getter: path like 'vintage.wine.region.country.code'.\"\"\"\n",
    "    cur = d\n",
    "    for p in path.split('.'):\n",
    "        if cur is None:\n",
    "            return default\n",
    "        # handle list index like 'prices[0]'\n",
    "        if '[' in p and p.endswith(']'):\n",
    "            name, idx = p[:-1].split('[')\n",
    "            cur = cur.get(name) if isinstance(cur, dict) else None\n",
    "            try:\n",
    "                cur = cur[int(idx)] if isinstance(cur, list) else None\n",
    "            except (ValueError, IndexError, TypeError):\n",
    "                return default\n",
    "        else:\n",
    "            cur = cur.get(p) if isinstance(cur, dict) else None\n",
    "    return default if cur is None else cur\n"
   ]
  },
  {
   "cell_type": "code",
   "execution_count": 39,
   "id": "ab88f1e5-8427-4193-9ca0-cbc692d4ff11",
   "metadata": {},
   "outputs": [],
   "source": [
    "def extract_top_flavors(el: dict, TOP_N: int = 5) -> str:\n",
    "    def _get(d, path, default=None):\n",
    "        cur = d\n",
    "        for p in path.split('.'):\n",
    "            if cur is None:\n",
    "                return default\n",
    "            cur = cur.get(p) if isinstance(cur, dict) else default\n",
    "        return default if cur is None else cur\n",
    "\n",
    "    flavor_groups = _get(el, \"vintage.wine.taste.flavor\", []) or []\n",
    "    items = []\n",
    "    for g in flavor_groups:\n",
    "        for k in g.get(\"primary_keywords\", []) or []:\n",
    "            name = k.get(\"name\")\n",
    "            cnt = k.get(\"count\", 0) or 0\n",
    "            if name:\n",
    "                items.append((name, cnt))\n",
    "    # fallback to secondary if no primary found\n",
    "    if not items:\n",
    "        for g in flavor_groups:\n",
    "            for k in g.get(\"secondary_keywords\", []) or []:\n",
    "                name = k.get(\"name\")\n",
    "                cnt = k.get(\"count\", 0) or 0\n",
    "                if name:\n",
    "                    items.append((name, cnt))\n",
    "\n",
    "    # aggregate counts of same flavor name across groups\n",
    "    from collections import Counter\n",
    "    agg = Counter()\n",
    "    for name, cnt in items:\n",
    "        agg[name] += cnt\n",
    "\n",
    "    top = [name for name, _ in agg.most_common(TOP_N)]\n",
    "    return \"; \".join(top)"
   ]
  },
  {
   "cell_type": "code",
   "execution_count": 71,
   "id": "9bae0ad1-3425-4c03-8ff9-30bab642d931",
   "metadata": {},
   "outputs": [],
   "source": [
    "def extract_wine_row(el: dict, wine_type: str) -> dict:\n",
    "    def _get(d, path, default=None):\n",
    "        cur = d\n",
    "        for p in path.split('.'):\n",
    "            if cur is None:\n",
    "                return default\n",
    "            cur = cur.get(p) if isinstance(cur, dict) else default\n",
    "        return default if cur is None else cur\n",
    "\n",
    "    def _pick_price(el: dict):\n",
    "        prices = _get(el, \"prices\", []) or []\n",
    "        if prices:\n",
    "            valid = [p for p in prices if isinstance(p, dict) and _get(p, \"amount\") is not None]\n",
    "            if valid:\n",
    "                pmin = min(valid, key=lambda p: _get(p, \"amount\"))\n",
    "                return _get(pmin, \"amount\"), _get(pmin, \"currency.code\")\n",
    "        # fallback to single price block\n",
    "        return _get(el, \"price.amount\"), _get(el, \"price.currency.code\")\n",
    "\n",
    "    # ids and names\n",
    "    wine_id     = _get(el, \"vintage.wine.id\")\n",
    "    vintage_id  = _get(el, \"vintage.id\")\n",
    "    region_id = _get(el, \"vintage.wine.region.id\")\n",
    "    region_name = _get(el, \"vintage.wine.region.name\")\n",
    "    region_name = _get(el, \"vintage.wine.region.name\")\n",
    "    country_name = _get(el, \"vintage.wine.region.country.name\")\n",
    "    vintage_name= _get(el, \"vintage.name\")\n",
    "    wine_name   = _get(el, \"vintage.wine.name\")\n",
    "    description = _get(el, \"vintage.wine.style.description\")\n",
    "\n",
    "    # grapes\n",
    "    used_grapes = \"; \".join([grape['name'] for grape in _get(el, \"vintage.wine.region.country.most_used_grapes\", default=[])])\n",
    "\n",
    "    # go well with\n",
    "    relevant_food = \"; \".join([dish['name'] for dish in _get(el, \"vintage.wine.style.food\", default=[])])\n",
    "\n",
    "    # top flavors\n",
    "    top_flavors = extract_top_flavors(el, TOP_N=10)\n",
    "    \n",
    "    # year (normalize NV to None)\n",
    "    year_val = _get(el, \"vintage.year\")\n",
    "    try:\n",
    "        year = int(str(year_val)) if str(year_val).isdigit() else None\n",
    "    except:\n",
    "        year = None\n",
    "\n",
    "    # ratings\n",
    "    rating_avg   = _get(el, \"vintage.statistics.ratings_average\")\n",
    "    rating_count = _get(el, \"vintage.statistics.ratings_count\")\n",
    "\n",
    "    # price (single number) + currency\n",
    "    price, currency_code = _pick_price(el)\n",
    "\n",
    "    # taste metrics\n",
    "    acidity   = _get(el, \"vintage.wine.taste.structure.acidity\")\n",
    "    intensity = _get(el, \"vintage.wine.taste.structure.intensity\")\n",
    "    sweetness = _get(el, \"vintage.wine.taste.structure.sweetness\")\n",
    "    tannin    = _get(el, \"vintage.wine.taste.structure.tannin\")\n",
    "    fizziness = _get(el, \"vintage.wine.taste.structure.fizziness\")\n",
    "\n",
    "    # vivino link (stable pattern)\n",
    "    seo = \"-\".join(_get(el, \"vintage.seo_name\").split(\"-\")[:-1])\n",
    "    vivino_url = f\"https://www.vivino.com/US/en/{seo}/w/{wine_id}\" if seo and vintage_id else None\n",
    "\n",
    "    \n",
    "    return {\n",
    "        \"wine_id\": wine_id,\n",
    "        \"vintage_id\": vintage_id,\n",
    "        \"wine_type\": wine_type,\n",
    "        \"region_id\": region_id,\n",
    "        \"region_name\": region_name,\n",
    "        \"country_name\": country_name,\n",
    "        \"used_grapes\": used_grapes,\n",
    "        \"relevant_food\": relevant_food,\n",
    "        \"top_flavors\": top_flavors,\n",
    "        \"vintage_name\": vintage_name,\n",
    "        \"wine_name\": wine_name,\n",
    "        \"year\": year,\n",
    "        \"price\": price,                 # one number\n",
    "        \"currency_code\": currency_code, # so price is meaningful\n",
    "        \"acidity\": acidity,\n",
    "        \"intensity\": intensity,\n",
    "        \"sweetness\": sweetness,\n",
    "        \"tannin\": tannin,\n",
    "        \"fizziness\": fizziness,\n",
    "        \"rating_avg\": rating_avg,\n",
    "        \"rating_count\": rating_count,\n",
    "        \"vivino_url\": vivino_url,\n",
    "        \"description\": description,\n",
    "    }\n"
   ]
  },
  {
   "cell_type": "code",
   "execution_count": 78,
   "id": "dcdbbad1-e010-4004-a128-3231e6c45e50",
   "metadata": {},
   "outputs": [],
   "source": [
    "def process_one_file(file_name: str, vintage_ids: set):\n",
    "    rows = []\n",
    "    with open(file_name, \"r\") as f:\n",
    "        data = json.load(f)\n",
    "        wine_type = file_name.split('_')[3]\n",
    "\n",
    "        for el in data:\n",
    "            if el[\"vintage\"][\"id\"] not in vintage_ids:\n",
    "                row = extract_wine_row(el, wine_type=wine_type)\n",
    "                rows.append(row)\n",
    "                vintage_ids.add(el[\"vintage\"][\"id\"])\n",
    "    return vintage_ids, rows"
   ]
  },
  {
   "cell_type": "code",
   "execution_count": 87,
   "id": "46a3b531-019b-4fd1-84a8-e25dd35390c6",
   "metadata": {
    "scrolled": true
   },
   "outputs": [],
   "source": [
    "file_name = \"data/scrapped_data/scrapped_data_Red_50_100_ratings_average_[1, 2]_1.json\"\n",
    "vintage_ids, rows = process_one_file(file_name, set())"
   ]
  },
  {
   "cell_type": "code",
   "execution_count": 89,
   "id": "3c10e7ea-5823-4d64-95b5-61a8e3795583",
   "metadata": {},
   "outputs": [
    {
     "name": "stdout",
     "output_type": "stream",
     "text": [
      "{\n",
      "    \"wine_id\": 1917970,\n",
      "    \"vintage_id\": 173821915,\n",
      "    \"wine_type\": \"Red\",\n",
      "    \"region_id\": 25,\n",
      "    \"region_name\": \"Napa Valley\",\n",
      "    \"country_name\": \"United States\",\n",
      "    \"used_grapes\": \"Cabernet Sauvignon; Pinot Noir; Chardonnay\",\n",
      "    \"relevant_food\": \"Beef; Lamb; Game (deer, venison)\",\n",
      "    \"top_flavors\": \"chocolate; black fruit; smoke; blackberry; blackberry jam; licorice; lavender; camphor; white pepper; strawberry\",\n",
      "    \"vintage_name\": \"B Cellars Frediani Vineyard Petite Sirah 2020\",\n",
      "    \"wine_name\": \"Frediani Vineyard Petite Sirah\",\n",
      "    \"year\": 2020,\n",
      "    \"price\": 91,\n",
      "    \"currency_code\": \"USD\",\n",
      "    \"acidity\": 3.42,\n",
      "    \"intensity\": 4.51,\n",
      "    \"sweetness\": 1.61,\n",
      "    \"tannin\": 4.65,\n",
      "    \"fizziness\": null,\n",
      "    \"rating_avg\": 4.7,\n",
      "    \"rating_count\": 56,\n",
      "    \"vivino_url\": \"https://www.vivino.com/US/en/b-cellars-frediani-vineyard-petite-sirah/w/1917970\",\n",
      "    \"description\": \"Much like Malbec, Petite Sirah is the product of France but it found its home in places with a much warmer, dryer climate like Israel, Australia, and the United States.\\n\\nPetite Sirahs tend to be highly tannic and highly acidic. They exude strong blackberry notes, as well as a good kick of cracked black pepper.\\n\\nThe grape was developed by Dr. Francois Durif in the 1870s as a hybrid grape that  wasn't susceptible Powdery Mildew. He named the grape Durif, though confusion about the strain later led to it being named Petite Sirah.\\n\\nPetite Sirah has mostly been utilized as a blending grape as it contributes body, depth and is adept at toning down excessive \\u201cjaminess\\u201d, though in recent years it has been given more of an opportunity to shine as a dominant varietal.\\n\\nLike many big juicy red wines Petite Sirah pairs well with steaks, roasts, game and barbecued meat.\"\n",
      "}\n"
     ]
    }
   ],
   "source": [
    "[el['description'] for el in rows]\n",
    "print(json.dumps(rows[0], indent=4))"
   ]
  },
  {
   "cell_type": "code",
   "execution_count": null,
   "id": "efd30486-1c64-4866-ba7a-208d4afc4ebc",
   "metadata": {},
   "outputs": [],
   "source": []
  },
  {
   "cell_type": "markdown",
   "id": "05e84fae-4226-4953-bbcb-7214dda565fd",
   "metadata": {},
   "source": [
    "## All files"
   ]
  },
  {
   "cell_type": "code",
   "execution_count": 91,
   "id": "9f7414a7-3087-4a05-a3f9-c17a895ef503",
   "metadata": {},
   "outputs": [],
   "source": [
    "vintage_ids = set()       \n",
    "rows = []\n",
    "for file in os.listdir(\"data/scrapped_data\"):\n",
    "    vintage_ids, new_rows = process_one_file(f\"data/scrapped_data/{file}\", vintage_ids)\n",
    "    rows.extend(new_rows)\n",
    "\n",
    "df = pd.DataFrame(rows)\n",
    "df.to_csv(\"wines.csv\", index=False, encoding=\"utf-8\")"
   ]
  },
  {
   "cell_type": "code",
   "execution_count": 92,
   "id": "8dd2fd7b-caf7-47c6-840d-d2176a2b5661",
   "metadata": {},
   "outputs": [
    {
     "data": {
      "text/plain": [
       "7112"
      ]
     },
     "execution_count": 92,
     "metadata": {},
     "output_type": "execute_result"
    }
   ],
   "source": [
    "len(df)"
   ]
  },
  {
   "cell_type": "code",
   "execution_count": 93,
   "id": "206b3ec4-b269-4c37-a696-c28120118e43",
   "metadata": {},
   "outputs": [
    {
     "data": {
      "text/html": [
       "<div>\n",
       "<style scoped>\n",
       "    .dataframe tbody tr th:only-of-type {\n",
       "        vertical-align: middle;\n",
       "    }\n",
       "\n",
       "    .dataframe tbody tr th {\n",
       "        vertical-align: top;\n",
       "    }\n",
       "\n",
       "    .dataframe thead th {\n",
       "        text-align: right;\n",
       "    }\n",
       "</style>\n",
       "<table border=\"1\" class=\"dataframe\">\n",
       "  <thead>\n",
       "    <tr style=\"text-align: right;\">\n",
       "      <th></th>\n",
       "      <th>wine_id</th>\n",
       "      <th>vintage_id</th>\n",
       "      <th>wine_type</th>\n",
       "      <th>region_id</th>\n",
       "      <th>region_name</th>\n",
       "      <th>country_name</th>\n",
       "      <th>used_grapes</th>\n",
       "      <th>relevant_food</th>\n",
       "      <th>top_flavors</th>\n",
       "      <th>vintage_name</th>\n",
       "      <th>...</th>\n",
       "      <th>currency_code</th>\n",
       "      <th>acidity</th>\n",
       "      <th>intensity</th>\n",
       "      <th>sweetness</th>\n",
       "      <th>tannin</th>\n",
       "      <th>fizziness</th>\n",
       "      <th>rating_avg</th>\n",
       "      <th>rating_count</th>\n",
       "      <th>vivino_url</th>\n",
       "      <th>description</th>\n",
       "    </tr>\n",
       "  </thead>\n",
       "  <tbody>\n",
       "    <tr>\n",
       "      <th>0</th>\n",
       "      <td>1122095</td>\n",
       "      <td>164942645</td>\n",
       "      <td>Rose</td>\n",
       "      <td>409.0</td>\n",
       "      <td>Champagne</td>\n",
       "      <td>France</td>\n",
       "      <td>Pinot Noir; Chardonnay; Merlot</td>\n",
       "      <td>Pork; Rich fish (salmon, tuna etc); Shellfish;...</td>\n",
       "      <td>citrus; green apple; pear; apple; toast; brioc...</td>\n",
       "      <td>Moët &amp; Chandon Impérial Brut Champagne</td>\n",
       "      <td>...</td>\n",
       "      <td>USD</td>\n",
       "      <td>4.21</td>\n",
       "      <td>3.76</td>\n",
       "      <td>NaN</td>\n",
       "      <td>NaN</td>\n",
       "      <td>4.28</td>\n",
       "      <td>4.1</td>\n",
       "      <td>136529</td>\n",
       "      <td>https://www.vivino.com/US/en/moet-chandon-impe...</td>\n",
       "      <td>While there are many sparkling wine regions ar...</td>\n",
       "    </tr>\n",
       "    <tr>\n",
       "      <th>1</th>\n",
       "      <td>1178210</td>\n",
       "      <td>1561557</td>\n",
       "      <td>Rose</td>\n",
       "      <td>409.0</td>\n",
       "      <td>Champagne</td>\n",
       "      <td>France</td>\n",
       "      <td>Pinot Noir; Chardonnay; Merlot</td>\n",
       "      <td>Pork; Rich fish (salmon, tuna etc); Shellfish;...</td>\n",
       "      <td>apple; citrus; brioche; green apple; toast; pe...</td>\n",
       "      <td>Pommery Royal Brut Champagne</td>\n",
       "      <td>...</td>\n",
       "      <td>USD</td>\n",
       "      <td>4.15</td>\n",
       "      <td>3.66</td>\n",
       "      <td>NaN</td>\n",
       "      <td>NaN</td>\n",
       "      <td>4.23</td>\n",
       "      <td>3.9</td>\n",
       "      <td>39101</td>\n",
       "      <td>https://www.vivino.com/US/en/pommery-royal-bru...</td>\n",
       "      <td>While there are many sparkling wine regions ar...</td>\n",
       "    </tr>\n",
       "    <tr>\n",
       "      <th>2</th>\n",
       "      <td>6363154</td>\n",
       "      <td>157213587</td>\n",
       "      <td>Rose</td>\n",
       "      <td>4623.0</td>\n",
       "      <td>Champagne Grand Cru 'Chouilly'</td>\n",
       "      <td>France</td>\n",
       "      <td>Pinot Noir; Chardonnay; Merlot</td>\n",
       "      <td>Pork; Rich fish (salmon, tuna etc); Shellfish;...</td>\n",
       "      <td>apple; citrus; pear; brioche; green apple; toa...</td>\n",
       "      <td>Nicolas Feuillatte Réserve Exclusive Brut Cham...</td>\n",
       "      <td>...</td>\n",
       "      <td>USD</td>\n",
       "      <td>4.25</td>\n",
       "      <td>3.66</td>\n",
       "      <td>NaN</td>\n",
       "      <td>NaN</td>\n",
       "      <td>4.28</td>\n",
       "      <td>3.9</td>\n",
       "      <td>27382</td>\n",
       "      <td>https://www.vivino.com/US/en/nicolas-feuillatt...</td>\n",
       "      <td>While there are many sparkling wine regions ar...</td>\n",
       "    </tr>\n",
       "    <tr>\n",
       "      <th>3</th>\n",
       "      <td>1134756</td>\n",
       "      <td>1471106</td>\n",
       "      <td>Rose</td>\n",
       "      <td>3233.0</td>\n",
       "      <td>Prosecco di Treviso</td>\n",
       "      <td>Italy</td>\n",
       "      <td>Sangiovese; Chardonnay; Merlot</td>\n",
       "      <td>Shellfish; Vegetarian; Appetizers and snacks; ...</td>\n",
       "      <td>pear; apple; citrus; green apple; lemon; honey...</td>\n",
       "      <td>La Gioiosa Prosecco Treviso</td>\n",
       "      <td>...</td>\n",
       "      <td>USD</td>\n",
       "      <td>3.67</td>\n",
       "      <td>2.07</td>\n",
       "      <td>NaN</td>\n",
       "      <td>NaN</td>\n",
       "      <td>3.72</td>\n",
       "      <td>3.7</td>\n",
       "      <td>17190</td>\n",
       "      <td>https://www.vivino.com/US/en/la-gioiosa-prosec...</td>\n",
       "      <td>A beautiful, somewhat less popular, and often ...</td>\n",
       "    </tr>\n",
       "    <tr>\n",
       "      <th>4</th>\n",
       "      <td>1117594</td>\n",
       "      <td>1518502</td>\n",
       "      <td>Rose</td>\n",
       "      <td>724.0</td>\n",
       "      <td>Crémant de Bourgogne</td>\n",
       "      <td>France</td>\n",
       "      <td>Pinot Noir; Chardonnay; Merlot</td>\n",
       "      <td>Shellfish; Poultry; Appetizers and snacks; Lea...</td>\n",
       "      <td>citrus; minerals; apple; green apple; lemon; g...</td>\n",
       "      <td>Domaine Les Temps Perdus - Clotilde Davenne Cr...</td>\n",
       "      <td>...</td>\n",
       "      <td>USD</td>\n",
       "      <td>3.67</td>\n",
       "      <td>3.24</td>\n",
       "      <td>NaN</td>\n",
       "      <td>NaN</td>\n",
       "      <td>3.85</td>\n",
       "      <td>3.8</td>\n",
       "      <td>15736</td>\n",
       "      <td>https://www.vivino.com/US/en/clotilde-davenne-...</td>\n",
       "      <td>None</td>\n",
       "    </tr>\n",
       "  </tbody>\n",
       "</table>\n",
       "<p>5 rows × 23 columns</p>\n",
       "</div>"
      ],
      "text/plain": [
       "   wine_id  vintage_id wine_type  region_id                     region_name  \\\n",
       "0  1122095   164942645      Rose      409.0                       Champagne   \n",
       "1  1178210     1561557      Rose      409.0                       Champagne   \n",
       "2  6363154   157213587      Rose     4623.0  Champagne Grand Cru 'Chouilly'   \n",
       "3  1134756     1471106      Rose     3233.0             Prosecco di Treviso   \n",
       "4  1117594     1518502      Rose      724.0            Crémant de Bourgogne   \n",
       "\n",
       "  country_name                     used_grapes  \\\n",
       "0       France  Pinot Noir; Chardonnay; Merlot   \n",
       "1       France  Pinot Noir; Chardonnay; Merlot   \n",
       "2       France  Pinot Noir; Chardonnay; Merlot   \n",
       "3        Italy  Sangiovese; Chardonnay; Merlot   \n",
       "4       France  Pinot Noir; Chardonnay; Merlot   \n",
       "\n",
       "                                       relevant_food  \\\n",
       "0  Pork; Rich fish (salmon, tuna etc); Shellfish;...   \n",
       "1  Pork; Rich fish (salmon, tuna etc); Shellfish;...   \n",
       "2  Pork; Rich fish (salmon, tuna etc); Shellfish;...   \n",
       "3  Shellfish; Vegetarian; Appetizers and snacks; ...   \n",
       "4  Shellfish; Poultry; Appetizers and snacks; Lea...   \n",
       "\n",
       "                                         top_flavors  \\\n",
       "0  citrus; green apple; pear; apple; toast; brioc...   \n",
       "1  apple; citrus; brioche; green apple; toast; pe...   \n",
       "2  apple; citrus; pear; brioche; green apple; toa...   \n",
       "3  pear; apple; citrus; green apple; lemon; honey...   \n",
       "4  citrus; minerals; apple; green apple; lemon; g...   \n",
       "\n",
       "                                        vintage_name  ... currency_code  \\\n",
       "0             Moët & Chandon Impérial Brut Champagne  ...           USD   \n",
       "1                       Pommery Royal Brut Champagne  ...           USD   \n",
       "2  Nicolas Feuillatte Réserve Exclusive Brut Cham...  ...           USD   \n",
       "3                        La Gioiosa Prosecco Treviso  ...           USD   \n",
       "4  Domaine Les Temps Perdus - Clotilde Davenne Cr...  ...           USD   \n",
       "\n",
       "   acidity  intensity sweetness  tannin  fizziness  rating_avg  rating_count  \\\n",
       "0     4.21       3.76       NaN     NaN       4.28         4.1        136529   \n",
       "1     4.15       3.66       NaN     NaN       4.23         3.9         39101   \n",
       "2     4.25       3.66       NaN     NaN       4.28         3.9         27382   \n",
       "3     3.67       2.07       NaN     NaN       3.72         3.7         17190   \n",
       "4     3.67       3.24       NaN     NaN       3.85         3.8         15736   \n",
       "\n",
       "                                          vivino_url  \\\n",
       "0  https://www.vivino.com/US/en/moet-chandon-impe...   \n",
       "1  https://www.vivino.com/US/en/pommery-royal-bru...   \n",
       "2  https://www.vivino.com/US/en/nicolas-feuillatt...   \n",
       "3  https://www.vivino.com/US/en/la-gioiosa-prosec...   \n",
       "4  https://www.vivino.com/US/en/clotilde-davenne-...   \n",
       "\n",
       "                                         description  \n",
       "0  While there are many sparkling wine regions ar...  \n",
       "1  While there are many sparkling wine regions ar...  \n",
       "2  While there are many sparkling wine regions ar...  \n",
       "3  A beautiful, somewhat less popular, and often ...  \n",
       "4                                               None  \n",
       "\n",
       "[5 rows x 23 columns]"
      ]
     },
     "execution_count": 93,
     "metadata": {},
     "output_type": "execute_result"
    }
   ],
   "source": [
    "df.head()"
   ]
  },
  {
   "cell_type": "code",
   "execution_count": 70,
   "id": "7e74e38b-285d-4554-8438-f642eecf3965",
   "metadata": {},
   "outputs": [
    {
     "data": {
      "text/plain": [
       "3855"
      ]
     },
     "execution_count": 70,
     "metadata": {},
     "output_type": "execute_result"
    }
   ],
   "source": []
  },
  {
   "cell_type": "code",
   "execution_count": null,
   "id": "e1313f00-fab4-4a76-b30f-617cc6a24f30",
   "metadata": {},
   "outputs": [],
   "source": []
  }
 ],
 "metadata": {
  "kernelspec": {
   "display_name": "llm_zoomcamp_project2",
   "language": "python",
   "name": "llm_zoomcamp_project2"
  },
  "language_info": {
   "codemirror_mode": {
    "name": "ipython",
    "version": 3
   },
   "file_extension": ".py",
   "mimetype": "text/x-python",
   "name": "python",
   "nbconvert_exporter": "python",
   "pygments_lexer": "ipython3",
   "version": "3.11.9"
  }
 },
 "nbformat": 4,
 "nbformat_minor": 5
}
