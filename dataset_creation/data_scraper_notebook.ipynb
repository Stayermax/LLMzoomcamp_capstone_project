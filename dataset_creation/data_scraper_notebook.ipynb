{
 "cells": [
  {
   "cell_type": "markdown",
   "id": "a48a4e2b-f26b-4319-885e-f7c1cdbfe7fe",
   "metadata": {},
   "source": [
    "# Scrapping data "
   ]
  },
  {
   "cell_type": "code",
   "execution_count": 2,
   "id": "38b7afb7-95df-4450-82ba-2017f9c37676",
   "metadata": {},
   "outputs": [],
   "source": [
    "import os\n",
    "import json\n",
    "import pandas as pd\n",
    "from tqdm import tqdm\n",
    "from scraper import STYLES, PRICE_BINS, RATING_BINS, MIN_RATING, SORTS"
   ]
  },
  {
   "cell_type": "markdown",
   "id": "0475454f-7680-44f7-831d-3ff79d434f9e",
   "metadata": {},
   "source": [
    "## Let's test it once"
   ]
  },
  {
   "cell_type": "code",
   "execution_count": 3,
   "id": "ab6e627a-bc02-4b29-8afe-6027e6049460",
   "metadata": {},
   "outputs": [],
   "source": [
    "from scraper import run_actor, run_input"
   ]
  },
  {
   "cell_type": "code",
   "execution_count": 4,
   "id": "27813be4-6d6f-43b1-86ba-845f7c472817",
   "metadata": {},
   "outputs": [
    {
     "name": "stderr",
     "output_type": "stream",
     "text": [
      "\u001b[36m[apify.vivino runId:4xbXKz6mhyKWChBLN]\u001b[0m -> Status: RUNNING, Message: \n",
      "\u001b[36m[apify.vivino runId:4xbXKz6mhyKWChBLN]\u001b[0m -> 2025-08-09T15:50:00.977Z ACTOR: Pulling Docker image of build nkVEzOROcSLMN8Z2I from registry.\n",
      "\u001b[36m[apify.vivino runId:4xbXKz6mhyKWChBLN]\u001b[0m -> 2025-08-09T15:50:02.167Z ACTOR: Creating Docker container.\n",
      "\u001b[36m[apify.vivino runId:4xbXKz6mhyKWChBLN]\u001b[0m -> 2025-08-09T15:50:02.359Z ACTOR: Starting Docker container.\n",
      "\u001b[36m[apify.vivino runId:4xbXKz6mhyKWChBLN]\u001b[0m -> 2025-08-09T15:50:03.775Z \u001b[32mINFO\u001b[39m  System info\u001b[90m {\"apifyVersion\":\"3.4.4\",\"apifyClientVersion\":\"2.13.0\",\"crawleeVersion\":\"3.14.1\",\"osType\":\"Linux\",\"nodeVersion\":\"v18.20.8\"}\u001b[39m\n",
      "\u001b[36m[apify.vivino runId:4xbXKz6mhyKWChBLN]\u001b[0m -> 2025-08-09T15:50:11.359Z Total available results: 611\n",
      "\u001b[36m[apify.vivino runId:4xbXKz6mhyKWChBLN]\u001b[0m -> 2025-08-09T15:50:13.362Z Processing page 2 of 25..\n",
      "\u001b[36m[apify.vivino runId:4xbXKz6mhyKWChBLN]\u001b[0m -> 2025-08-09T15:50:17.379Z Processing page 3 of 25..\n",
      "\u001b[36m[apify.vivino runId:4xbXKz6mhyKWChBLN]\u001b[0m -> 2025-08-09T15:50:22.181Z Processing page 4 of 25..\n",
      "\u001b[36m[apify.vivino runId:4xbXKz6mhyKWChBLN]\u001b[0m -> 2025-08-09T15:50:25.479Z Processing page 5 of 25..\n",
      "\u001b[36m[apify.vivino runId:4xbXKz6mhyKWChBLN]\u001b[0m -> 2025-08-09T15:50:28.577Z Reached the maximum limit of 100 items.\n",
      "\u001b[36m[apify.vivino runId:4xbXKz6mhyKWChBLN]\u001b[0m -> 2025-08-09T15:50:28.579Z ✅ Found 120 items!\n",
      "\u001b[36m[apify.vivino runId:4xbXKz6mhyKWChBLN]\u001b[0m -> 2025-08-09T15:50:32.055Z Done.\n",
      "\u001b[36m[apify.vivino runId:4xbXKz6mhyKWChBLN]\u001b[0m -> Status: SUCCEEDED, Message: \n"
     ]
    },
    {
     "data": {
      "text/plain": [
       "120"
      ]
     },
     "execution_count": 4,
     "metadata": {},
     "output_type": "execute_result"
    }
   ],
   "source": [
    "style = STYLES[1]\n",
    "pmin = PRICE_BINS[0][0]\n",
    "pmax = PRICE_BINS[0][1]\n",
    "rbin = RATING_BINS[0]\n",
    "sort_by = SORTS[0]\n",
    "min_rating = MIN_RATING[0]\n",
    "results_max = 100\n",
    "\n",
    "res = run_actor(style, pmin, pmax, rbin, sort_by, min_rating, results_max)\n",
    "len(res)"
   ]
  },
  {
   "cell_type": "markdown",
   "id": "52395840-9f78-4f94-975b-b20192c02a07",
   "metadata": {},
   "source": [
    "## Now to getting all the data"
   ]
  },
  {
   "cell_type": "code",
   "execution_count": 3,
   "id": "6cddb014-be4a-4cba-b828-0e63b98f2069",
   "metadata": {},
   "outputs": [],
   "source": [
    "from scraper import run_all"
   ]
  },
  {
   "cell_type": "code",
   "execution_count": 5,
   "id": "a79a5e3a-4bfa-4804-97b4-068f6e0d0a6d",
   "metadata": {
    "scrolled": true
   },
   "outputs": [
    {
     "name": "stderr",
     "output_type": "stream",
     "text": [
      "  0%|                                                                                                                       | 0/2 [00:00<?, ?it/s]\n",
      "  0%|                                                                                                                       | 0/2 [00:00<?, ?it/s]\u001b[A\n",
      "\n",
      "  0%|                                                                                                                       | 0/5 [00:00<?, ?it/s]\u001b[A\u001b[A\n",
      "\n",
      "\n",
      "  0%|                                                                                                                       | 0/6 [00:00<?, ?it/s]\u001b[A\u001b[A\u001b[A\n",
      "\n",
      "\n",
      "\n",
      "100%|████████████████████████████████████████████████████████████████████████████████████████████████████████████| 4/4 [00:00<00:00, 11626.62it/s]\u001b[A\u001b[A\u001b[A\u001b[A\n"
     ]
    },
    {
     "name": "stdout",
     "output_type": "stream",
     "text": [
      "Running actor for ['Red'] 0 15 [3, 4, 5] ratings_average 1\n",
      "File data/scrapped_data/scrapped_data_Red_0_15_ratings_average_[3, 4, 5]_1.json already exists\n",
      "Running actor for ['Red'] 0 15 [3, 4, 5] ratings_average 3.2\n",
      "File data/scrapped_data/scrapped_data_Red_0_15_ratings_average_[3, 4, 5]_3.2.json already exists\n",
      "Running actor for ['Red'] 0 15 [3, 4, 5] ratings_average 3.8\n",
      "File data/scrapped_data/scrapped_data_Red_0_15_ratings_average_[3, 4, 5]_3.8.json already exists\n",
      "Running actor for ['Red'] 0 15 [3, 4, 5] ratings_average 4.2\n",
      "File data/scrapped_data/scrapped_data_Red_0_15_ratings_average_[3, 4, 5]_4.2.json already exists\n"
     ]
    },
    {
     "name": "stderr",
     "output_type": "stream",
     "text": [
      "\n",
      "\n",
      "\n",
      "\n",
      "100%|█████████████████████████████████████████████████████████████████████████████████████████████████████████████| 4/4 [00:00<00:00, 9759.87it/s]\u001b[A\u001b[A\u001b[A\u001b[A\n"
     ]
    },
    {
     "name": "stdout",
     "output_type": "stream",
     "text": [
      "Running actor for ['White'] 0 15 [3, 4, 5] ratings_average 1\n",
      "File data/scrapped_data/scrapped_data_White_0_15_ratings_average_[3, 4, 5]_1.json already exists\n",
      "Running actor for ['White'] 0 15 [3, 4, 5] ratings_average 3.2\n",
      "File data/scrapped_data/scrapped_data_White_0_15_ratings_average_[3, 4, 5]_3.2.json already exists\n",
      "Running actor for ['White'] 0 15 [3, 4, 5] ratings_average 3.8\n",
      "File data/scrapped_data/scrapped_data_White_0_15_ratings_average_[3, 4, 5]_3.8.json already exists\n",
      "Running actor for ['White'] 0 15 [3, 4, 5] ratings_average 4.2\n",
      "File data/scrapped_data/scrapped_data_White_0_15_ratings_average_[3, 4, 5]_4.2.json already exists\n"
     ]
    },
    {
     "name": "stderr",
     "output_type": "stream",
     "text": [
      "\n",
      "\n",
      "\n",
      "\n",
      "100%|█████████████████████████████████████████████████████████████████████████████████████████████████████████████| 4/4 [00:00<00:00, 8313.78it/s]\u001b[A\u001b[A\u001b[A\u001b[A\n"
     ]
    },
    {
     "name": "stdout",
     "output_type": "stream",
     "text": [
      "Running actor for ['Rose'] 0 15 [3, 4, 5] ratings_average 1\n",
      "File data/scrapped_data/scrapped_data_Rose_0_15_ratings_average_[3, 4, 5]_1.json already exists\n",
      "Running actor for ['Rose'] 0 15 [3, 4, 5] ratings_average 3.2\n",
      "File data/scrapped_data/scrapped_data_Rose_0_15_ratings_average_[3, 4, 5]_3.2.json already exists\n",
      "Running actor for ['Rose'] 0 15 [3, 4, 5] ratings_average 3.8\n",
      "File data/scrapped_data/scrapped_data_Rose_0_15_ratings_average_[3, 4, 5]_3.8.json already exists\n",
      "Running actor for ['Rose'] 0 15 [3, 4, 5] ratings_average 4.2\n",
      "File data/scrapped_data/scrapped_data_Rose_0_15_ratings_average_[3, 4, 5]_4.2.json already exists\n"
     ]
    },
    {
     "name": "stderr",
     "output_type": "stream",
     "text": [
      "\n",
      "\n",
      "\n",
      "\n",
      "100%|█████████████████████████████████████████████████████████████████████████████████████████████████████████████| 4/4 [00:00<00:00, 9998.34it/s]\u001b[A\u001b[A\u001b[A\u001b[A\n"
     ]
    },
    {
     "name": "stdout",
     "output_type": "stream",
     "text": [
      "Running actor for ['Sparkling'] 0 15 [3, 4, 5] ratings_average 1\n",
      "File data/scrapped_data/scrapped_data_Sparkling_0_15_ratings_average_[3, 4, 5]_1.json already exists\n",
      "Running actor for ['Sparkling'] 0 15 [3, 4, 5] ratings_average 3.2\n",
      "File data/scrapped_data/scrapped_data_Sparkling_0_15_ratings_average_[3, 4, 5]_3.2.json already exists\n",
      "Running actor for ['Sparkling'] 0 15 [3, 4, 5] ratings_average 3.8\n",
      "File data/scrapped_data/scrapped_data_Sparkling_0_15_ratings_average_[3, 4, 5]_3.8.json already exists\n",
      "Running actor for ['Sparkling'] 0 15 [3, 4, 5] ratings_average 4.2\n",
      "File data/scrapped_data/scrapped_data_Sparkling_0_15_ratings_average_[3, 4, 5]_4.2.json already exists\n"
     ]
    },
    {
     "name": "stderr",
     "output_type": "stream",
     "text": [
      "\n",
      "\n",
      "\n",
      "\n",
      "100%|█████████████████████████████████████████████████████████████████████████████████████████████████████████████| 4/4 [00:00<00:00, 6116.37it/s]\u001b[A\u001b[A\u001b[A\u001b[A\n"
     ]
    },
    {
     "name": "stdout",
     "output_type": "stream",
     "text": [
      "Running actor for ['Dessert'] 0 15 [3, 4, 5] ratings_average 1\n",
      "File data/scrapped_data/scrapped_data_Dessert_0_15_ratings_average_[3, 4, 5]_1.json already exists\n",
      "Running actor for ['Dessert'] 0 15 [3, 4, 5] ratings_average 3.2\n",
      "File data/scrapped_data/scrapped_data_Dessert_0_15_ratings_average_[3, 4, 5]_3.2.json already exists\n",
      "Running actor for ['Dessert'] 0 15 [3, 4, 5] ratings_average 3.8\n",
      "File data/scrapped_data/scrapped_data_Dessert_0_15_ratings_average_[3, 4, 5]_3.8.json already exists\n",
      "Running actor for ['Dessert'] 0 15 [3, 4, 5] ratings_average 4.2\n",
      "File data/scrapped_data/scrapped_data_Dessert_0_15_ratings_average_[3, 4, 5]_4.2.json already exists\n"
     ]
    },
    {
     "name": "stderr",
     "output_type": "stream",
     "text": [
      "\n",
      "\n",
      "\n",
      "\n",
      "100%|█████████████████████████████████████████████████████████████████████████████████████████████████████████████| 4/4 [00:00<00:00, 3184.14it/s]\u001b[A\u001b[A\u001b[A\u001b[A\n",
      "100%|██████████████████████████████████████████████████████████████████████████████████████████████████████████████| 6/6 [00:00<00:00, 470.74it/s]\n"
     ]
    },
    {
     "name": "stdout",
     "output_type": "stream",
     "text": [
      "Running actor for ['Fortified'] 0 15 [3, 4, 5] ratings_average 1\n",
      "File data/scrapped_data/scrapped_data_Fortified_0_15_ratings_average_[3, 4, 5]_1.json already exists\n",
      "Running actor for ['Fortified'] 0 15 [3, 4, 5] ratings_average 3.2\n",
      "File data/scrapped_data/scrapped_data_Fortified_0_15_ratings_average_[3, 4, 5]_3.2.json already exists\n",
      "Running actor for ['Fortified'] 0 15 [3, 4, 5] ratings_average 3.8\n",
      "File data/scrapped_data/scrapped_data_Fortified_0_15_ratings_average_[3, 4, 5]_3.8.json already exists\n",
      "Running actor for ['Fortified'] 0 15 [3, 4, 5] ratings_average 4.2\n",
      "File data/scrapped_data/scrapped_data_Fortified_0_15_ratings_average_[3, 4, 5]_4.2.json already exists\n"
     ]
    },
    {
     "name": "stderr",
     "output_type": "stream",
     "text": [
      "\n",
      "\n",
      "\n",
      "  0%|                                                                                                                       | 0/6 [00:00<?, ?it/s]\u001b[A\u001b[A\u001b[A\n",
      "\n",
      "\n",
      "\n",
      "100%|█████████████████████████████████████████████████████████████████████████████████████████████████████████████| 4/4 [00:00<00:00, 7936.24it/s]\u001b[A\u001b[A\u001b[A\u001b[A\n"
     ]
    },
    {
     "name": "stdout",
     "output_type": "stream",
     "text": [
      "Running actor for ['Red'] 15 30 [3, 4, 5] ratings_average 1\n",
      "File data/scrapped_data/scrapped_data_Red_15_30_ratings_average_[3, 4, 5]_1.json already exists\n",
      "Running actor for ['Red'] 15 30 [3, 4, 5] ratings_average 3.2\n",
      "File data/scrapped_data/scrapped_data_Red_15_30_ratings_average_[3, 4, 5]_3.2.json already exists\n",
      "Running actor for ['Red'] 15 30 [3, 4, 5] ratings_average 3.8\n",
      "File data/scrapped_data/scrapped_data_Red_15_30_ratings_average_[3, 4, 5]_3.8.json already exists\n",
      "Running actor for ['Red'] 15 30 [3, 4, 5] ratings_average 4.2\n",
      "File data/scrapped_data/scrapped_data_Red_15_30_ratings_average_[3, 4, 5]_4.2.json already exists\n"
     ]
    },
    {
     "name": "stderr",
     "output_type": "stream",
     "text": [
      "\n",
      "\n",
      "\n",
      "\n",
      "100%|████████████████████████████████████████████████████████████████████████████████████████████████████████████| 4/4 [00:00<00:00, 17848.10it/s]\u001b[A\u001b[A\u001b[A\u001b[A\n"
     ]
    },
    {
     "name": "stdout",
     "output_type": "stream",
     "text": [
      "Running actor for ['White'] 15 30 [3, 4, 5] ratings_average 1\n",
      "File data/scrapped_data/scrapped_data_White_15_30_ratings_average_[3, 4, 5]_1.json already exists\n",
      "Running actor for ['White'] 15 30 [3, 4, 5] ratings_average 3.2\n",
      "File data/scrapped_data/scrapped_data_White_15_30_ratings_average_[3, 4, 5]_3.2.json already exists\n",
      "Running actor for ['White'] 15 30 [3, 4, 5] ratings_average 3.8\n",
      "File data/scrapped_data/scrapped_data_White_15_30_ratings_average_[3, 4, 5]_3.8.json already exists\n",
      "Running actor for ['White'] 15 30 [3, 4, 5] ratings_average 4.2\n",
      "File data/scrapped_data/scrapped_data_White_15_30_ratings_average_[3, 4, 5]_4.2.json already exists\n"
     ]
    },
    {
     "name": "stderr",
     "output_type": "stream",
     "text": [
      "\n",
      "\n",
      "\n",
      "\n",
      "100%|████████████████████████████████████████████████████████████████████████████████████████████████████████████| 4/4 [00:00<00:00, 20189.19it/s]\u001b[A\u001b[A\u001b[A\u001b[A\n"
     ]
    },
    {
     "name": "stdout",
     "output_type": "stream",
     "text": [
      "Running actor for ['Rose'] 15 30 [3, 4, 5] ratings_average 1\n",
      "File data/scrapped_data/scrapped_data_Rose_15_30_ratings_average_[3, 4, 5]_1.json already exists\n",
      "Running actor for ['Rose'] 15 30 [3, 4, 5] ratings_average 3.2\n",
      "File data/scrapped_data/scrapped_data_Rose_15_30_ratings_average_[3, 4, 5]_3.2.json already exists\n",
      "Running actor for ['Rose'] 15 30 [3, 4, 5] ratings_average 3.8\n",
      "File data/scrapped_data/scrapped_data_Rose_15_30_ratings_average_[3, 4, 5]_3.8.json already exists\n",
      "Running actor for ['Rose'] 15 30 [3, 4, 5] ratings_average 4.2\n",
      "File data/scrapped_data/scrapped_data_Rose_15_30_ratings_average_[3, 4, 5]_4.2.json already exists\n"
     ]
    },
    {
     "name": "stderr",
     "output_type": "stream",
     "text": [
      "\n",
      "\n",
      "\n",
      "\n",
      "100%|█████████████████████████████████████████████████████████████████████████████████████████████████████████████| 4/4 [00:00<00:00, 8697.36it/s]\u001b[A\u001b[A\u001b[A\u001b[A\n"
     ]
    },
    {
     "name": "stdout",
     "output_type": "stream",
     "text": [
      "Running actor for ['Sparkling'] 15 30 [3, 4, 5] ratings_average 1\n",
      "File data/scrapped_data/scrapped_data_Sparkling_15_30_ratings_average_[3, 4, 5]_1.json already exists\n",
      "Running actor for ['Sparkling'] 15 30 [3, 4, 5] ratings_average 3.2\n",
      "File data/scrapped_data/scrapped_data_Sparkling_15_30_ratings_average_[3, 4, 5]_3.2.json already exists\n",
      "Running actor for ['Sparkling'] 15 30 [3, 4, 5] ratings_average 3.8\n",
      "File data/scrapped_data/scrapped_data_Sparkling_15_30_ratings_average_[3, 4, 5]_3.8.json already exists\n",
      "Running actor for ['Sparkling'] 15 30 [3, 4, 5] ratings_average 4.2\n",
      "File data/scrapped_data/scrapped_data_Sparkling_15_30_ratings_average_[3, 4, 5]_4.2.json already exists\n"
     ]
    },
    {
     "name": "stderr",
     "output_type": "stream",
     "text": [
      "\n",
      "\n",
      "\n",
      "\n",
      "100%|████████████████████████████████████████████████████████████████████████████████████████████████████████████| 4/4 [00:00<00:00, 14979.66it/s]\u001b[A\u001b[A\u001b[A\u001b[A\n"
     ]
    },
    {
     "name": "stdout",
     "output_type": "stream",
     "text": [
      "Running actor for ['Dessert'] 15 30 [3, 4, 5] ratings_average 1\n",
      "File data/scrapped_data/scrapped_data_Dessert_15_30_ratings_average_[3, 4, 5]_1.json already exists\n",
      "Running actor for ['Dessert'] 15 30 [3, 4, 5] ratings_average 3.2\n",
      "File data/scrapped_data/scrapped_data_Dessert_15_30_ratings_average_[3, 4, 5]_3.2.json already exists\n",
      "Running actor for ['Dessert'] 15 30 [3, 4, 5] ratings_average 3.8\n",
      "File data/scrapped_data/scrapped_data_Dessert_15_30_ratings_average_[3, 4, 5]_3.8.json already exists\n",
      "Running actor for ['Dessert'] 15 30 [3, 4, 5] ratings_average 4.2\n",
      "File data/scrapped_data/scrapped_data_Dessert_15_30_ratings_average_[3, 4, 5]_4.2.json already exists\n"
     ]
    },
    {
     "name": "stderr",
     "output_type": "stream",
     "text": [
      "\n",
      "\n",
      "\n",
      "\n",
      "100%|████████████████████████████████████████████████████████████████████████████████████████████████████████████| 4/4 [00:00<00:00, 15210.53it/s]\u001b[A\u001b[A\u001b[A\u001b[A\n",
      "100%|██████████████████████████████████████████████████████████████████████████████████████████████████████████████| 6/6 [00:00<00:00, 556.84it/s]\n"
     ]
    },
    {
     "name": "stdout",
     "output_type": "stream",
     "text": [
      "Running actor for ['Fortified'] 15 30 [3, 4, 5] ratings_average 1\n",
      "File data/scrapped_data/scrapped_data_Fortified_15_30_ratings_average_[3, 4, 5]_1.json already exists\n",
      "Running actor for ['Fortified'] 15 30 [3, 4, 5] ratings_average 3.2\n",
      "File data/scrapped_data/scrapped_data_Fortified_15_30_ratings_average_[3, 4, 5]_3.2.json already exists\n",
      "Running actor for ['Fortified'] 15 30 [3, 4, 5] ratings_average 3.8\n",
      "File data/scrapped_data/scrapped_data_Fortified_15_30_ratings_average_[3, 4, 5]_3.8.json already exists\n",
      "Running actor for ['Fortified'] 15 30 [3, 4, 5] ratings_average 4.2\n",
      "File data/scrapped_data/scrapped_data_Fortified_15_30_ratings_average_[3, 4, 5]_4.2.json already exists\n"
     ]
    },
    {
     "name": "stderr",
     "output_type": "stream",
     "text": [
      "\n",
      "\n",
      "\n",
      "  0%|                                                                                                                       | 0/6 [00:00<?, ?it/s]\u001b[A\u001b[A\u001b[A\n",
      "\n",
      "\n",
      "\n",
      "100%|████████████████████████████████████████████████████████████████████████████████████████████████████████████| 4/4 [00:00<00:00, 10987.04it/s]\u001b[A\u001b[A\u001b[A\u001b[A\n"
     ]
    },
    {
     "name": "stdout",
     "output_type": "stream",
     "text": [
      "Running actor for ['Red'] 30 50 [3, 4, 5] ratings_average 1\n",
      "File data/scrapped_data/scrapped_data_Red_30_50_ratings_average_[3, 4, 5]_1.json already exists\n",
      "Running actor for ['Red'] 30 50 [3, 4, 5] ratings_average 3.2\n",
      "File data/scrapped_data/scrapped_data_Red_30_50_ratings_average_[3, 4, 5]_3.2.json already exists\n",
      "Running actor for ['Red'] 30 50 [3, 4, 5] ratings_average 3.8\n",
      "File data/scrapped_data/scrapped_data_Red_30_50_ratings_average_[3, 4, 5]_3.8.json already exists\n",
      "Running actor for ['Red'] 30 50 [3, 4, 5] ratings_average 4.2\n",
      "File data/scrapped_data/scrapped_data_Red_30_50_ratings_average_[3, 4, 5]_4.2.json already exists\n"
     ]
    },
    {
     "name": "stderr",
     "output_type": "stream",
     "text": [
      "\n",
      "\n",
      "\n",
      "\n",
      "100%|█████████████████████████████████████████████████████████████████████████████████████████████████████████████| 4/4 [00:00<00:00, 9903.91it/s]\u001b[A\u001b[A\u001b[A\u001b[A\n"
     ]
    },
    {
     "name": "stdout",
     "output_type": "stream",
     "text": [
      "Running actor for ['White'] 30 50 [3, 4, 5] ratings_average 1\n",
      "File data/scrapped_data/scrapped_data_White_30_50_ratings_average_[3, 4, 5]_1.json already exists\n",
      "Running actor for ['White'] 30 50 [3, 4, 5] ratings_average 3.2\n",
      "File data/scrapped_data/scrapped_data_White_30_50_ratings_average_[3, 4, 5]_3.2.json already exists\n",
      "Running actor for ['White'] 30 50 [3, 4, 5] ratings_average 3.8\n",
      "File data/scrapped_data/scrapped_data_White_30_50_ratings_average_[3, 4, 5]_3.8.json already exists\n",
      "Running actor for ['White'] 30 50 [3, 4, 5] ratings_average 4.2\n",
      "File data/scrapped_data/scrapped_data_White_30_50_ratings_average_[3, 4, 5]_4.2.json already exists\n"
     ]
    },
    {
     "name": "stderr",
     "output_type": "stream",
     "text": [
      "\n",
      "\n",
      "\n",
      "\n",
      "100%|█████████████████████████████████████████████████████████████████████████████████████████████████████████████| 4/4 [00:00<00:00, 8148.24it/s]\u001b[A\u001b[A\u001b[A\u001b[A\n"
     ]
    },
    {
     "name": "stdout",
     "output_type": "stream",
     "text": [
      "Running actor for ['Rose'] 30 50 [3, 4, 5] ratings_average 1\n",
      "File data/scrapped_data/scrapped_data_Rose_30_50_ratings_average_[3, 4, 5]_1.json already exists\n",
      "Running actor for ['Rose'] 30 50 [3, 4, 5] ratings_average 3.2\n",
      "File data/scrapped_data/scrapped_data_Rose_30_50_ratings_average_[3, 4, 5]_3.2.json already exists\n",
      "Running actor for ['Rose'] 30 50 [3, 4, 5] ratings_average 3.8\n",
      "File data/scrapped_data/scrapped_data_Rose_30_50_ratings_average_[3, 4, 5]_3.8.json already exists\n",
      "Running actor for ['Rose'] 30 50 [3, 4, 5] ratings_average 4.2\n",
      "File data/scrapped_data/scrapped_data_Rose_30_50_ratings_average_[3, 4, 5]_4.2.json already exists\n"
     ]
    },
    {
     "name": "stderr",
     "output_type": "stream",
     "text": [
      "\n",
      "\n",
      "\n",
      "\n",
      "100%|████████████████████████████████████████████████████████████████████████████████████████████████████████████| 4/4 [00:00<00:00, 12895.63it/s]\u001b[A\u001b[A\u001b[A\u001b[A\n"
     ]
    },
    {
     "name": "stdout",
     "output_type": "stream",
     "text": [
      "Running actor for ['Sparkling'] 30 50 [3, 4, 5] ratings_average 1\n",
      "File data/scrapped_data/scrapped_data_Sparkling_30_50_ratings_average_[3, 4, 5]_1.json already exists\n",
      "Running actor for ['Sparkling'] 30 50 [3, 4, 5] ratings_average 3.2\n",
      "File data/scrapped_data/scrapped_data_Sparkling_30_50_ratings_average_[3, 4, 5]_3.2.json already exists\n",
      "Running actor for ['Sparkling'] 30 50 [3, 4, 5] ratings_average 3.8\n",
      "File data/scrapped_data/scrapped_data_Sparkling_30_50_ratings_average_[3, 4, 5]_3.8.json already exists\n",
      "Running actor for ['Sparkling'] 30 50 [3, 4, 5] ratings_average 4.2\n",
      "File data/scrapped_data/scrapped_data_Sparkling_30_50_ratings_average_[3, 4, 5]_4.2.json already exists\n"
     ]
    },
    {
     "name": "stderr",
     "output_type": "stream",
     "text": [
      "\n",
      "\n",
      "\n",
      "\n",
      "100%|████████████████████████████████████████████████████████████████████████████████████████████████████████████| 4/4 [00:00<00:00, 18600.02it/s]\u001b[A\u001b[A\u001b[A\u001b[A\n"
     ]
    },
    {
     "name": "stdout",
     "output_type": "stream",
     "text": [
      "Running actor for ['Dessert'] 30 50 [3, 4, 5] ratings_average 1\n",
      "File data/scrapped_data/scrapped_data_Dessert_30_50_ratings_average_[3, 4, 5]_1.json already exists\n",
      "Running actor for ['Dessert'] 30 50 [3, 4, 5] ratings_average 3.2\n",
      "File data/scrapped_data/scrapped_data_Dessert_30_50_ratings_average_[3, 4, 5]_3.2.json already exists\n",
      "Running actor for ['Dessert'] 30 50 [3, 4, 5] ratings_average 3.8\n",
      "File data/scrapped_data/scrapped_data_Dessert_30_50_ratings_average_[3, 4, 5]_3.8.json already exists\n",
      "Running actor for ['Dessert'] 30 50 [3, 4, 5] ratings_average 4.2\n",
      "File data/scrapped_data/scrapped_data_Dessert_30_50_ratings_average_[3, 4, 5]_4.2.json already exists\n"
     ]
    },
    {
     "name": "stderr",
     "output_type": "stream",
     "text": [
      "\n",
      "\n",
      "\n",
      "\n",
      "100%|████████████████████████████████████████████████████████████████████████████████████████████████████████████| 4/4 [00:00<00:00, 16131.94it/s]\u001b[A\u001b[A\u001b[A\u001b[A\n",
      "100%|██████████████████████████████████████████████████████████████████████████████████████████████████████████████| 6/6 [00:00<00:00, 557.11it/s]\n"
     ]
    },
    {
     "name": "stdout",
     "output_type": "stream",
     "text": [
      "Running actor for ['Fortified'] 30 50 [3, 4, 5] ratings_average 1\n",
      "File data/scrapped_data/scrapped_data_Fortified_30_50_ratings_average_[3, 4, 5]_1.json already exists\n",
      "Running actor for ['Fortified'] 30 50 [3, 4, 5] ratings_average 3.2\n",
      "File data/scrapped_data/scrapped_data_Fortified_30_50_ratings_average_[3, 4, 5]_3.2.json already exists\n",
      "Running actor for ['Fortified'] 30 50 [3, 4, 5] ratings_average 3.8\n",
      "File data/scrapped_data/scrapped_data_Fortified_30_50_ratings_average_[3, 4, 5]_3.8.json already exists\n",
      "Running actor for ['Fortified'] 30 50 [3, 4, 5] ratings_average 4.2\n",
      "File data/scrapped_data/scrapped_data_Fortified_30_50_ratings_average_[3, 4, 5]_4.2.json already exists\n"
     ]
    },
    {
     "name": "stderr",
     "output_type": "stream",
     "text": [
      "\n",
      "\n",
      "\n",
      "  0%|                                                                                                                       | 0/6 [00:00<?, ?it/s]\u001b[A\u001b[A\u001b[A\n",
      "\n",
      "\n",
      "\n",
      "100%|█████████████████████████████████████████████████████████████████████████████████████████████████████████████| 4/4 [00:00<00:00, 5586.82it/s]\u001b[A\u001b[A\u001b[A\u001b[A\n"
     ]
    },
    {
     "name": "stdout",
     "output_type": "stream",
     "text": [
      "Running actor for ['Red'] 50 100 [3, 4, 5] ratings_average 1\n",
      "File data/scrapped_data/scrapped_data_Red_50_100_ratings_average_[3, 4, 5]_1.json already exists\n",
      "Running actor for ['Red'] 50 100 [3, 4, 5] ratings_average 3.2\n",
      "File data/scrapped_data/scrapped_data_Red_50_100_ratings_average_[3, 4, 5]_3.2.json already exists\n",
      "Running actor for ['Red'] 50 100 [3, 4, 5] ratings_average 3.8\n",
      "File data/scrapped_data/scrapped_data_Red_50_100_ratings_average_[3, 4, 5]_3.8.json already exists\n",
      "Running actor for ['Red'] 50 100 [3, 4, 5] ratings_average 4.2\n",
      "File data/scrapped_data/scrapped_data_Red_50_100_ratings_average_[3, 4, 5]_4.2.json already exists\n"
     ]
    },
    {
     "name": "stderr",
     "output_type": "stream",
     "text": [
      "\n",
      "\n",
      "\n",
      "\n",
      "100%|█████████████████████████████████████████████████████████████████████████████████████████████████████████████| 4/4 [00:00<00:00, 9393.74it/s]\u001b[A\u001b[A\u001b[A\u001b[A\n"
     ]
    },
    {
     "name": "stdout",
     "output_type": "stream",
     "text": [
      "Running actor for ['White'] 50 100 [3, 4, 5] ratings_average 1\n",
      "File data/scrapped_data/scrapped_data_White_50_100_ratings_average_[3, 4, 5]_1.json already exists\n",
      "Running actor for ['White'] 50 100 [3, 4, 5] ratings_average 3.2\n",
      "File data/scrapped_data/scrapped_data_White_50_100_ratings_average_[3, 4, 5]_3.2.json already exists\n",
      "Running actor for ['White'] 50 100 [3, 4, 5] ratings_average 3.8\n",
      "File data/scrapped_data/scrapped_data_White_50_100_ratings_average_[3, 4, 5]_3.8.json already exists\n",
      "Running actor for ['White'] 50 100 [3, 4, 5] ratings_average 4.2\n",
      "File data/scrapped_data/scrapped_data_White_50_100_ratings_average_[3, 4, 5]_4.2.json already exists\n"
     ]
    },
    {
     "name": "stderr",
     "output_type": "stream",
     "text": [
      "\n",
      "\n",
      "\n",
      "\n",
      "100%|█████████████████████████████████████████████████████████████████████████████████████████████████████████████| 4/4 [00:00<00:00, 7951.29it/s]\u001b[A\u001b[A\u001b[A\u001b[A\n"
     ]
    },
    {
     "name": "stdout",
     "output_type": "stream",
     "text": [
      "Running actor for ['Rose'] 50 100 [3, 4, 5] ratings_average 1\n",
      "File data/scrapped_data/scrapped_data_Rose_50_100_ratings_average_[3, 4, 5]_1.json already exists\n",
      "Running actor for ['Rose'] 50 100 [3, 4, 5] ratings_average 3.2\n",
      "File data/scrapped_data/scrapped_data_Rose_50_100_ratings_average_[3, 4, 5]_3.2.json already exists\n",
      "Running actor for ['Rose'] 50 100 [3, 4, 5] ratings_average 3.8\n",
      "File data/scrapped_data/scrapped_data_Rose_50_100_ratings_average_[3, 4, 5]_3.8.json already exists\n",
      "Running actor for ['Rose'] 50 100 [3, 4, 5] ratings_average 4.2\n",
      "File data/scrapped_data/scrapped_data_Rose_50_100_ratings_average_[3, 4, 5]_4.2.json already exists\n"
     ]
    },
    {
     "name": "stderr",
     "output_type": "stream",
     "text": [
      "\n",
      "\n",
      "\n",
      "\n",
      "100%|█████████████████████████████████████████████████████████████████████████████████████████████████████████████| 4/4 [00:00<00:00, 8643.59it/s]\u001b[A\u001b[A\u001b[A\u001b[A\n"
     ]
    },
    {
     "name": "stdout",
     "output_type": "stream",
     "text": [
      "Running actor for ['Sparkling'] 50 100 [3, 4, 5] ratings_average 1\n",
      "File data/scrapped_data/scrapped_data_Sparkling_50_100_ratings_average_[3, 4, 5]_1.json already exists\n",
      "Running actor for ['Sparkling'] 50 100 [3, 4, 5] ratings_average 3.2\n",
      "File data/scrapped_data/scrapped_data_Sparkling_50_100_ratings_average_[3, 4, 5]_3.2.json already exists\n",
      "Running actor for ['Sparkling'] 50 100 [3, 4, 5] ratings_average 3.8\n",
      "File data/scrapped_data/scrapped_data_Sparkling_50_100_ratings_average_[3, 4, 5]_3.8.json already exists\n",
      "Running actor for ['Sparkling'] 50 100 [3, 4, 5] ratings_average 4.2\n",
      "File data/scrapped_data/scrapped_data_Sparkling_50_100_ratings_average_[3, 4, 5]_4.2.json already exists\n"
     ]
    },
    {
     "name": "stderr",
     "output_type": "stream",
     "text": [
      "\n",
      "\n",
      "\n",
      "\n",
      "100%|████████████████████████████████████████████████████████████████████████████████████████████████████████████| 4/4 [00:00<00:00, 12192.74it/s]\u001b[A\u001b[A\u001b[A\u001b[A\n"
     ]
    },
    {
     "name": "stdout",
     "output_type": "stream",
     "text": [
      "Running actor for ['Dessert'] 50 100 [3, 4, 5] ratings_average 1\n",
      "File data/scrapped_data/scrapped_data_Dessert_50_100_ratings_average_[3, 4, 5]_1.json already exists\n",
      "Running actor for ['Dessert'] 50 100 [3, 4, 5] ratings_average 3.2\n",
      "File data/scrapped_data/scrapped_data_Dessert_50_100_ratings_average_[3, 4, 5]_3.2.json already exists\n",
      "Running actor for ['Dessert'] 50 100 [3, 4, 5] ratings_average 3.8\n",
      "File data/scrapped_data/scrapped_data_Dessert_50_100_ratings_average_[3, 4, 5]_3.8.json already exists\n",
      "Running actor for ['Dessert'] 50 100 [3, 4, 5] ratings_average 4.2\n",
      "File data/scrapped_data/scrapped_data_Dessert_50_100_ratings_average_[3, 4, 5]_4.2.json already exists\n"
     ]
    },
    {
     "name": "stderr",
     "output_type": "stream",
     "text": [
      "\n",
      "\n",
      "\n",
      "\n",
      "100%|█████████████████████████████████████████████████████████████████████████████████████████████████████████████| 4/4 [00:00<00:00, 6172.63it/s]\u001b[A\u001b[A\u001b[A\u001b[A\n",
      "100%|██████████████████████████████████████████████████████████████████████████████████████████████████████████████| 6/6 [00:00<00:00, 506.93it/s]\n"
     ]
    },
    {
     "name": "stdout",
     "output_type": "stream",
     "text": [
      "Running actor for ['Fortified'] 50 100 [3, 4, 5] ratings_average 1\n",
      "File data/scrapped_data/scrapped_data_Fortified_50_100_ratings_average_[3, 4, 5]_1.json already exists\n",
      "Running actor for ['Fortified'] 50 100 [3, 4, 5] ratings_average 3.2\n",
      "File data/scrapped_data/scrapped_data_Fortified_50_100_ratings_average_[3, 4, 5]_3.2.json already exists\n",
      "Running actor for ['Fortified'] 50 100 [3, 4, 5] ratings_average 3.8\n",
      "File data/scrapped_data/scrapped_data_Fortified_50_100_ratings_average_[3, 4, 5]_3.8.json already exists\n",
      "Running actor for ['Fortified'] 50 100 [3, 4, 5] ratings_average 4.2\n",
      "File data/scrapped_data/scrapped_data_Fortified_50_100_ratings_average_[3, 4, 5]_4.2.json already exists\n"
     ]
    },
    {
     "name": "stderr",
     "output_type": "stream",
     "text": [
      "\n",
      "\n",
      "\n",
      "  0%|                                                                                                                       | 0/6 [00:00<?, ?it/s]\u001b[A\u001b[A\u001b[A\n",
      "\n",
      "\n",
      "\n",
      "100%|████████████████████████████████████████████████████████████████████████████████████████████████████████████| 4/4 [00:00<00:00, 10472.67it/s]\u001b[A\u001b[A\u001b[A\u001b[A\n"
     ]
    },
    {
     "name": "stdout",
     "output_type": "stream",
     "text": [
      "Running actor for ['Red'] 100 250 [3, 4, 5] ratings_average 1\n",
      "File data/scrapped_data/scrapped_data_Red_100_250_ratings_average_[3, 4, 5]_1.json already exists\n",
      "Running actor for ['Red'] 100 250 [3, 4, 5] ratings_average 3.2\n",
      "File data/scrapped_data/scrapped_data_Red_100_250_ratings_average_[3, 4, 5]_3.2.json already exists\n",
      "Running actor for ['Red'] 100 250 [3, 4, 5] ratings_average 3.8\n",
      "File data/scrapped_data/scrapped_data_Red_100_250_ratings_average_[3, 4, 5]_3.8.json already exists\n",
      "Running actor for ['Red'] 100 250 [3, 4, 5] ratings_average 4.2\n",
      "File data/scrapped_data/scrapped_data_Red_100_250_ratings_average_[3, 4, 5]_4.2.json already exists\n"
     ]
    },
    {
     "name": "stderr",
     "output_type": "stream",
     "text": [
      "\n",
      "\n",
      "\n",
      "\n",
      "100%|█████████████████████████████████████████████████████████████████████████████████████████████████████████████| 4/4 [00:00<00:00, 9664.29it/s]\u001b[A\u001b[A\u001b[A\u001b[A\n"
     ]
    },
    {
     "name": "stdout",
     "output_type": "stream",
     "text": [
      "Running actor for ['White'] 100 250 [3, 4, 5] ratings_average 1\n",
      "File data/scrapped_data/scrapped_data_White_100_250_ratings_average_[3, 4, 5]_1.json already exists\n",
      "Running actor for ['White'] 100 250 [3, 4, 5] ratings_average 3.2\n",
      "File data/scrapped_data/scrapped_data_White_100_250_ratings_average_[3, 4, 5]_3.2.json already exists\n",
      "Running actor for ['White'] 100 250 [3, 4, 5] ratings_average 3.8\n",
      "File data/scrapped_data/scrapped_data_White_100_250_ratings_average_[3, 4, 5]_3.8.json already exists\n",
      "Running actor for ['White'] 100 250 [3, 4, 5] ratings_average 4.2\n",
      "File data/scrapped_data/scrapped_data_White_100_250_ratings_average_[3, 4, 5]_4.2.json already exists\n"
     ]
    },
    {
     "name": "stderr",
     "output_type": "stream",
     "text": [
      "\n",
      "\n",
      "\n",
      "\n",
      "100%|█████████████████████████████████████████████████████████████████████████████████████████████████████████████| 4/4 [00:00<00:00, 7489.83it/s]\u001b[A\u001b[A\u001b[A\u001b[A\n"
     ]
    },
    {
     "name": "stdout",
     "output_type": "stream",
     "text": [
      "Running actor for ['Rose'] 100 250 [3, 4, 5] ratings_average 1\n",
      "File data/scrapped_data/scrapped_data_Rose_100_250_ratings_average_[3, 4, 5]_1.json already exists\n",
      "Running actor for ['Rose'] 100 250 [3, 4, 5] ratings_average 3.2\n",
      "File data/scrapped_data/scrapped_data_Rose_100_250_ratings_average_[3, 4, 5]_3.2.json already exists\n",
      "Running actor for ['Rose'] 100 250 [3, 4, 5] ratings_average 3.8\n",
      "File data/scrapped_data/scrapped_data_Rose_100_250_ratings_average_[3, 4, 5]_3.8.json already exists\n",
      "Running actor for ['Rose'] 100 250 [3, 4, 5] ratings_average 4.2\n",
      "File data/scrapped_data/scrapped_data_Rose_100_250_ratings_average_[3, 4, 5]_4.2.json already exists\n"
     ]
    },
    {
     "name": "stderr",
     "output_type": "stream",
     "text": [
      "\n",
      "\n",
      "\n",
      "\n",
      "100%|████████████████████████████████████████████████████████████████████████████████████████████████████████████| 4/4 [00:00<00:00, 12501.65it/s]\u001b[A\u001b[A\u001b[A\u001b[A\n"
     ]
    },
    {
     "name": "stdout",
     "output_type": "stream",
     "text": [
      "Running actor for ['Sparkling'] 100 250 [3, 4, 5] ratings_average 1\n",
      "File data/scrapped_data/scrapped_data_Sparkling_100_250_ratings_average_[3, 4, 5]_1.json already exists\n",
      "Running actor for ['Sparkling'] 100 250 [3, 4, 5] ratings_average 3.2\n",
      "File data/scrapped_data/scrapped_data_Sparkling_100_250_ratings_average_[3, 4, 5]_3.2.json already exists\n",
      "Running actor for ['Sparkling'] 100 250 [3, 4, 5] ratings_average 3.8\n",
      "File data/scrapped_data/scrapped_data_Sparkling_100_250_ratings_average_[3, 4, 5]_3.8.json already exists\n",
      "Running actor for ['Sparkling'] 100 250 [3, 4, 5] ratings_average 4.2\n",
      "File data/scrapped_data/scrapped_data_Sparkling_100_250_ratings_average_[3, 4, 5]_4.2.json already exists\n"
     ]
    },
    {
     "name": "stderr",
     "output_type": "stream",
     "text": [
      "\n",
      "\n",
      "\n",
      "\n",
      "100%|████████████████████████████████████████████████████████████████████████████████████████████████████████████| 4/4 [00:00<00:00, 10125.05it/s]\u001b[A\u001b[A\u001b[A\u001b[A\n"
     ]
    },
    {
     "name": "stdout",
     "output_type": "stream",
     "text": [
      "Running actor for ['Dessert'] 100 250 [3, 4, 5] ratings_average 1\n",
      "File data/scrapped_data/scrapped_data_Dessert_100_250_ratings_average_[3, 4, 5]_1.json already exists\n",
      "Running actor for ['Dessert'] 100 250 [3, 4, 5] ratings_average 3.2\n",
      "File data/scrapped_data/scrapped_data_Dessert_100_250_ratings_average_[3, 4, 5]_3.2.json already exists\n",
      "Running actor for ['Dessert'] 100 250 [3, 4, 5] ratings_average 3.8\n",
      "File data/scrapped_data/scrapped_data_Dessert_100_250_ratings_average_[3, 4, 5]_3.8.json already exists\n",
      "Running actor for ['Dessert'] 100 250 [3, 4, 5] ratings_average 4.2\n",
      "File data/scrapped_data/scrapped_data_Dessert_100_250_ratings_average_[3, 4, 5]_4.2.json already exists\n"
     ]
    },
    {
     "name": "stderr",
     "output_type": "stream",
     "text": [
      "\n",
      "\n",
      "\n",
      "\n",
      "100%|█████████████████████████████████████████████████████████████████████████████████████████████████████████████| 4/4 [00:00<00:00, 7778.03it/s]\u001b[A\u001b[A\u001b[A\u001b[A\n",
      "100%|██████████████████████████████████████████████████████████████████████████████████████████████████████████████| 6/6 [00:00<00:00, 559.54it/s]\n",
      "100%|███████████████████████████████████████████████████████████████████████████████████████████████████████████████| 5/5 [00:00<00:00, 77.70it/s]\n"
     ]
    },
    {
     "name": "stdout",
     "output_type": "stream",
     "text": [
      "Running actor for ['Fortified'] 100 250 [3, 4, 5] ratings_average 1\n",
      "File data/scrapped_data/scrapped_data_Fortified_100_250_ratings_average_[3, 4, 5]_1.json already exists\n",
      "Running actor for ['Fortified'] 100 250 [3, 4, 5] ratings_average 3.2\n",
      "File data/scrapped_data/scrapped_data_Fortified_100_250_ratings_average_[3, 4, 5]_3.2.json already exists\n",
      "Running actor for ['Fortified'] 100 250 [3, 4, 5] ratings_average 3.8\n",
      "File data/scrapped_data/scrapped_data_Fortified_100_250_ratings_average_[3, 4, 5]_3.8.json already exists\n",
      "Running actor for ['Fortified'] 100 250 [3, 4, 5] ratings_average 4.2\n",
      "File data/scrapped_data/scrapped_data_Fortified_100_250_ratings_average_[3, 4, 5]_4.2.json already exists\n"
     ]
    },
    {
     "name": "stderr",
     "output_type": "stream",
     "text": [
      "\n",
      "\n",
      "  0%|                                                                                                                       | 0/5 [00:00<?, ?it/s]\u001b[A\u001b[A\n",
      "\n",
      "\n",
      "100%|████████████████████████████████████████████████████████████████████████████████████████████████████████████| 6/6 [00:00<00:00, 10168.01it/s]\u001b[A\u001b[A\u001b[A\n"
     ]
    },
    {
     "name": "stdout",
     "output_type": "stream",
     "text": [
      "File data/scrapped_data/scrapped_data_Red_0_15_ratings_average_[1, 2]_1.json already exists\n",
      "File data/scrapped_data/scrapped_data_White_0_15_ratings_average_[1, 2]_1.json already exists\n",
      "File data/scrapped_data/scrapped_data_Rose_0_15_ratings_average_[1, 2]_1.json already exists\n",
      "File data/scrapped_data/scrapped_data_Sparkling_0_15_ratings_average_[1, 2]_1.json already exists\n",
      "File data/scrapped_data/scrapped_data_Dessert_0_15_ratings_average_[1, 2]_1.json already exists\n",
      "File data/scrapped_data/scrapped_data_Fortified_0_15_ratings_average_[1, 2]_1.json already exists\n"
     ]
    },
    {
     "name": "stderr",
     "output_type": "stream",
     "text": [
      "\n",
      "\n",
      "\n",
      "100%|████████████████████████████████████████████████████████████████████████████████████████████████████████████| 6/6 [00:00<00:00, 15877.49it/s]\u001b[A\u001b[A\u001b[A\n"
     ]
    },
    {
     "name": "stdout",
     "output_type": "stream",
     "text": [
      "File data/scrapped_data/scrapped_data_Red_15_30_ratings_average_[1, 2]_1.json already exists\n",
      "File data/scrapped_data/scrapped_data_White_15_30_ratings_average_[1, 2]_1.json already exists\n",
      "File data/scrapped_data/scrapped_data_Rose_15_30_ratings_average_[1, 2]_1.json already exists\n",
      "File data/scrapped_data/scrapped_data_Sparkling_15_30_ratings_average_[1, 2]_1.json already exists\n",
      "File data/scrapped_data/scrapped_data_Dessert_15_30_ratings_average_[1, 2]_1.json already exists\n",
      "File data/scrapped_data/scrapped_data_Fortified_15_30_ratings_average_[1, 2]_1.json already exists\n"
     ]
    },
    {
     "name": "stderr",
     "output_type": "stream",
     "text": [
      "\n",
      "\n",
      "\n",
      "100%|████████████████████████████████████████████████████████████████████████████████████████████████████████████| 6/6 [00:00<00:00, 20004.63it/s]\u001b[A\u001b[A\u001b[A\n"
     ]
    },
    {
     "name": "stdout",
     "output_type": "stream",
     "text": [
      "File data/scrapped_data/scrapped_data_Red_30_50_ratings_average_[1, 2]_1.json already exists\n",
      "File data/scrapped_data/scrapped_data_White_30_50_ratings_average_[1, 2]_1.json already exists\n",
      "File data/scrapped_data/scrapped_data_Rose_30_50_ratings_average_[1, 2]_1.json already exists\n",
      "File data/scrapped_data/scrapped_data_Sparkling_30_50_ratings_average_[1, 2]_1.json already exists\n",
      "File data/scrapped_data/scrapped_data_Dessert_30_50_ratings_average_[1, 2]_1.json already exists\n",
      "File data/scrapped_data/scrapped_data_Fortified_30_50_ratings_average_[1, 2]_1.json already exists\n"
     ]
    },
    {
     "name": "stderr",
     "output_type": "stream",
     "text": [
      "\n",
      "\n",
      "\n",
      "100%|████████████████████████████████████████████████████████████████████████████████████████████████████████████| 6/6 [00:00<00:00, 32430.19it/s]\u001b[A\u001b[A\u001b[A\n"
     ]
    },
    {
     "name": "stdout",
     "output_type": "stream",
     "text": [
      "File data/scrapped_data/scrapped_data_Red_50_100_ratings_average_[1, 2]_1.json already exists\n",
      "File data/scrapped_data/scrapped_data_White_50_100_ratings_average_[1, 2]_1.json already exists\n",
      "File data/scrapped_data/scrapped_data_Rose_50_100_ratings_average_[1, 2]_1.json already exists\n",
      "File data/scrapped_data/scrapped_data_Sparkling_50_100_ratings_average_[1, 2]_1.json already exists\n",
      "File data/scrapped_data/scrapped_data_Dessert_50_100_ratings_average_[1, 2]_1.json already exists\n",
      "File data/scrapped_data/scrapped_data_Fortified_50_100_ratings_average_[1, 2]_1.json already exists\n"
     ]
    },
    {
     "name": "stderr",
     "output_type": "stream",
     "text": [
      "\n",
      "\n",
      "\n",
      "100%|████████████████████████████████████████████████████████████████████████████████████████████████████████████| 6/6 [00:00<00:00, 12710.01it/s]\u001b[A\u001b[A\u001b[A\n",
      "100%|██████████████████████████████████████████████████████████████████████████████████████████████████████████████| 5/5 [00:00<00:00, 604.44it/s]\n",
      "100%|███████████████████████████████████████████████████████████████████████████████████████████████████████████████| 2/2 [00:00<00:00, 26.33it/s]\n"
     ]
    },
    {
     "name": "stdout",
     "output_type": "stream",
     "text": [
      "File data/scrapped_data/scrapped_data_Red_100_250_ratings_average_[1, 2]_1.json already exists\n",
      "File data/scrapped_data/scrapped_data_White_100_250_ratings_average_[1, 2]_1.json already exists\n",
      "File data/scrapped_data/scrapped_data_Rose_100_250_ratings_average_[1, 2]_1.json already exists\n",
      "File data/scrapped_data/scrapped_data_Sparkling_100_250_ratings_average_[1, 2]_1.json already exists\n",
      "File data/scrapped_data/scrapped_data_Dessert_100_250_ratings_average_[1, 2]_1.json already exists\n",
      "File data/scrapped_data/scrapped_data_Fortified_100_250_ratings_average_[1, 2]_1.json already exists\n"
     ]
    },
    {
     "name": "stderr",
     "output_type": "stream",
     "text": [
      "\n",
      "  0%|                                                                                                                       | 0/2 [00:00<?, ?it/s]\u001b[A\n",
      "\n",
      "  0%|                                                                                                                       | 0/5 [00:00<?, ?it/s]\u001b[A\u001b[A\n",
      "\n",
      "\n",
      "  0%|                                                                                                                       | 0/6 [00:00<?, ?it/s]\u001b[A\u001b[A\u001b[A\n",
      "\n",
      "\n",
      "\n",
      "100%|████████████████████████████████████████████████████████████████████████████████████████████████████████████| 4/4 [00:00<00:00, 13076.55it/s]\u001b[A\u001b[A\u001b[A\u001b[A\n"
     ]
    },
    {
     "name": "stdout",
     "output_type": "stream",
     "text": [
      "Running actor for ['Red'] 0 15 [3, 4, 5] ratings_count 1\n",
      "File data/scrapped_data/scrapped_data_Red_0_15_ratings_count_[3, 4, 5]_1.json already exists\n",
      "Running actor for ['Red'] 0 15 [3, 4, 5] ratings_count 3.2\n",
      "File data/scrapped_data/scrapped_data_Red_0_15_ratings_count_[3, 4, 5]_3.2.json already exists\n",
      "Running actor for ['Red'] 0 15 [3, 4, 5] ratings_count 3.8\n",
      "File data/scrapped_data/scrapped_data_Red_0_15_ratings_count_[3, 4, 5]_3.8.json already exists\n",
      "Running actor for ['Red'] 0 15 [3, 4, 5] ratings_count 4.2\n",
      "File data/scrapped_data/scrapped_data_Red_0_15_ratings_count_[3, 4, 5]_4.2.json already exists\n"
     ]
    },
    {
     "name": "stderr",
     "output_type": "stream",
     "text": [
      "\n",
      "\n",
      "\n",
      "\n",
      "100%|████████████████████████████████████████████████████████████████████████████████████████████████████████████| 4/4 [00:00<00:00, 15406.08it/s]\u001b[A\u001b[A\u001b[A\u001b[A\n"
     ]
    },
    {
     "name": "stdout",
     "output_type": "stream",
     "text": [
      "Running actor for ['White'] 0 15 [3, 4, 5] ratings_count 1\n",
      "File data/scrapped_data/scrapped_data_White_0_15_ratings_count_[3, 4, 5]_1.json already exists\n",
      "Running actor for ['White'] 0 15 [3, 4, 5] ratings_count 3.2\n",
      "File data/scrapped_data/scrapped_data_White_0_15_ratings_count_[3, 4, 5]_3.2.json already exists\n",
      "Running actor for ['White'] 0 15 [3, 4, 5] ratings_count 3.8\n",
      "File data/scrapped_data/scrapped_data_White_0_15_ratings_count_[3, 4, 5]_3.8.json already exists\n",
      "Running actor for ['White'] 0 15 [3, 4, 5] ratings_count 4.2\n",
      "File data/scrapped_data/scrapped_data_White_0_15_ratings_count_[3, 4, 5]_4.2.json already exists\n"
     ]
    },
    {
     "name": "stderr",
     "output_type": "stream",
     "text": [
      "\n",
      "\n",
      "\n",
      "\n",
      "100%|████████████████████████████████████████████████████████████████████████████████████████████████████████████| 4/4 [00:00<00:00, 10782.27it/s]\u001b[A\u001b[A\u001b[A\u001b[A\n"
     ]
    },
    {
     "name": "stdout",
     "output_type": "stream",
     "text": [
      "Running actor for ['Rose'] 0 15 [3, 4, 5] ratings_count 1\n",
      "File data/scrapped_data/scrapped_data_Rose_0_15_ratings_count_[3, 4, 5]_1.json already exists\n",
      "Running actor for ['Rose'] 0 15 [3, 4, 5] ratings_count 3.2\n",
      "File data/scrapped_data/scrapped_data_Rose_0_15_ratings_count_[3, 4, 5]_3.2.json already exists\n",
      "Running actor for ['Rose'] 0 15 [3, 4, 5] ratings_count 3.8\n",
      "File data/scrapped_data/scrapped_data_Rose_0_15_ratings_count_[3, 4, 5]_3.8.json already exists\n",
      "Running actor for ['Rose'] 0 15 [3, 4, 5] ratings_count 4.2\n",
      "File data/scrapped_data/scrapped_data_Rose_0_15_ratings_count_[3, 4, 5]_4.2.json already exists\n"
     ]
    },
    {
     "name": "stderr",
     "output_type": "stream",
     "text": [
      "\n",
      "\n",
      "\n",
      "\n",
      "100%|████████████████████████████████████████████████████████████████████████████████████████████████████████████| 4/4 [00:00<00:00, 21372.25it/s]\u001b[A\u001b[A\u001b[A\u001b[A\n"
     ]
    },
    {
     "name": "stdout",
     "output_type": "stream",
     "text": [
      "Running actor for ['Sparkling'] 0 15 [3, 4, 5] ratings_count 1\n",
      "File data/scrapped_data/scrapped_data_Sparkling_0_15_ratings_count_[3, 4, 5]_1.json already exists\n",
      "Running actor for ['Sparkling'] 0 15 [3, 4, 5] ratings_count 3.2\n",
      "File data/scrapped_data/scrapped_data_Sparkling_0_15_ratings_count_[3, 4, 5]_3.2.json already exists\n",
      "Running actor for ['Sparkling'] 0 15 [3, 4, 5] ratings_count 3.8\n",
      "File data/scrapped_data/scrapped_data_Sparkling_0_15_ratings_count_[3, 4, 5]_3.8.json already exists\n",
      "Running actor for ['Sparkling'] 0 15 [3, 4, 5] ratings_count 4.2\n",
      "File data/scrapped_data/scrapped_data_Sparkling_0_15_ratings_count_[3, 4, 5]_4.2.json already exists\n"
     ]
    },
    {
     "name": "stderr",
     "output_type": "stream",
     "text": [
      "\n",
      "\n",
      "\n",
      "\n",
      "100%|████████████████████████████████████████████████████████████████████████████████████████████████████████████| 4/4 [00:00<00:00, 13831.18it/s]\u001b[A\u001b[A\u001b[A\u001b[A\n"
     ]
    },
    {
     "name": "stdout",
     "output_type": "stream",
     "text": [
      "Running actor for ['Dessert'] 0 15 [3, 4, 5] ratings_count 1\n",
      "File data/scrapped_data/scrapped_data_Dessert_0_15_ratings_count_[3, 4, 5]_1.json already exists\n",
      "Running actor for ['Dessert'] 0 15 [3, 4, 5] ratings_count 3.2\n",
      "File data/scrapped_data/scrapped_data_Dessert_0_15_ratings_count_[3, 4, 5]_3.2.json already exists\n",
      "Running actor for ['Dessert'] 0 15 [3, 4, 5] ratings_count 3.8\n",
      "File data/scrapped_data/scrapped_data_Dessert_0_15_ratings_count_[3, 4, 5]_3.8.json already exists\n",
      "Running actor for ['Dessert'] 0 15 [3, 4, 5] ratings_count 4.2\n",
      "File data/scrapped_data/scrapped_data_Dessert_0_15_ratings_count_[3, 4, 5]_4.2.json already exists\n"
     ]
    },
    {
     "name": "stderr",
     "output_type": "stream",
     "text": [
      "\n",
      "\n",
      "\n",
      "\n",
      "100%|████████████████████████████████████████████████████████████████████████████████████████████████████████████| 4/4 [00:00<00:00, 16147.46it/s]\u001b[A\u001b[A\u001b[A\u001b[A\n",
      "100%|██████████████████████████████████████████████████████████████████████████████████████████████████████████████| 6/6 [00:00<00:00, 676.23it/s]\n"
     ]
    },
    {
     "name": "stdout",
     "output_type": "stream",
     "text": [
      "Running actor for ['Fortified'] 0 15 [3, 4, 5] ratings_count 1\n",
      "File data/scrapped_data/scrapped_data_Fortified_0_15_ratings_count_[3, 4, 5]_1.json already exists\n",
      "Running actor for ['Fortified'] 0 15 [3, 4, 5] ratings_count 3.2\n",
      "File data/scrapped_data/scrapped_data_Fortified_0_15_ratings_count_[3, 4, 5]_3.2.json already exists\n",
      "Running actor for ['Fortified'] 0 15 [3, 4, 5] ratings_count 3.8\n",
      "File data/scrapped_data/scrapped_data_Fortified_0_15_ratings_count_[3, 4, 5]_3.8.json already exists\n",
      "Running actor for ['Fortified'] 0 15 [3, 4, 5] ratings_count 4.2\n",
      "File data/scrapped_data/scrapped_data_Fortified_0_15_ratings_count_[3, 4, 5]_4.2.json already exists\n"
     ]
    },
    {
     "name": "stderr",
     "output_type": "stream",
     "text": [
      "\n",
      "\n",
      "\n",
      "  0%|                                                                                                                       | 0/6 [00:00<?, ?it/s]\u001b[A\u001b[A\u001b[A\n",
      "\n",
      "\n",
      "\n",
      "100%|████████████████████████████████████████████████████████████████████████████████████████████████████████████| 4/4 [00:00<00:00, 18416.26it/s]\u001b[A\u001b[A\u001b[A\u001b[A\n"
     ]
    },
    {
     "name": "stdout",
     "output_type": "stream",
     "text": [
      "Running actor for ['Red'] 15 30 [3, 4, 5] ratings_count 1\n",
      "File data/scrapped_data/scrapped_data_Red_15_30_ratings_count_[3, 4, 5]_1.json already exists\n",
      "Running actor for ['Red'] 15 30 [3, 4, 5] ratings_count 3.2\n",
      "File data/scrapped_data/scrapped_data_Red_15_30_ratings_count_[3, 4, 5]_3.2.json already exists\n",
      "Running actor for ['Red'] 15 30 [3, 4, 5] ratings_count 3.8\n",
      "File data/scrapped_data/scrapped_data_Red_15_30_ratings_count_[3, 4, 5]_3.8.json already exists\n",
      "Running actor for ['Red'] 15 30 [3, 4, 5] ratings_count 4.2\n",
      "File data/scrapped_data/scrapped_data_Red_15_30_ratings_count_[3, 4, 5]_4.2.json already exists\n"
     ]
    },
    {
     "name": "stderr",
     "output_type": "stream",
     "text": [
      "\n",
      "\n",
      "\n",
      "\n",
      "100%|█████████████████████████████████████████████████████████████████████████████████████████████████████████████| 4/4 [00:00<00:00, 9945.00it/s]\u001b[A\u001b[A\u001b[A\u001b[A\n"
     ]
    },
    {
     "name": "stdout",
     "output_type": "stream",
     "text": [
      "Running actor for ['White'] 15 30 [3, 4, 5] ratings_count 1\n",
      "File data/scrapped_data/scrapped_data_White_15_30_ratings_count_[3, 4, 5]_1.json already exists\n",
      "Running actor for ['White'] 15 30 [3, 4, 5] ratings_count 3.2\n",
      "File data/scrapped_data/scrapped_data_White_15_30_ratings_count_[3, 4, 5]_3.2.json already exists\n",
      "Running actor for ['White'] 15 30 [3, 4, 5] ratings_count 3.8\n",
      "File data/scrapped_data/scrapped_data_White_15_30_ratings_count_[3, 4, 5]_3.8.json already exists\n",
      "Running actor for ['White'] 15 30 [3, 4, 5] ratings_count 4.2\n",
      "File data/scrapped_data/scrapped_data_White_15_30_ratings_count_[3, 4, 5]_4.2.json already exists\n"
     ]
    },
    {
     "name": "stderr",
     "output_type": "stream",
     "text": [
      "\n",
      "\n",
      "\n",
      "\n",
      "100%|████████████████████████████████████████████████████████████████████████████████████████████████████████████| 4/4 [00:00<00:00, 12009.46it/s]\u001b[A\u001b[A\u001b[A\u001b[A\n"
     ]
    },
    {
     "name": "stdout",
     "output_type": "stream",
     "text": [
      "Running actor for ['Rose'] 15 30 [3, 4, 5] ratings_count 1\n",
      "File data/scrapped_data/scrapped_data_Rose_15_30_ratings_count_[3, 4, 5]_1.json already exists\n",
      "Running actor for ['Rose'] 15 30 [3, 4, 5] ratings_count 3.2\n",
      "File data/scrapped_data/scrapped_data_Rose_15_30_ratings_count_[3, 4, 5]_3.2.json already exists\n",
      "Running actor for ['Rose'] 15 30 [3, 4, 5] ratings_count 3.8\n",
      "File data/scrapped_data/scrapped_data_Rose_15_30_ratings_count_[3, 4, 5]_3.8.json already exists\n",
      "Running actor for ['Rose'] 15 30 [3, 4, 5] ratings_count 4.2\n",
      "File data/scrapped_data/scrapped_data_Rose_15_30_ratings_count_[3, 4, 5]_4.2.json already exists\n"
     ]
    },
    {
     "name": "stderr",
     "output_type": "stream",
     "text": [
      "\n",
      "\n",
      "\n",
      "\n",
      "100%|████████████████████████████████████████████████████████████████████████████████████████████████████████████| 4/4 [00:00<00:00, 12273.02it/s]\u001b[A\u001b[A\u001b[A\u001b[A\n"
     ]
    },
    {
     "name": "stdout",
     "output_type": "stream",
     "text": [
      "Running actor for ['Sparkling'] 15 30 [3, 4, 5] ratings_count 1\n",
      "File data/scrapped_data/scrapped_data_Sparkling_15_30_ratings_count_[3, 4, 5]_1.json already exists\n",
      "Running actor for ['Sparkling'] 15 30 [3, 4, 5] ratings_count 3.2\n",
      "File data/scrapped_data/scrapped_data_Sparkling_15_30_ratings_count_[3, 4, 5]_3.2.json already exists\n",
      "Running actor for ['Sparkling'] 15 30 [3, 4, 5] ratings_count 3.8\n",
      "File data/scrapped_data/scrapped_data_Sparkling_15_30_ratings_count_[3, 4, 5]_3.8.json already exists\n",
      "Running actor for ['Sparkling'] 15 30 [3, 4, 5] ratings_count 4.2\n",
      "File data/scrapped_data/scrapped_data_Sparkling_15_30_ratings_count_[3, 4, 5]_4.2.json already exists\n"
     ]
    },
    {
     "name": "stderr",
     "output_type": "stream",
     "text": [
      "\n",
      "\n",
      "\n",
      "\n",
      "100%|█████████████████████████████████████████████████████████████████████████████████████████████████████████████| 4/4 [00:00<00:00, 9172.89it/s]\u001b[A\u001b[A\u001b[A\u001b[A\n"
     ]
    },
    {
     "name": "stdout",
     "output_type": "stream",
     "text": [
      "Running actor for ['Dessert'] 15 30 [3, 4, 5] ratings_count 1\n",
      "File data/scrapped_data/scrapped_data_Dessert_15_30_ratings_count_[3, 4, 5]_1.json already exists\n",
      "Running actor for ['Dessert'] 15 30 [3, 4, 5] ratings_count 3.2\n",
      "File data/scrapped_data/scrapped_data_Dessert_15_30_ratings_count_[3, 4, 5]_3.2.json already exists\n",
      "Running actor for ['Dessert'] 15 30 [3, 4, 5] ratings_count 3.8\n",
      "File data/scrapped_data/scrapped_data_Dessert_15_30_ratings_count_[3, 4, 5]_3.8.json already exists\n",
      "Running actor for ['Dessert'] 15 30 [3, 4, 5] ratings_count 4.2\n",
      "File data/scrapped_data/scrapped_data_Dessert_15_30_ratings_count_[3, 4, 5]_4.2.json already exists\n"
     ]
    },
    {
     "name": "stderr",
     "output_type": "stream",
     "text": [
      "\n",
      "\n",
      "\n",
      "\n",
      "100%|████████████████████████████████████████████████████████████████████████████████████████████████████████████| 4/4 [00:00<00:00, 10280.16it/s]\u001b[A\u001b[A\u001b[A\u001b[A\n",
      "100%|██████████████████████████████████████████████████████████████████████████████████████████████████████████████| 6/6 [00:00<00:00, 604.16it/s]\n"
     ]
    },
    {
     "name": "stdout",
     "output_type": "stream",
     "text": [
      "Running actor for ['Fortified'] 15 30 [3, 4, 5] ratings_count 1\n",
      "File data/scrapped_data/scrapped_data_Fortified_15_30_ratings_count_[3, 4, 5]_1.json already exists\n",
      "Running actor for ['Fortified'] 15 30 [3, 4, 5] ratings_count 3.2\n",
      "File data/scrapped_data/scrapped_data_Fortified_15_30_ratings_count_[3, 4, 5]_3.2.json already exists\n",
      "Running actor for ['Fortified'] 15 30 [3, 4, 5] ratings_count 3.8\n",
      "File data/scrapped_data/scrapped_data_Fortified_15_30_ratings_count_[3, 4, 5]_3.8.json already exists\n",
      "Running actor for ['Fortified'] 15 30 [3, 4, 5] ratings_count 4.2\n",
      "File data/scrapped_data/scrapped_data_Fortified_15_30_ratings_count_[3, 4, 5]_4.2.json already exists\n"
     ]
    },
    {
     "name": "stderr",
     "output_type": "stream",
     "text": [
      "\n",
      "\n",
      "\n",
      "  0%|                                                                                                                       | 0/6 [00:00<?, ?it/s]\u001b[A\u001b[A\u001b[A\n",
      "\n",
      "\n",
      "\n",
      "100%|█████████████████████████████████████████████████████████████████████████████████████████████████████████████| 4/4 [00:00<00:00, 9974.56it/s]\u001b[A\u001b[A\u001b[A\u001b[A\n"
     ]
    },
    {
     "name": "stdout",
     "output_type": "stream",
     "text": [
      "Running actor for ['Red'] 30 50 [3, 4, 5] ratings_count 1\n",
      "File data/scrapped_data/scrapped_data_Red_30_50_ratings_count_[3, 4, 5]_1.json already exists\n",
      "Running actor for ['Red'] 30 50 [3, 4, 5] ratings_count 3.2\n",
      "File data/scrapped_data/scrapped_data_Red_30_50_ratings_count_[3, 4, 5]_3.2.json already exists\n",
      "Running actor for ['Red'] 30 50 [3, 4, 5] ratings_count 3.8\n",
      "File data/scrapped_data/scrapped_data_Red_30_50_ratings_count_[3, 4, 5]_3.8.json already exists\n",
      "Running actor for ['Red'] 30 50 [3, 4, 5] ratings_count 4.2\n",
      "File data/scrapped_data/scrapped_data_Red_30_50_ratings_count_[3, 4, 5]_4.2.json already exists\n"
     ]
    },
    {
     "name": "stderr",
     "output_type": "stream",
     "text": [
      "\n",
      "\n",
      "\n",
      "\n",
      "100%|████████████████████████████████████████████████████████████████████████████████████████████████████████████| 4/4 [00:00<00:00, 11030.39it/s]\u001b[A\u001b[A\u001b[A\u001b[A\n"
     ]
    },
    {
     "name": "stdout",
     "output_type": "stream",
     "text": [
      "Running actor for ['White'] 30 50 [3, 4, 5] ratings_count 1\n",
      "File data/scrapped_data/scrapped_data_White_30_50_ratings_count_[3, 4, 5]_1.json already exists\n",
      "Running actor for ['White'] 30 50 [3, 4, 5] ratings_count 3.2\n",
      "File data/scrapped_data/scrapped_data_White_30_50_ratings_count_[3, 4, 5]_3.2.json already exists\n",
      "Running actor for ['White'] 30 50 [3, 4, 5] ratings_count 3.8\n",
      "File data/scrapped_data/scrapped_data_White_30_50_ratings_count_[3, 4, 5]_3.8.json already exists\n",
      "Running actor for ['White'] 30 50 [3, 4, 5] ratings_count 4.2\n",
      "File data/scrapped_data/scrapped_data_White_30_50_ratings_count_[3, 4, 5]_4.2.json already exists\n"
     ]
    },
    {
     "name": "stderr",
     "output_type": "stream",
     "text": [
      "\n",
      "\n",
      "\n",
      "\n",
      "100%|████████████████████████████████████████████████████████████████████████████████████████████████████████████| 4/4 [00:00<00:00, 10100.67it/s]\u001b[A\u001b[A\u001b[A\u001b[A\n"
     ]
    },
    {
     "name": "stdout",
     "output_type": "stream",
     "text": [
      "Running actor for ['Rose'] 30 50 [3, 4, 5] ratings_count 1\n",
      "File data/scrapped_data/scrapped_data_Rose_30_50_ratings_count_[3, 4, 5]_1.json already exists\n",
      "Running actor for ['Rose'] 30 50 [3, 4, 5] ratings_count 3.2\n",
      "File data/scrapped_data/scrapped_data_Rose_30_50_ratings_count_[3, 4, 5]_3.2.json already exists\n",
      "Running actor for ['Rose'] 30 50 [3, 4, 5] ratings_count 3.8\n",
      "File data/scrapped_data/scrapped_data_Rose_30_50_ratings_count_[3, 4, 5]_3.8.json already exists\n",
      "Running actor for ['Rose'] 30 50 [3, 4, 5] ratings_count 4.2\n",
      "File data/scrapped_data/scrapped_data_Rose_30_50_ratings_count_[3, 4, 5]_4.2.json already exists\n"
     ]
    },
    {
     "name": "stderr",
     "output_type": "stream",
     "text": [
      "\n",
      "\n",
      "\n",
      "\n",
      "100%|████████████████████████████████████████████████████████████████████████████████████████████████████████████| 4/4 [00:00<00:00, 18766.46it/s]\u001b[A\u001b[A\u001b[A\u001b[A\n"
     ]
    },
    {
     "name": "stdout",
     "output_type": "stream",
     "text": [
      "Running actor for ['Sparkling'] 30 50 [3, 4, 5] ratings_count 1\n",
      "File data/scrapped_data/scrapped_data_Sparkling_30_50_ratings_count_[3, 4, 5]_1.json already exists\n",
      "Running actor for ['Sparkling'] 30 50 [3, 4, 5] ratings_count 3.2\n",
      "File data/scrapped_data/scrapped_data_Sparkling_30_50_ratings_count_[3, 4, 5]_3.2.json already exists\n",
      "Running actor for ['Sparkling'] 30 50 [3, 4, 5] ratings_count 3.8\n",
      "File data/scrapped_data/scrapped_data_Sparkling_30_50_ratings_count_[3, 4, 5]_3.8.json already exists\n",
      "Running actor for ['Sparkling'] 30 50 [3, 4, 5] ratings_count 4.2\n",
      "File data/scrapped_data/scrapped_data_Sparkling_30_50_ratings_count_[3, 4, 5]_4.2.json already exists\n"
     ]
    },
    {
     "name": "stderr",
     "output_type": "stream",
     "text": [
      "\n",
      "\n",
      "\n",
      "\n",
      "100%|█████████████████████████████████████████████████████████████████████████████████████████████████████████████| 4/4 [00:00<00:00, 8909.83it/s]\u001b[A\u001b[A\u001b[A\u001b[A\n"
     ]
    },
    {
     "name": "stdout",
     "output_type": "stream",
     "text": [
      "Running actor for ['Dessert'] 30 50 [3, 4, 5] ratings_count 1\n",
      "File data/scrapped_data/scrapped_data_Dessert_30_50_ratings_count_[3, 4, 5]_1.json already exists\n",
      "Running actor for ['Dessert'] 30 50 [3, 4, 5] ratings_count 3.2\n",
      "File data/scrapped_data/scrapped_data_Dessert_30_50_ratings_count_[3, 4, 5]_3.2.json already exists\n",
      "Running actor for ['Dessert'] 30 50 [3, 4, 5] ratings_count 3.8\n",
      "File data/scrapped_data/scrapped_data_Dessert_30_50_ratings_count_[3, 4, 5]_3.8.json already exists\n",
      "Running actor for ['Dessert'] 30 50 [3, 4, 5] ratings_count 4.2\n",
      "File data/scrapped_data/scrapped_data_Dessert_30_50_ratings_count_[3, 4, 5]_4.2.json already exists\n"
     ]
    },
    {
     "name": "stderr",
     "output_type": "stream",
     "text": [
      "\n",
      "\n",
      "\n",
      "\n",
      "100%|█████████████████████████████████████████████████████████████████████████████████████████████████████████████| 4/4 [00:00<00:00, 7861.86it/s]\u001b[A\u001b[A\u001b[A\u001b[A\n",
      "100%|██████████████████████████████████████████████████████████████████████████████████████████████████████████████| 6/6 [00:00<00:00, 524.90it/s]\n"
     ]
    },
    {
     "name": "stdout",
     "output_type": "stream",
     "text": [
      "Running actor for ['Fortified'] 30 50 [3, 4, 5] ratings_count 1\n",
      "File data/scrapped_data/scrapped_data_Fortified_30_50_ratings_count_[3, 4, 5]_1.json already exists\n",
      "Running actor for ['Fortified'] 30 50 [3, 4, 5] ratings_count 3.2\n",
      "File data/scrapped_data/scrapped_data_Fortified_30_50_ratings_count_[3, 4, 5]_3.2.json already exists\n",
      "Running actor for ['Fortified'] 30 50 [3, 4, 5] ratings_count 3.8\n",
      "File data/scrapped_data/scrapped_data_Fortified_30_50_ratings_count_[3, 4, 5]_3.8.json already exists\n",
      "Running actor for ['Fortified'] 30 50 [3, 4, 5] ratings_count 4.2\n",
      "File data/scrapped_data/scrapped_data_Fortified_30_50_ratings_count_[3, 4, 5]_4.2.json already exists\n"
     ]
    },
    {
     "name": "stderr",
     "output_type": "stream",
     "text": [
      "\n",
      "\n",
      "\n",
      "  0%|                                                                                                                       | 0/6 [00:00<?, ?it/s]\u001b[A\u001b[A\u001b[A\n",
      "\n",
      "\n",
      "\n",
      "100%|█████████████████████████████████████████████████████████████████████████████████████████████████████████████| 4/4 [00:00<00:00, 8733.58it/s]\u001b[A\u001b[A\u001b[A\u001b[A\n"
     ]
    },
    {
     "name": "stdout",
     "output_type": "stream",
     "text": [
      "Running actor for ['Red'] 50 100 [3, 4, 5] ratings_count 1\n",
      "File data/scrapped_data/scrapped_data_Red_50_100_ratings_count_[3, 4, 5]_1.json already exists\n",
      "Running actor for ['Red'] 50 100 [3, 4, 5] ratings_count 3.2\n",
      "File data/scrapped_data/scrapped_data_Red_50_100_ratings_count_[3, 4, 5]_3.2.json already exists\n",
      "Running actor for ['Red'] 50 100 [3, 4, 5] ratings_count 3.8\n",
      "File data/scrapped_data/scrapped_data_Red_50_100_ratings_count_[3, 4, 5]_3.8.json already exists\n",
      "Running actor for ['Red'] 50 100 [3, 4, 5] ratings_count 4.2\n",
      "File data/scrapped_data/scrapped_data_Red_50_100_ratings_count_[3, 4, 5]_4.2.json already exists\n"
     ]
    },
    {
     "name": "stderr",
     "output_type": "stream",
     "text": [
      "\n",
      "\n",
      "\n",
      "\n",
      "100%|████████████████████████████████████████████████████████████████████████████████████████████████████████████| 4/4 [00:00<00:00, 16256.99it/s]\u001b[A\u001b[A\u001b[A\u001b[A\n"
     ]
    },
    {
     "name": "stdout",
     "output_type": "stream",
     "text": [
      "Running actor for ['White'] 50 100 [3, 4, 5] ratings_count 1\n",
      "File data/scrapped_data/scrapped_data_White_50_100_ratings_count_[3, 4, 5]_1.json already exists\n",
      "Running actor for ['White'] 50 100 [3, 4, 5] ratings_count 3.2\n",
      "File data/scrapped_data/scrapped_data_White_50_100_ratings_count_[3, 4, 5]_3.2.json already exists\n",
      "Running actor for ['White'] 50 100 [3, 4, 5] ratings_count 3.8\n",
      "File data/scrapped_data/scrapped_data_White_50_100_ratings_count_[3, 4, 5]_3.8.json already exists\n",
      "Running actor for ['White'] 50 100 [3, 4, 5] ratings_count 4.2\n",
      "File data/scrapped_data/scrapped_data_White_50_100_ratings_count_[3, 4, 5]_4.2.json already exists\n"
     ]
    },
    {
     "name": "stderr",
     "output_type": "stream",
     "text": [
      "\n",
      "\n",
      "\n",
      "\n",
      "100%|████████████████████████████████████████████████████████████████████████████████████████████████████████████| 4/4 [00:00<00:00, 13475.68it/s]\u001b[A\u001b[A\u001b[A\u001b[A\n"
     ]
    },
    {
     "name": "stdout",
     "output_type": "stream",
     "text": [
      "Running actor for ['Rose'] 50 100 [3, 4, 5] ratings_count 1\n",
      "File data/scrapped_data/scrapped_data_Rose_50_100_ratings_count_[3, 4, 5]_1.json already exists\n",
      "Running actor for ['Rose'] 50 100 [3, 4, 5] ratings_count 3.2\n",
      "File data/scrapped_data/scrapped_data_Rose_50_100_ratings_count_[3, 4, 5]_3.2.json already exists\n",
      "Running actor for ['Rose'] 50 100 [3, 4, 5] ratings_count 3.8\n",
      "File data/scrapped_data/scrapped_data_Rose_50_100_ratings_count_[3, 4, 5]_3.8.json already exists\n",
      "Running actor for ['Rose'] 50 100 [3, 4, 5] ratings_count 4.2\n",
      "File data/scrapped_data/scrapped_data_Rose_50_100_ratings_count_[3, 4, 5]_4.2.json already exists\n"
     ]
    },
    {
     "name": "stderr",
     "output_type": "stream",
     "text": [
      "\n",
      "\n",
      "\n",
      "\n",
      "100%|████████████████████████████████████████████████████████████████████████████████████████████████████████████| 4/4 [00:00<00:00, 14039.51it/s]\u001b[A\u001b[A\u001b[A\u001b[A\n"
     ]
    },
    {
     "name": "stdout",
     "output_type": "stream",
     "text": [
      "Running actor for ['Sparkling'] 50 100 [3, 4, 5] ratings_count 1\n",
      "File data/scrapped_data/scrapped_data_Sparkling_50_100_ratings_count_[3, 4, 5]_1.json already exists\n",
      "Running actor for ['Sparkling'] 50 100 [3, 4, 5] ratings_count 3.2\n",
      "File data/scrapped_data/scrapped_data_Sparkling_50_100_ratings_count_[3, 4, 5]_3.2.json already exists\n",
      "Running actor for ['Sparkling'] 50 100 [3, 4, 5] ratings_count 3.8\n",
      "File data/scrapped_data/scrapped_data_Sparkling_50_100_ratings_count_[3, 4, 5]_3.8.json already exists\n",
      "Running actor for ['Sparkling'] 50 100 [3, 4, 5] ratings_count 4.2\n",
      "File data/scrapped_data/scrapped_data_Sparkling_50_100_ratings_count_[3, 4, 5]_4.2.json already exists\n"
     ]
    },
    {
     "name": "stderr",
     "output_type": "stream",
     "text": [
      "\n",
      "\n",
      "\n",
      "\n",
      "100%|████████████████████████████████████████████████████████████████████████████████████████████████████████████| 4/4 [00:00<00:00, 11169.92it/s]\u001b[A\u001b[A\u001b[A\u001b[A\n"
     ]
    },
    {
     "name": "stdout",
     "output_type": "stream",
     "text": [
      "Running actor for ['Dessert'] 50 100 [3, 4, 5] ratings_count 1\n",
      "File data/scrapped_data/scrapped_data_Dessert_50_100_ratings_count_[3, 4, 5]_1.json already exists\n",
      "Running actor for ['Dessert'] 50 100 [3, 4, 5] ratings_count 3.2\n",
      "File data/scrapped_data/scrapped_data_Dessert_50_100_ratings_count_[3, 4, 5]_3.2.json already exists\n",
      "Running actor for ['Dessert'] 50 100 [3, 4, 5] ratings_count 3.8\n",
      "File data/scrapped_data/scrapped_data_Dessert_50_100_ratings_count_[3, 4, 5]_3.8.json already exists\n",
      "Running actor for ['Dessert'] 50 100 [3, 4, 5] ratings_count 4.2\n",
      "File data/scrapped_data/scrapped_data_Dessert_50_100_ratings_count_[3, 4, 5]_4.2.json already exists\n"
     ]
    },
    {
     "name": "stderr",
     "output_type": "stream",
     "text": [
      "\n",
      "\n",
      "\n",
      "\n",
      "100%|████████████████████████████████████████████████████████████████████████████████████████████████████████████| 4/4 [00:00<00:00, 13076.55it/s]\u001b[A\u001b[A\u001b[A\u001b[A\n",
      "100%|██████████████████████████████████████████████████████████████████████████████████████████████████████████████| 6/6 [00:00<00:00, 591.00it/s]\n"
     ]
    },
    {
     "name": "stdout",
     "output_type": "stream",
     "text": [
      "Running actor for ['Fortified'] 50 100 [3, 4, 5] ratings_count 1\n",
      "File data/scrapped_data/scrapped_data_Fortified_50_100_ratings_count_[3, 4, 5]_1.json already exists\n",
      "Running actor for ['Fortified'] 50 100 [3, 4, 5] ratings_count 3.2\n",
      "File data/scrapped_data/scrapped_data_Fortified_50_100_ratings_count_[3, 4, 5]_3.2.json already exists\n",
      "Running actor for ['Fortified'] 50 100 [3, 4, 5] ratings_count 3.8\n",
      "File data/scrapped_data/scrapped_data_Fortified_50_100_ratings_count_[3, 4, 5]_3.8.json already exists\n",
      "Running actor for ['Fortified'] 50 100 [3, 4, 5] ratings_count 4.2\n",
      "File data/scrapped_data/scrapped_data_Fortified_50_100_ratings_count_[3, 4, 5]_4.2.json already exists\n"
     ]
    },
    {
     "name": "stderr",
     "output_type": "stream",
     "text": [
      "\n",
      "\n",
      "\n",
      "  0%|                                                                                                                       | 0/6 [00:00<?, ?it/s]\u001b[A\u001b[A\u001b[A\n",
      "\n",
      "\n",
      "\n",
      "100%|████████████████████████████████████████████████████████████████████████████████████████████████████████████| 4/4 [00:00<00:00, 17867.11it/s]\u001b[A\u001b[A\u001b[A\u001b[A\n"
     ]
    },
    {
     "name": "stdout",
     "output_type": "stream",
     "text": [
      "Running actor for ['Red'] 100 250 [3, 4, 5] ratings_count 1\n",
      "File data/scrapped_data/scrapped_data_Red_100_250_ratings_count_[3, 4, 5]_1.json already exists\n",
      "Running actor for ['Red'] 100 250 [3, 4, 5] ratings_count 3.2\n",
      "File data/scrapped_data/scrapped_data_Red_100_250_ratings_count_[3, 4, 5]_3.2.json already exists\n",
      "Running actor for ['Red'] 100 250 [3, 4, 5] ratings_count 3.8\n",
      "File data/scrapped_data/scrapped_data_Red_100_250_ratings_count_[3, 4, 5]_3.8.json already exists\n",
      "Running actor for ['Red'] 100 250 [3, 4, 5] ratings_count 4.2\n",
      "File data/scrapped_data/scrapped_data_Red_100_250_ratings_count_[3, 4, 5]_4.2.json already exists\n"
     ]
    },
    {
     "name": "stderr",
     "output_type": "stream",
     "text": [
      "\n",
      "\n",
      "\n",
      "\n",
      "100%|█████████████████████████████████████████████████████████████████████████████████████████████████████████████| 4/4 [00:00<00:00, 7394.10it/s]\u001b[A\u001b[A\u001b[A\u001b[A\n"
     ]
    },
    {
     "name": "stdout",
     "output_type": "stream",
     "text": [
      "Running actor for ['White'] 100 250 [3, 4, 5] ratings_count 1\n",
      "File data/scrapped_data/scrapped_data_White_100_250_ratings_count_[3, 4, 5]_1.json already exists\n",
      "Running actor for ['White'] 100 250 [3, 4, 5] ratings_count 3.2\n",
      "File data/scrapped_data/scrapped_data_White_100_250_ratings_count_[3, 4, 5]_3.2.json already exists\n",
      "Running actor for ['White'] 100 250 [3, 4, 5] ratings_count 3.8\n",
      "File data/scrapped_data/scrapped_data_White_100_250_ratings_count_[3, 4, 5]_3.8.json already exists\n",
      "Running actor for ['White'] 100 250 [3, 4, 5] ratings_count 4.2\n",
      "File data/scrapped_data/scrapped_data_White_100_250_ratings_count_[3, 4, 5]_4.2.json already exists\n"
     ]
    },
    {
     "name": "stderr",
     "output_type": "stream",
     "text": [
      "\n",
      "\n",
      "\n",
      "\n",
      "100%|████████████████████████████████████████████████████████████████████████████████████████████████████████████| 4/4 [00:00<00:00, 12700.39it/s]\u001b[A\u001b[A\u001b[A\u001b[A\n"
     ]
    },
    {
     "name": "stdout",
     "output_type": "stream",
     "text": [
      "Running actor for ['Rose'] 100 250 [3, 4, 5] ratings_count 1\n",
      "File data/scrapped_data/scrapped_data_Rose_100_250_ratings_count_[3, 4, 5]_1.json already exists\n",
      "Running actor for ['Rose'] 100 250 [3, 4, 5] ratings_count 3.2\n",
      "File data/scrapped_data/scrapped_data_Rose_100_250_ratings_count_[3, 4, 5]_3.2.json already exists\n",
      "Running actor for ['Rose'] 100 250 [3, 4, 5] ratings_count 3.8\n",
      "File data/scrapped_data/scrapped_data_Rose_100_250_ratings_count_[3, 4, 5]_3.8.json already exists\n",
      "Running actor for ['Rose'] 100 250 [3, 4, 5] ratings_count 4.2\n",
      "File data/scrapped_data/scrapped_data_Rose_100_250_ratings_count_[3, 4, 5]_4.2.json already exists\n"
     ]
    },
    {
     "name": "stderr",
     "output_type": "stream",
     "text": [
      "\n",
      "\n",
      "\n",
      "\n",
      "100%|████████████████████████████████████████████████████████████████████████████████████████████████████████████| 4/4 [00:00<00:00, 19807.81it/s]\u001b[A\u001b[A\u001b[A\u001b[A\n"
     ]
    },
    {
     "name": "stdout",
     "output_type": "stream",
     "text": [
      "Running actor for ['Sparkling'] 100 250 [3, 4, 5] ratings_count 1\n",
      "File data/scrapped_data/scrapped_data_Sparkling_100_250_ratings_count_[3, 4, 5]_1.json already exists\n",
      "Running actor for ['Sparkling'] 100 250 [3, 4, 5] ratings_count 3.2\n",
      "File data/scrapped_data/scrapped_data_Sparkling_100_250_ratings_count_[3, 4, 5]_3.2.json already exists\n",
      "Running actor for ['Sparkling'] 100 250 [3, 4, 5] ratings_count 3.8\n",
      "File data/scrapped_data/scrapped_data_Sparkling_100_250_ratings_count_[3, 4, 5]_3.8.json already exists\n",
      "Running actor for ['Sparkling'] 100 250 [3, 4, 5] ratings_count 4.2\n",
      "File data/scrapped_data/scrapped_data_Sparkling_100_250_ratings_count_[3, 4, 5]_4.2.json already exists\n"
     ]
    },
    {
     "name": "stderr",
     "output_type": "stream",
     "text": [
      "\n",
      "\n",
      "\n",
      "\n",
      "100%|████████████████████████████████████████████████████████████████████████████████████████████████████████████| 4/4 [00:00<00:00, 10362.70it/s]\u001b[A\u001b[A\u001b[A\u001b[A\n"
     ]
    },
    {
     "name": "stdout",
     "output_type": "stream",
     "text": [
      "Running actor for ['Dessert'] 100 250 [3, 4, 5] ratings_count 1\n",
      "File data/scrapped_data/scrapped_data_Dessert_100_250_ratings_count_[3, 4, 5]_1.json already exists\n",
      "Running actor for ['Dessert'] 100 250 [3, 4, 5] ratings_count 3.2\n",
      "File data/scrapped_data/scrapped_data_Dessert_100_250_ratings_count_[3, 4, 5]_3.2.json already exists\n",
      "Running actor for ['Dessert'] 100 250 [3, 4, 5] ratings_count 3.8\n",
      "File data/scrapped_data/scrapped_data_Dessert_100_250_ratings_count_[3, 4, 5]_3.8.json already exists\n",
      "Running actor for ['Dessert'] 100 250 [3, 4, 5] ratings_count 4.2\n",
      "File data/scrapped_data/scrapped_data_Dessert_100_250_ratings_count_[3, 4, 5]_4.2.json already exists\n"
     ]
    },
    {
     "name": "stderr",
     "output_type": "stream",
     "text": [
      "\n",
      "\n",
      "\n",
      "\n",
      "100%|████████████████████████████████████████████████████████████████████████████████████████████████████████████| 4/4 [00:00<00:00, 21263.90it/s]\u001b[A\u001b[A\u001b[A\u001b[A\n",
      "100%|██████████████████████████████████████████████████████████████████████████████████████████████████████████████| 6/6 [00:00<00:00, 547.94it/s]\n",
      "100%|███████████████████████████████████████████████████████████████████████████████████████████████████████████████| 5/5 [00:00<00:00, 85.91it/s]\n"
     ]
    },
    {
     "name": "stdout",
     "output_type": "stream",
     "text": [
      "Running actor for ['Fortified'] 100 250 [3, 4, 5] ratings_count 1\n",
      "File data/scrapped_data/scrapped_data_Fortified_100_250_ratings_count_[3, 4, 5]_1.json already exists\n",
      "Running actor for ['Fortified'] 100 250 [3, 4, 5] ratings_count 3.2\n",
      "File data/scrapped_data/scrapped_data_Fortified_100_250_ratings_count_[3, 4, 5]_3.2.json already exists\n",
      "Running actor for ['Fortified'] 100 250 [3, 4, 5] ratings_count 3.8\n",
      "File data/scrapped_data/scrapped_data_Fortified_100_250_ratings_count_[3, 4, 5]_3.8.json already exists\n",
      "Running actor for ['Fortified'] 100 250 [3, 4, 5] ratings_count 4.2\n",
      "File data/scrapped_data/scrapped_data_Fortified_100_250_ratings_count_[3, 4, 5]_4.2.json already exists\n"
     ]
    },
    {
     "name": "stderr",
     "output_type": "stream",
     "text": [
      "\n",
      "\n",
      "  0%|                                                                                                                       | 0/5 [00:00<?, ?it/s]\u001b[A\u001b[A\n",
      "\n",
      "\n",
      "100%|████████████████████████████████████████████████████████████████████████████████████████████████████████████| 6/6 [00:00<00:00, 28695.35it/s]\u001b[A\u001b[A\u001b[A\n"
     ]
    },
    {
     "name": "stdout",
     "output_type": "stream",
     "text": [
      "File data/scrapped_data/scrapped_data_Red_0_15_ratings_count_[1, 2]_1.json already exists\n",
      "File data/scrapped_data/scrapped_data_White_0_15_ratings_count_[1, 2]_1.json already exists\n",
      "File data/scrapped_data/scrapped_data_Rose_0_15_ratings_count_[1, 2]_1.json already exists\n",
      "File data/scrapped_data/scrapped_data_Sparkling_0_15_ratings_count_[1, 2]_1.json already exists\n",
      "File data/scrapped_data/scrapped_data_Dessert_0_15_ratings_count_[1, 2]_1.json already exists\n",
      "File data/scrapped_data/scrapped_data_Fortified_0_15_ratings_count_[1, 2]_1.json already exists\n"
     ]
    },
    {
     "name": "stderr",
     "output_type": "stream",
     "text": [
      "\n",
      "\n",
      "\n",
      "100%|████████████████████████████████████████████████████████████████████████████████████████████████████████████| 6/6 [00:00<00:00, 12403.07it/s]\u001b[A\u001b[A\u001b[A\n"
     ]
    },
    {
     "name": "stdout",
     "output_type": "stream",
     "text": [
      "File data/scrapped_data/scrapped_data_Red_15_30_ratings_count_[1, 2]_1.json already exists\n",
      "File data/scrapped_data/scrapped_data_White_15_30_ratings_count_[1, 2]_1.json already exists\n",
      "File data/scrapped_data/scrapped_data_Rose_15_30_ratings_count_[1, 2]_1.json already exists\n",
      "File data/scrapped_data/scrapped_data_Sparkling_15_30_ratings_count_[1, 2]_1.json already exists\n",
      "File data/scrapped_data/scrapped_data_Dessert_15_30_ratings_count_[1, 2]_1.json already exists\n",
      "File data/scrapped_data/scrapped_data_Fortified_15_30_ratings_count_[1, 2]_1.json already exists\n"
     ]
    },
    {
     "name": "stderr",
     "output_type": "stream",
     "text": [
      "\n",
      "\n",
      "\n",
      "100%|████████████████████████████████████████████████████████████████████████████████████████████████████████████| 6/6 [00:00<00:00, 37282.70it/s]\u001b[A\u001b[A\u001b[A\n"
     ]
    },
    {
     "name": "stdout",
     "output_type": "stream",
     "text": [
      "File data/scrapped_data/scrapped_data_Red_30_50_ratings_count_[1, 2]_1.json already exists\n",
      "File data/scrapped_data/scrapped_data_White_30_50_ratings_count_[1, 2]_1.json already exists\n",
      "File data/scrapped_data/scrapped_data_Rose_30_50_ratings_count_[1, 2]_1.json already exists\n",
      "File data/scrapped_data/scrapped_data_Sparkling_30_50_ratings_count_[1, 2]_1.json already exists\n",
      "File data/scrapped_data/scrapped_data_Dessert_30_50_ratings_count_[1, 2]_1.json already exists\n",
      "File data/scrapped_data/scrapped_data_Fortified_30_50_ratings_count_[1, 2]_1.json already exists\n"
     ]
    },
    {
     "name": "stderr",
     "output_type": "stream",
     "text": [
      "\n",
      "\n",
      "\n",
      "100%|████████████████████████████████████████████████████████████████████████████████████████████████████████████| 6/6 [00:00<00:00, 11496.49it/s]\u001b[A\u001b[A\u001b[A\n"
     ]
    },
    {
     "name": "stdout",
     "output_type": "stream",
     "text": [
      "File data/scrapped_data/scrapped_data_Red_50_100_ratings_count_[1, 2]_1.json already exists\n",
      "File data/scrapped_data/scrapped_data_White_50_100_ratings_count_[1, 2]_1.json already exists\n",
      "File data/scrapped_data/scrapped_data_Rose_50_100_ratings_count_[1, 2]_1.json already exists\n",
      "File data/scrapped_data/scrapped_data_Sparkling_50_100_ratings_count_[1, 2]_1.json already exists\n",
      "File data/scrapped_data/scrapped_data_Dessert_50_100_ratings_count_[1, 2]_1.json already exists\n",
      "File data/scrapped_data/scrapped_data_Fortified_50_100_ratings_count_[1, 2]_1.json already exists\n"
     ]
    },
    {
     "name": "stderr",
     "output_type": "stream",
     "text": [
      "\n",
      "\n",
      "\n",
      "100%|████████████████████████████████████████████████████████████████████████████████████████████████████████████| 6/6 [00:00<00:00, 16946.68it/s]\u001b[A\u001b[A\u001b[A\n",
      "100%|██████████████████████████████████████████████████████████████████████████████████████████████████████████████| 5/5 [00:00<00:00, 524.93it/s]\n",
      "100%|███████████████████████████████████████████████████████████████████████████████████████████████████████████████| 2/2 [00:00<00:00, 28.18it/s]\n",
      "100%|███████████████████████████████████████████████████████████████████████████████████████████████████████████████| 2/2 [00:00<00:00, 13.33it/s]"
     ]
    },
    {
     "name": "stdout",
     "output_type": "stream",
     "text": [
      "File data/scrapped_data/scrapped_data_Red_100_250_ratings_count_[1, 2]_1.json already exists\n",
      "File data/scrapped_data/scrapped_data_White_100_250_ratings_count_[1, 2]_1.json already exists\n",
      "File data/scrapped_data/scrapped_data_Rose_100_250_ratings_count_[1, 2]_1.json already exists\n",
      "File data/scrapped_data/scrapped_data_Sparkling_100_250_ratings_count_[1, 2]_1.json already exists\n",
      "File data/scrapped_data/scrapped_data_Dessert_100_250_ratings_count_[1, 2]_1.json already exists\n",
      "File data/scrapped_data/scrapped_data_Fortified_100_250_ratings_count_[1, 2]_1.json already exists\n"
     ]
    },
    {
     "name": "stderr",
     "output_type": "stream",
     "text": [
      "\n"
     ]
    }
   ],
   "source": [
    "run_all()"
   ]
  },
  {
   "cell_type": "markdown",
   "id": "e74b401c-b824-4868-912c-5eab2790fa92",
   "metadata": {},
   "source": [
    "# JSON to CSV"
   ]
  },
  {
   "cell_type": "code",
   "execution_count": 4,
   "id": "81543a7b-f72e-483b-8328-5d0a96aa20bf",
   "metadata": {},
   "outputs": [],
   "source": [
    "from typing import Any, Dict, Optional"
   ]
  },
  {
   "cell_type": "code",
   "execution_count": 5,
   "id": "43cbff15-e8fd-4fd1-af12-d70ecf9d244b",
   "metadata": {},
   "outputs": [],
   "source": [
    "def _get(d: dict, path: str, default=None):\n",
    "    \"\"\"Safe getter: path like 'vintage.wine.region.country.code'.\"\"\"\n",
    "    cur = d\n",
    "    for p in path.split('.'):\n",
    "        if cur is None:\n",
    "            return default\n",
    "        # handle list index like 'prices[0]'\n",
    "        if '[' in p and p.endswith(']'):\n",
    "            name, idx = p[:-1].split('[')\n",
    "            cur = cur.get(name) if isinstance(cur, dict) else None\n",
    "            try:\n",
    "                cur = cur[int(idx)] if isinstance(cur, list) else None\n",
    "            except (ValueError, IndexError, TypeError):\n",
    "                return default\n",
    "        else:\n",
    "            cur = cur.get(p) if isinstance(cur, dict) else None\n",
    "    return default if cur is None else cur\n"
   ]
  },
  {
   "cell_type": "code",
   "execution_count": 6,
   "id": "ab88f1e5-8427-4193-9ca0-cbc692d4ff11",
   "metadata": {},
   "outputs": [],
   "source": [
    "def extract_top_flavors(el: dict, TOP_N: int = 5) -> str:\n",
    "    def _get(d, path, default=None):\n",
    "        cur = d\n",
    "        for p in path.split('.'):\n",
    "            if cur is None:\n",
    "                return default\n",
    "            cur = cur.get(p) if isinstance(cur, dict) else default\n",
    "        return default if cur is None else cur\n",
    "\n",
    "    flavor_groups = _get(el, \"vintage.wine.taste.flavor\", []) or []\n",
    "    items = []\n",
    "    for g in flavor_groups:\n",
    "        for k in g.get(\"primary_keywords\", []) or []:\n",
    "            name = k.get(\"name\")\n",
    "            cnt = k.get(\"count\", 0) or 0\n",
    "            if name:\n",
    "                items.append((name, cnt))\n",
    "    # fallback to secondary if no primary found\n",
    "    if not items:\n",
    "        for g in flavor_groups:\n",
    "            for k in g.get(\"secondary_keywords\", []) or []:\n",
    "                name = k.get(\"name\")\n",
    "                cnt = k.get(\"count\", 0) or 0\n",
    "                if name:\n",
    "                    items.append((name, cnt))\n",
    "\n",
    "    # aggregate counts of same flavor name across groups\n",
    "    from collections import Counter\n",
    "    agg = Counter()\n",
    "    for name, cnt in items:\n",
    "        agg[name] += cnt\n",
    "\n",
    "    top = [name for name, _ in agg.most_common(TOP_N)]\n",
    "    return \"; \".join(top)"
   ]
  },
  {
   "cell_type": "code",
   "execution_count": 7,
   "id": "9bae0ad1-3425-4c03-8ff9-30bab642d931",
   "metadata": {},
   "outputs": [],
   "source": [
    "def extract_wine_row(el: dict, wine_type: str) -> dict:\n",
    "    def _get(d, path, default=None):\n",
    "        cur = d\n",
    "        for p in path.split('.'):\n",
    "            if cur is None:\n",
    "                return default\n",
    "            cur = cur.get(p) if isinstance(cur, dict) else default\n",
    "        return default if cur is None else cur\n",
    "\n",
    "    def _pick_price(el: dict):\n",
    "        prices = _get(el, \"prices\", []) or []\n",
    "        if prices:\n",
    "            valid = [p for p in prices if isinstance(p, dict) and _get(p, \"amount\") is not None]\n",
    "            if valid:\n",
    "                pmin = min(valid, key=lambda p: _get(p, \"amount\"))\n",
    "                return _get(pmin, \"amount\"), _get(pmin, \"currency.code\")\n",
    "        # fallback to single price block\n",
    "        return _get(el, \"price.amount\"), _get(el, \"price.currency.code\")\n",
    "\n",
    "    # ids and names\n",
    "    wine_id     = _get(el, \"vintage.wine.id\")\n",
    "    vintage_id  = _get(el, \"vintage.id\")\n",
    "    region_id = _get(el, \"vintage.wine.region.id\")\n",
    "    region_name = _get(el, \"vintage.wine.region.name\")\n",
    "    region_name = _get(el, \"vintage.wine.region.name\")\n",
    "    country_name = _get(el, \"vintage.wine.region.country.name\")\n",
    "    vintage_name= _get(el, \"vintage.name\")\n",
    "    wine_name   = _get(el, \"vintage.wine.name\")\n",
    "    description = _get(el, \"vintage.wine.style.description\")\n",
    "    varietal_name =  _get(el, \"vintage.wine.style.varietal_name\")\n",
    "    style_name =  _get(el, \"vintage.wine.style.name\")\n",
    "\n",
    "    # grapes\n",
    "    used_grapes = \"; \".join([grape['name'] for grape in _get(el, \"vintage.wine.region.country.most_used_grapes\", default=[])])\n",
    "\n",
    "    # go well with\n",
    "    relevant_food = \"; \".join([dish['name'] for dish in _get(el, \"vintage.wine.style.food\", default=[])])\n",
    "\n",
    "    # top flavors\n",
    "    top_flavors = extract_top_flavors(el, TOP_N=10)\n",
    "    \n",
    "    # year (normalize NV to None)\n",
    "    year_val = _get(el, \"vintage.year\")\n",
    "    try:\n",
    "        year = int(str(year_val)) if str(year_val).isdigit() else None\n",
    "    except:\n",
    "        year = None\n",
    "\n",
    "    # ratings\n",
    "    rating_avg   = _get(el, \"vintage.statistics.ratings_average\")\n",
    "    rating_count = _get(el, \"vintage.statistics.ratings_count\")\n",
    "\n",
    "    # price (single number) + currency\n",
    "    price, currency_code = _pick_price(el)\n",
    "\n",
    "    # taste metrics\n",
    "    acidity   = _get(el, \"vintage.wine.taste.structure.acidity\")\n",
    "    intensity = _get(el, \"vintage.wine.taste.structure.intensity\")\n",
    "    sweetness = _get(el, \"vintage.wine.taste.structure.sweetness\")\n",
    "    tannin    = _get(el, \"vintage.wine.taste.structure.tannin\")\n",
    "    fizziness = _get(el, \"vintage.wine.taste.structure.fizziness\")\n",
    "\n",
    "    # vivino link (stable pattern)\n",
    "    seo = \"-\".join(_get(el, \"vintage.seo_name\").split(\"-\")[:-1])\n",
    "    vivino_url = f\"https://www.vivino.com/US/en/{seo}/w/{wine_id}\" if seo and vintage_id else None\n",
    "\n",
    "    \n",
    "    return {\n",
    "        \"wine_id\": wine_id,\n",
    "        \"vintage_id\": vintage_id,\n",
    "        \"wine_type\": wine_type,\n",
    "        \"region_id\": region_id,\n",
    "        \"region_name\": region_name,\n",
    "        \"country_name\": country_name,\n",
    "        \"used_grapes\": used_grapes,\n",
    "        \"relevant_food\": relevant_food,\n",
    "        \"top_flavors\": top_flavors,\n",
    "        \"vintage_name\": vintage_name,\n",
    "        \"wine_name\": wine_name,\n",
    "        \"varietal_name\": varietal_name,\n",
    "        \"style_name\": style_name,\n",
    "        \"year\": year,\n",
    "        \"price\": price,                 # one number\n",
    "        \"currency_code\": currency_code, # so price is meaningful\n",
    "        \"acidity\": acidity,\n",
    "        \"intensity\": intensity,\n",
    "        \"sweetness\": sweetness,\n",
    "        \"tannin\": tannin,\n",
    "        \"fizziness\": fizziness,\n",
    "        \"rating_avg\": rating_avg,\n",
    "        \"rating_count\": rating_count,\n",
    "        \"vivino_url\": vivino_url,\n",
    "        \"description\": description,\n",
    "    }\n"
   ]
  },
  {
   "cell_type": "code",
   "execution_count": 8,
   "id": "dcdbbad1-e010-4004-a128-3231e6c45e50",
   "metadata": {},
   "outputs": [],
   "source": [
    "def process_one_file(file_name: str, vintage_ids: set):\n",
    "    rows = []\n",
    "    with open(file_name, \"r\") as f:\n",
    "        data = json.load(f)\n",
    "        wine_type = file_name.split('_')[3]\n",
    "\n",
    "        for el in data:\n",
    "            if el[\"vintage\"][\"id\"] not in vintage_ids:\n",
    "                row = extract_wine_row(el, wine_type=wine_type)\n",
    "                rows.append(row)\n",
    "                vintage_ids.add(el[\"vintage\"][\"id\"])\n",
    "    return vintage_ids, rows"
   ]
  },
  {
   "cell_type": "code",
   "execution_count": 10,
   "id": "46a3b531-019b-4fd1-84a8-e25dd35390c6",
   "metadata": {
    "scrolled": true
   },
   "outputs": [],
   "source": [
    "file_name = \"../data/scrapped_data/scrapped_data_Red_50_100_ratings_average_[1, 2]_1.json\"\n",
    "vintage_ids, rows = process_one_file(file_name, set())"
   ]
  },
  {
   "cell_type": "code",
   "execution_count": 11,
   "id": "3c10e7ea-5823-4d64-95b5-61a8e3795583",
   "metadata": {},
   "outputs": [
    {
     "name": "stdout",
     "output_type": "stream",
     "text": [
      "{\n",
      "    \"wine_id\": 1917970,\n",
      "    \"vintage_id\": 173821915,\n",
      "    \"wine_type\": \"Red\",\n",
      "    \"region_id\": 25,\n",
      "    \"region_name\": \"Napa Valley\",\n",
      "    \"country_name\": \"United States\",\n",
      "    \"used_grapes\": \"Cabernet Sauvignon; Pinot Noir; Chardonnay\",\n",
      "    \"relevant_food\": \"Beef; Lamb; Game (deer, venison)\",\n",
      "    \"top_flavors\": \"chocolate; black fruit; smoke; blackberry; blackberry jam; licorice; lavender; camphor; white pepper; strawberry\",\n",
      "    \"vintage_name\": \"B Cellars Frediani Vineyard Petite Sirah 2020\",\n",
      "    \"wine_name\": \"Frediani Vineyard Petite Sirah\",\n",
      "    \"varietal_name\": \"Petite Sirah\",\n",
      "    \"style_name\": \"Californian Petite Sirah\",\n",
      "    \"year\": 2020,\n",
      "    \"price\": 91,\n",
      "    \"currency_code\": \"USD\",\n",
      "    \"acidity\": 3.42,\n",
      "    \"intensity\": 4.51,\n",
      "    \"sweetness\": 1.61,\n",
      "    \"tannin\": 4.65,\n",
      "    \"fizziness\": null,\n",
      "    \"rating_avg\": 4.7,\n",
      "    \"rating_count\": 56,\n",
      "    \"vivino_url\": \"https://www.vivino.com/US/en/b-cellars-frediani-vineyard-petite-sirah/w/1917970\",\n",
      "    \"description\": \"Much like Malbec, Petite Sirah is the product of France but it found its home in places with a much warmer, dryer climate like Israel, Australia, and the United States.\\n\\nPetite Sirahs tend to be highly tannic and highly acidic. They exude strong blackberry notes, as well as a good kick of cracked black pepper.\\n\\nThe grape was developed by Dr. Francois Durif in the 1870s as a hybrid grape that  wasn't susceptible Powdery Mildew. He named the grape Durif, though confusion about the strain later led to it being named Petite Sirah.\\n\\nPetite Sirah has mostly been utilized as a blending grape as it contributes body, depth and is adept at toning down excessive \\u201cjaminess\\u201d, though in recent years it has been given more of an opportunity to shine as a dominant varietal.\\n\\nLike many big juicy red wines Petite Sirah pairs well with steaks, roasts, game and barbecued meat.\"\n",
      "}\n"
     ]
    }
   ],
   "source": [
    "[el['description'] for el in rows]\n",
    "print(json.dumps(rows[0], indent=4))"
   ]
  },
  {
   "cell_type": "code",
   "execution_count": null,
   "id": "efd30486-1c64-4866-ba7a-208d4afc4ebc",
   "metadata": {},
   "outputs": [],
   "source": []
  },
  {
   "cell_type": "markdown",
   "id": "05e84fae-4226-4953-bbcb-7214dda565fd",
   "metadata": {},
   "source": [
    "## All files"
   ]
  },
  {
   "cell_type": "code",
   "execution_count": 13,
   "id": "7e74e38b-285d-4554-8438-f642eecf3965",
   "metadata": {},
   "outputs": [],
   "source": [
    "df = pd.read_csv('../data/wdines_head.csv')"
   ]
  },
  {
   "cell_type": "code",
   "execution_count": 14,
   "id": "e1313f00-fab4-4a76-b30f-617cc6a24f30",
   "metadata": {},
   "outputs": [
    {
     "data": {
      "text/html": [
       "<div>\n",
       "<style scoped>\n",
       "    .dataframe tbody tr th:only-of-type {\n",
       "        vertical-align: middle;\n",
       "    }\n",
       "\n",
       "    .dataframe tbody tr th {\n",
       "        vertical-align: top;\n",
       "    }\n",
       "\n",
       "    .dataframe thead th {\n",
       "        text-align: right;\n",
       "    }\n",
       "</style>\n",
       "<table border=\"1\" class=\"dataframe\">\n",
       "  <thead>\n",
       "    <tr style=\"text-align: right;\">\n",
       "      <th></th>\n",
       "      <th>wine_id</th>\n",
       "      <th>vintage_id</th>\n",
       "      <th>wine_type</th>\n",
       "      <th>region_id</th>\n",
       "      <th>region_name</th>\n",
       "      <th>country_name</th>\n",
       "      <th>used_grapes</th>\n",
       "      <th>relevant_food</th>\n",
       "      <th>top_flavors</th>\n",
       "      <th>vintage_name</th>\n",
       "      <th>...</th>\n",
       "      <th>currency_code</th>\n",
       "      <th>acidity</th>\n",
       "      <th>intensity</th>\n",
       "      <th>sweetness</th>\n",
       "      <th>tannin</th>\n",
       "      <th>fizziness</th>\n",
       "      <th>rating_avg</th>\n",
       "      <th>rating_count</th>\n",
       "      <th>vivino_url</th>\n",
       "      <th>description</th>\n",
       "    </tr>\n",
       "  </thead>\n",
       "  <tbody>\n",
       "    <tr>\n",
       "      <th>0</th>\n",
       "      <td>1724151</td>\n",
       "      <td>170426333</td>\n",
       "      <td>Red</td>\n",
       "      <td>25.0</td>\n",
       "      <td>Napa Valley</td>\n",
       "      <td>United States</td>\n",
       "      <td>Cabernet Sauvignon; Pinot Noir; Chardonnay</td>\n",
       "      <td>Beef; Veal; Game (deer, venison); Poultry</td>\n",
       "      <td>vanilla; oak; cherry; butter; strawberry; rasp...</td>\n",
       "      <td>Bread &amp; Butter Pinot Noir 2022</td>\n",
       "      <td>...</td>\n",
       "      <td>USD</td>\n",
       "      <td>3.25</td>\n",
       "      <td>2.92</td>\n",
       "      <td>1.81</td>\n",
       "      <td>2.01</td>\n",
       "      <td>NaN</td>\n",
       "      <td>4.0</td>\n",
       "      <td>8211</td>\n",
       "      <td>https://www.vivino.com/US/en/bread-and-butter-...</td>\n",
       "      <td>Pinot Noir has the well deserved reputation of...</td>\n",
       "    </tr>\n",
       "    <tr>\n",
       "      <th>1</th>\n",
       "      <td>779089</td>\n",
       "      <td>3099206</td>\n",
       "      <td>Dessert</td>\n",
       "      <td>432.0</td>\n",
       "      <td>Sauternes</td>\n",
       "      <td>França</td>\n",
       "      <td>Pinot Noir; Chardonnay; Merlot</td>\n",
       "      <td>Sobremesas com frutas; Queijo azul</td>\n",
       "      <td>honey; apricot; peach; lemon; marmalade; orang...</td>\n",
       "      <td>Château Liot Sauternes 2001</td>\n",
       "      <td>...</td>\n",
       "      <td>USD</td>\n",
       "      <td>4.32</td>\n",
       "      <td>4.75</td>\n",
       "      <td>4.86</td>\n",
       "      <td>NaN</td>\n",
       "      <td>NaN</td>\n",
       "      <td>4.1</td>\n",
       "      <td>27</td>\n",
       "      <td>https://www.vivino.com/US/en/liot-sauternes/w/...</td>\n",
       "      <td>NaN</td>\n",
       "    </tr>\n",
       "    <tr>\n",
       "      <th>2</th>\n",
       "      <td>5958115</td>\n",
       "      <td>159647945</td>\n",
       "      <td>Rose</td>\n",
       "      <td>409.0</td>\n",
       "      <td>Champagne</td>\n",
       "      <td>France</td>\n",
       "      <td>Pinot Noir; Chardonnay; Merlot</td>\n",
       "      <td>Pork; Rich fish (salmon, tuna etc); Shellfish;...</td>\n",
       "      <td>citrus; brioche; cream; lemon; minerals; apple...</td>\n",
       "      <td>Billecart-Salmon Cuvée Louis Blanc de Blancs B...</td>\n",
       "      <td>...</td>\n",
       "      <td>USD</td>\n",
       "      <td>4.38</td>\n",
       "      <td>3.78</td>\n",
       "      <td>NaN</td>\n",
       "      <td>NaN</td>\n",
       "      <td>4.17</td>\n",
       "      <td>4.5</td>\n",
       "      <td>449</td>\n",
       "      <td>https://www.vivino.com/US/en/champagne-billeca...</td>\n",
       "      <td>While there are many sparkling wine regions ar...</td>\n",
       "    </tr>\n",
       "    <tr>\n",
       "      <th>3</th>\n",
       "      <td>1403549</td>\n",
       "      <td>155807683</td>\n",
       "      <td>Dessert</td>\n",
       "      <td>1808.0</td>\n",
       "      <td>Recioto della Valpolicella</td>\n",
       "      <td>Italy</td>\n",
       "      <td>Sangiovese; Chardonnay; Merlot</td>\n",
       "      <td>NaN</td>\n",
       "      <td>chocolate; raisin; plum; cherry; oak; caramel;...</td>\n",
       "      <td>Bussola Recioto Della Valpolicella Classico 2017</td>\n",
       "      <td>...</td>\n",
       "      <td>USD</td>\n",
       "      <td>NaN</td>\n",
       "      <td>NaN</td>\n",
       "      <td>NaN</td>\n",
       "      <td>NaN</td>\n",
       "      <td>NaN</td>\n",
       "      <td>4.5</td>\n",
       "      <td>473</td>\n",
       "      <td>https://www.vivino.com/US/en/tommaso-bussola-r...</td>\n",
       "      <td>NaN</td>\n",
       "    </tr>\n",
       "    <tr>\n",
       "      <th>4</th>\n",
       "      <td>1507332</td>\n",
       "      <td>120226382</td>\n",
       "      <td>Dessert</td>\n",
       "      <td>2358.0</td>\n",
       "      <td>Jurançon</td>\n",
       "      <td>France</td>\n",
       "      <td>Pinot Noir; Chardonnay; Merlot</td>\n",
       "      <td>Mature and hard cheese; Fruity desserts; Blue ...</td>\n",
       "      <td>apricot; honey; peach; pineapple; apple; citru...</td>\n",
       "      <td>Château Jolys Cuvée Jean Jurançon 2016</td>\n",
       "      <td>...</td>\n",
       "      <td>USD</td>\n",
       "      <td>3.29</td>\n",
       "      <td>3.89</td>\n",
       "      <td>4.92</td>\n",
       "      <td>NaN</td>\n",
       "      <td>NaN</td>\n",
       "      <td>4.0</td>\n",
       "      <td>102</td>\n",
       "      <td>https://www.vivino.com/US/en/chateau-jolys-cuv...</td>\n",
       "      <td>NaN</td>\n",
       "    </tr>\n",
       "    <tr>\n",
       "      <th>5</th>\n",
       "      <td>2333920</td>\n",
       "      <td>173989570</td>\n",
       "      <td>Red</td>\n",
       "      <td>51.0</td>\n",
       "      <td>Willamette Valley</td>\n",
       "      <td>Estados Unidos</td>\n",
       "      <td>Cabernet Sauvignon; Pinot Noir; Chardonnay</td>\n",
       "      <td>Carne de vaca; Vitela; Carne de caça (cervo, v...</td>\n",
       "      <td>cherry; raspberry; oak; strawberry; earthy; re...</td>\n",
       "      <td>Kings Ridge Pinot Noir 2023</td>\n",
       "      <td>...</td>\n",
       "      <td>USD</td>\n",
       "      <td>3.92</td>\n",
       "      <td>2.13</td>\n",
       "      <td>1.38</td>\n",
       "      <td>2.14</td>\n",
       "      <td>NaN</td>\n",
       "      <td>3.7</td>\n",
       "      <td>5894</td>\n",
       "      <td>https://www.vivino.com/US/en/kings-ridge-pinot...</td>\n",
       "      <td>Light to medium-bodied, Oregon Pinot is more f...</td>\n",
       "    </tr>\n",
       "    <tr>\n",
       "      <th>6</th>\n",
       "      <td>1206377</td>\n",
       "      <td>3934113</td>\n",
       "      <td>Fortified</td>\n",
       "      <td>718.0</td>\n",
       "      <td>Porto</td>\n",
       "      <td>Portugal</td>\n",
       "      <td>Touriga Nacional; Tinta Roriz; Touriga Franca</td>\n",
       "      <td>Queijos maduros; Queijo azul</td>\n",
       "      <td>raisin; chocolate; blackberry; plum; caramel; ...</td>\n",
       "      <td>Fonseca Vintage Port 1994</td>\n",
       "      <td>...</td>\n",
       "      <td>USD</td>\n",
       "      <td>2.88</td>\n",
       "      <td>4.37</td>\n",
       "      <td>4.72</td>\n",
       "      <td>NaN</td>\n",
       "      <td>NaN</td>\n",
       "      <td>4.6</td>\n",
       "      <td>180</td>\n",
       "      <td>https://www.vivino.com/US/en/fonseca-guimaraen...</td>\n",
       "      <td>NaN</td>\n",
       "    </tr>\n",
       "    <tr>\n",
       "      <th>7</th>\n",
       "      <td>20810</td>\n",
       "      <td>167174400</td>\n",
       "      <td>Rose</td>\n",
       "      <td>1830.0</td>\n",
       "      <td>Moscato d'Asti</td>\n",
       "      <td>Italy</td>\n",
       "      <td>Sangiovese; Chardonnay; Merlot</td>\n",
       "      <td>Fruity desserts; Aperitif</td>\n",
       "      <td>peach; honey; pear; apple; citrus; lychee; lem...</td>\n",
       "      <td>Saracco Moscato d'Asti 2021</td>\n",
       "      <td>...</td>\n",
       "      <td>USD</td>\n",
       "      <td>2.69</td>\n",
       "      <td>2.53</td>\n",
       "      <td>NaN</td>\n",
       "      <td>NaN</td>\n",
       "      <td>1.09</td>\n",
       "      <td>4.1</td>\n",
       "      <td>1548</td>\n",
       "      <td>https://www.vivino.com/US/en/saracco-paolo-mos...</td>\n",
       "      <td>The light, slightly sweet wines of Moscato d'A...</td>\n",
       "    </tr>\n",
       "    <tr>\n",
       "      <th>8</th>\n",
       "      <td>88830</td>\n",
       "      <td>159496979</td>\n",
       "      <td>Red</td>\n",
       "      <td>492.0</td>\n",
       "      <td>Rioja</td>\n",
       "      <td>Espanha</td>\n",
       "      <td>Tempranillo; Garnacha; Cabernet Sauvignon</td>\n",
       "      <td>Carne de vaca; Cordeiro; Vitela; Aves</td>\n",
       "      <td>oak; vanilla; cherry; leather; red fruit; plum...</td>\n",
       "      <td>Lan Crianza Rioja 2019</td>\n",
       "      <td>...</td>\n",
       "      <td>USD</td>\n",
       "      <td>3.74</td>\n",
       "      <td>3.75</td>\n",
       "      <td>1.64</td>\n",
       "      <td>3.75</td>\n",
       "      <td>NaN</td>\n",
       "      <td>3.8</td>\n",
       "      <td>1407</td>\n",
       "      <td>https://www.vivino.com/US/en/lan-crianza-rioja...</td>\n",
       "      <td>Rioja is one Spain's most famous wine regions ...</td>\n",
       "    </tr>\n",
       "    <tr>\n",
       "      <th>9</th>\n",
       "      <td>1728123</td>\n",
       "      <td>177136986</td>\n",
       "      <td>White</td>\n",
       "      <td>105.0</td>\n",
       "      <td>Rutherford</td>\n",
       "      <td>United States</td>\n",
       "      <td>Cabernet Sauvignon; Pinot Noir; Chardonnay</td>\n",
       "      <td>Pork; Rich fish (salmon, tuna etc); Vegetarian...</td>\n",
       "      <td>oak; butter; cream; vanilla; citrus; pear; toa...</td>\n",
       "      <td>Staglin Estate Chardonnay 2022</td>\n",
       "      <td>...</td>\n",
       "      <td>USD</td>\n",
       "      <td>2.75</td>\n",
       "      <td>4.78</td>\n",
       "      <td>2.44</td>\n",
       "      <td>NaN</td>\n",
       "      <td>NaN</td>\n",
       "      <td>4.3</td>\n",
       "      <td>577</td>\n",
       "      <td>https://www.vivino.com/US/en/staglin-family-vi...</td>\n",
       "      <td>NaN</td>\n",
       "    </tr>\n",
       "    <tr>\n",
       "      <th>10</th>\n",
       "      <td>1174845</td>\n",
       "      <td>1563703</td>\n",
       "      <td>Dessert</td>\n",
       "      <td>432.0</td>\n",
       "      <td>Sauternes</td>\n",
       "      <td>France</td>\n",
       "      <td>Pinot Noir; Chardonnay; Merlot</td>\n",
       "      <td>Fruity desserts; Blue cheese</td>\n",
       "      <td>honey; apricot; caramel; peach; marmalade; ora...</td>\n",
       "      <td>Château Suduiraut Sauternes (Premier Grand Cru...</td>\n",
       "      <td>...</td>\n",
       "      <td>USD</td>\n",
       "      <td>4.33</td>\n",
       "      <td>4.74</td>\n",
       "      <td>4.87</td>\n",
       "      <td>NaN</td>\n",
       "      <td>NaN</td>\n",
       "      <td>4.3</td>\n",
       "      <td>538</td>\n",
       "      <td>https://www.vivino.com/US/en/chateau-suduiraut...</td>\n",
       "      <td>NaN</td>\n",
       "    </tr>\n",
       "    <tr>\n",
       "      <th>11</th>\n",
       "      <td>1189822</td>\n",
       "      <td>2282055</td>\n",
       "      <td>Fortified</td>\n",
       "      <td>718.0</td>\n",
       "      <td>Porto</td>\n",
       "      <td>Portugal</td>\n",
       "      <td>Touriga Nacional; Tinta Roriz; Touriga Franca</td>\n",
       "      <td>Sweet desserts; Mature and hard cheese; Blue c...</td>\n",
       "      <td>caramel; raisin; honey; walnut; dried fruit; a...</td>\n",
       "      <td>Barros Colheita Porto 2011</td>\n",
       "      <td>...</td>\n",
       "      <td>USD</td>\n",
       "      <td>3.02</td>\n",
       "      <td>4.55</td>\n",
       "      <td>4.54</td>\n",
       "      <td>NaN</td>\n",
       "      <td>NaN</td>\n",
       "      <td>4.2</td>\n",
       "      <td>42</td>\n",
       "      <td>https://www.vivino.com/US/en/barros-porto-colh...</td>\n",
       "      <td>NaN</td>\n",
       "    </tr>\n",
       "    <tr>\n",
       "      <th>12</th>\n",
       "      <td>3475</td>\n",
       "      <td>7123336</td>\n",
       "      <td>Red</td>\n",
       "      <td>25.0</td>\n",
       "      <td>Napa Valley</td>\n",
       "      <td>Estados Unidos</td>\n",
       "      <td>Cabernet Sauvignon; Pinot Noir; Chardonnay</td>\n",
       "      <td>Carne de vaca; Cordeiro; Carne de caça (cervo,...</td>\n",
       "      <td>oak; blackberry; vanilla; cherry; plum; chocol...</td>\n",
       "      <td>Duckhorn Napa Valley Cabernet Sauvignon 1985</td>\n",
       "      <td>...</td>\n",
       "      <td>USD</td>\n",
       "      <td>3.37</td>\n",
       "      <td>4.68</td>\n",
       "      <td>1.63</td>\n",
       "      <td>3.28</td>\n",
       "      <td>NaN</td>\n",
       "      <td>4.3</td>\n",
       "      <td>44209</td>\n",
       "      <td>https://www.vivino.com/US/en/duckhorn-napa-val...</td>\n",
       "      <td>NaN</td>\n",
       "    </tr>\n",
       "    <tr>\n",
       "      <th>13</th>\n",
       "      <td>4196504</td>\n",
       "      <td>177872969</td>\n",
       "      <td>White</td>\n",
       "      <td>385.0</td>\n",
       "      <td>Bourgogne</td>\n",
       "      <td>France</td>\n",
       "      <td>Pinot Noir; Chardonnay; Merlot</td>\n",
       "      <td>Pasta; Rich fish (salmon, tuna etc); Shellfish...</td>\n",
       "      <td>oak; butter; minerals; citrus; peach; apricot;...</td>\n",
       "      <td>Domaine Philippe Pernot-Belicard Chardonnay Bo...</td>\n",
       "      <td>...</td>\n",
       "      <td>USD</td>\n",
       "      <td>3.40</td>\n",
       "      <td>3.83</td>\n",
       "      <td>1.22</td>\n",
       "      <td>NaN</td>\n",
       "      <td>NaN</td>\n",
       "      <td>3.8</td>\n",
       "      <td>452</td>\n",
       "      <td>https://www.vivino.com/US/en/pernot-belicard-c...</td>\n",
       "      <td>White Burgundy, or Bourgogne Blanc, as it is o...</td>\n",
       "    </tr>\n",
       "    <tr>\n",
       "      <th>14</th>\n",
       "      <td>17528</td>\n",
       "      <td>178356661</td>\n",
       "      <td>Dessert</td>\n",
       "      <td>731.0</td>\n",
       "      <td>Vouvray</td>\n",
       "      <td>França</td>\n",
       "      <td>Pinot Noir; Chardonnay; Merlot</td>\n",
       "      <td>Queijos maduros; Sobremesas com frutas; Queijo...</td>\n",
       "      <td>honey; apple; apricot; minerals; pear; cheese;...</td>\n",
       "      <td>Domaine Huet Vouvray Clos du Bourg Moelleux 2023</td>\n",
       "      <td>...</td>\n",
       "      <td>USD</td>\n",
       "      <td>4.45</td>\n",
       "      <td>3.48</td>\n",
       "      <td>4.08</td>\n",
       "      <td>NaN</td>\n",
       "      <td>NaN</td>\n",
       "      <td>4.2</td>\n",
       "      <td>1254</td>\n",
       "      <td>https://www.vivino.com/US/en/domaine-huet-vouv...</td>\n",
       "      <td>NaN</td>\n",
       "    </tr>\n",
       "    <tr>\n",
       "      <th>15</th>\n",
       "      <td>779974</td>\n",
       "      <td>2034015</td>\n",
       "      <td>White</td>\n",
       "      <td>3721.0</td>\n",
       "      <td>Chassagne-Montrachet 1er Cru 'La Romanée'</td>\n",
       "      <td>France</td>\n",
       "      <td>Pinot Noir; Chardonnay; Merlot</td>\n",
       "      <td>Pasta; Rich fish (salmon, tuna etc); Shellfish...</td>\n",
       "      <td>butter; oak; minerals; oil; citrus; cream; tro...</td>\n",
       "      <td>Château de La Maltroye Chassagne-Montrachet 1e...</td>\n",
       "      <td>...</td>\n",
       "      <td>USD</td>\n",
       "      <td>3.14</td>\n",
       "      <td>4.04</td>\n",
       "      <td>1.76</td>\n",
       "      <td>NaN</td>\n",
       "      <td>NaN</td>\n",
       "      <td>4.3</td>\n",
       "      <td>290</td>\n",
       "      <td>https://www.vivino.com/US/en/chateau-de-la-mal...</td>\n",
       "      <td>NaN</td>\n",
       "    </tr>\n",
       "    <tr>\n",
       "      <th>16</th>\n",
       "      <td>1151129</td>\n",
       "      <td>6635573</td>\n",
       "      <td>Rose</td>\n",
       "      <td>409.0</td>\n",
       "      <td>Champagne</td>\n",
       "      <td>France</td>\n",
       "      <td>Pinot Noir; Chardonnay; Merlot</td>\n",
       "      <td>Pork; Rich fish (salmon, tuna etc); Shellfish;...</td>\n",
       "      <td>apple; brioche; citrus; toast; minerals; lemon...</td>\n",
       "      <td>Henriot Millésimé Brut Champagne 2012</td>\n",
       "      <td>...</td>\n",
       "      <td>USD</td>\n",
       "      <td>4.44</td>\n",
       "      <td>4.06</td>\n",
       "      <td>NaN</td>\n",
       "      <td>NaN</td>\n",
       "      <td>4.31</td>\n",
       "      <td>4.2</td>\n",
       "      <td>1038</td>\n",
       "      <td>https://www.vivino.com/US/en/champagne-henriot...</td>\n",
       "      <td>While there are many sparkling wine regions ar...</td>\n",
       "    </tr>\n",
       "    <tr>\n",
       "      <th>17</th>\n",
       "      <td>1734281</td>\n",
       "      <td>176432809</td>\n",
       "      <td>White</td>\n",
       "      <td>4426.0</td>\n",
       "      <td>Nierstein</td>\n",
       "      <td>Germany</td>\n",
       "      <td>Riesling; Spätburgunder; Weissburgunder</td>\n",
       "      <td>Pork; Shellfish; Spicy food; Poultry; Cured Meat</td>\n",
       "      <td>honey; peach; pear; apple; lemon; citrus; mine...</td>\n",
       "      <td>Fritz Windisch Niersteiner Spiegelberg Rieslin...</td>\n",
       "      <td>...</td>\n",
       "      <td>USD</td>\n",
       "      <td>4.73</td>\n",
       "      <td>2.89</td>\n",
       "      <td>2.66</td>\n",
       "      <td>NaN</td>\n",
       "      <td>NaN</td>\n",
       "      <td>3.8</td>\n",
       "      <td>879</td>\n",
       "      <td>https://www.vivino.com/US/en/fritz-windisch-ni...</td>\n",
       "      <td>Riesling is without question Germany's favorit...</td>\n",
       "    </tr>\n",
       "    <tr>\n",
       "      <th>18</th>\n",
       "      <td>1564459</td>\n",
       "      <td>161043444</td>\n",
       "      <td>White</td>\n",
       "      <td>3157.0</td>\n",
       "      <td>Brauneberg</td>\n",
       "      <td>Germany</td>\n",
       "      <td>Riesling; Spätburgunder; Weissburgunder</td>\n",
       "      <td>Pork; Shellfish; Spicy food; Poultry; Cured Meat</td>\n",
       "      <td>honey; peach; pineapple; stone; stone fruit; m...</td>\n",
       "      <td>Reichsgraf von Kesselstatt Juffer-Sonnenuhr Ri...</td>\n",
       "      <td>...</td>\n",
       "      <td>USD</td>\n",
       "      <td>4.42</td>\n",
       "      <td>3.09</td>\n",
       "      <td>2.60</td>\n",
       "      <td>NaN</td>\n",
       "      <td>NaN</td>\n",
       "      <td>4.2</td>\n",
       "      <td>147</td>\n",
       "      <td>https://www.vivino.com/US/en/reichsgraf-von-ke...</td>\n",
       "      <td>Riesling is without question Germany's favorit...</td>\n",
       "    </tr>\n",
       "    <tr>\n",
       "      <th>19</th>\n",
       "      <td>2933379</td>\n",
       "      <td>179526218</td>\n",
       "      <td>White</td>\n",
       "      <td>915.0</td>\n",
       "      <td>Peloponnesos</td>\n",
       "      <td>Greece</td>\n",
       "      <td>Merlot; Assyrtiko; Agiorgitiko</td>\n",
       "      <td>NaN</td>\n",
       "      <td>lemon; citrus; lime; stone; peach; minerals; p...</td>\n",
       "      <td>Gaía Monograph Moschofilero (Μοσχοφίλερο) 2024</td>\n",
       "      <td>...</td>\n",
       "      <td>USD</td>\n",
       "      <td>NaN</td>\n",
       "      <td>NaN</td>\n",
       "      <td>NaN</td>\n",
       "      <td>NaN</td>\n",
       "      <td>NaN</td>\n",
       "      <td>3.7</td>\n",
       "      <td>1605</td>\n",
       "      <td>https://www.vivino.com/US/en/gaia-nemea-monogr...</td>\n",
       "      <td>NaN</td>\n",
       "    </tr>\n",
       "  </tbody>\n",
       "</table>\n",
       "<p>20 rows × 25 columns</p>\n",
       "</div>"
      ],
      "text/plain": [
       "    wine_id  vintage_id  wine_type  region_id  \\\n",
       "0   1724151   170426333        Red       25.0   \n",
       "1    779089     3099206    Dessert      432.0   \n",
       "2   5958115   159647945       Rose      409.0   \n",
       "3   1403549   155807683    Dessert     1808.0   \n",
       "4   1507332   120226382    Dessert     2358.0   \n",
       "5   2333920   173989570        Red       51.0   \n",
       "6   1206377     3934113  Fortified      718.0   \n",
       "7     20810   167174400       Rose     1830.0   \n",
       "8     88830   159496979        Red      492.0   \n",
       "9   1728123   177136986      White      105.0   \n",
       "10  1174845     1563703    Dessert      432.0   \n",
       "11  1189822     2282055  Fortified      718.0   \n",
       "12     3475     7123336        Red       25.0   \n",
       "13  4196504   177872969      White      385.0   \n",
       "14    17528   178356661    Dessert      731.0   \n",
       "15   779974     2034015      White     3721.0   \n",
       "16  1151129     6635573       Rose      409.0   \n",
       "17  1734281   176432809      White     4426.0   \n",
       "18  1564459   161043444      White     3157.0   \n",
       "19  2933379   179526218      White      915.0   \n",
       "\n",
       "                                  region_name    country_name  \\\n",
       "0                                 Napa Valley   United States   \n",
       "1                                   Sauternes          França   \n",
       "2                                   Champagne          France   \n",
       "3                  Recioto della Valpolicella           Italy   \n",
       "4                                    Jurançon          France   \n",
       "5                           Willamette Valley  Estados Unidos   \n",
       "6                                       Porto        Portugal   \n",
       "7                              Moscato d'Asti           Italy   \n",
       "8                                       Rioja         Espanha   \n",
       "9                                  Rutherford   United States   \n",
       "10                                  Sauternes          France   \n",
       "11                                      Porto        Portugal   \n",
       "12                                Napa Valley  Estados Unidos   \n",
       "13                                  Bourgogne          France   \n",
       "14                                    Vouvray          França   \n",
       "15  Chassagne-Montrachet 1er Cru 'La Romanée'          France   \n",
       "16                                  Champagne          France   \n",
       "17                                  Nierstein         Germany   \n",
       "18                                 Brauneberg         Germany   \n",
       "19                               Peloponnesos          Greece   \n",
       "\n",
       "                                      used_grapes  \\\n",
       "0      Cabernet Sauvignon; Pinot Noir; Chardonnay   \n",
       "1                  Pinot Noir; Chardonnay; Merlot   \n",
       "2                  Pinot Noir; Chardonnay; Merlot   \n",
       "3                  Sangiovese; Chardonnay; Merlot   \n",
       "4                  Pinot Noir; Chardonnay; Merlot   \n",
       "5      Cabernet Sauvignon; Pinot Noir; Chardonnay   \n",
       "6   Touriga Nacional; Tinta Roriz; Touriga Franca   \n",
       "7                  Sangiovese; Chardonnay; Merlot   \n",
       "8       Tempranillo; Garnacha; Cabernet Sauvignon   \n",
       "9      Cabernet Sauvignon; Pinot Noir; Chardonnay   \n",
       "10                 Pinot Noir; Chardonnay; Merlot   \n",
       "11  Touriga Nacional; Tinta Roriz; Touriga Franca   \n",
       "12     Cabernet Sauvignon; Pinot Noir; Chardonnay   \n",
       "13                 Pinot Noir; Chardonnay; Merlot   \n",
       "14                 Pinot Noir; Chardonnay; Merlot   \n",
       "15                 Pinot Noir; Chardonnay; Merlot   \n",
       "16                 Pinot Noir; Chardonnay; Merlot   \n",
       "17        Riesling; Spätburgunder; Weissburgunder   \n",
       "18        Riesling; Spätburgunder; Weissburgunder   \n",
       "19                 Merlot; Assyrtiko; Agiorgitiko   \n",
       "\n",
       "                                        relevant_food  \\\n",
       "0           Beef; Veal; Game (deer, venison); Poultry   \n",
       "1                  Sobremesas com frutas; Queijo azul   \n",
       "2   Pork; Rich fish (salmon, tuna etc); Shellfish;...   \n",
       "3                                                 NaN   \n",
       "4   Mature and hard cheese; Fruity desserts; Blue ...   \n",
       "5   Carne de vaca; Vitela; Carne de caça (cervo, v...   \n",
       "6                        Queijos maduros; Queijo azul   \n",
       "7                           Fruity desserts; Aperitif   \n",
       "8               Carne de vaca; Cordeiro; Vitela; Aves   \n",
       "9   Pork; Rich fish (salmon, tuna etc); Vegetarian...   \n",
       "10                       Fruity desserts; Blue cheese   \n",
       "11  Sweet desserts; Mature and hard cheese; Blue c...   \n",
       "12  Carne de vaca; Cordeiro; Carne de caça (cervo,...   \n",
       "13  Pasta; Rich fish (salmon, tuna etc); Shellfish...   \n",
       "14  Queijos maduros; Sobremesas com frutas; Queijo...   \n",
       "15  Pasta; Rich fish (salmon, tuna etc); Shellfish...   \n",
       "16  Pork; Rich fish (salmon, tuna etc); Shellfish;...   \n",
       "17   Pork; Shellfish; Spicy food; Poultry; Cured Meat   \n",
       "18   Pork; Shellfish; Spicy food; Poultry; Cured Meat   \n",
       "19                                                NaN   \n",
       "\n",
       "                                          top_flavors  \\\n",
       "0   vanilla; oak; cherry; butter; strawberry; rasp...   \n",
       "1   honey; apricot; peach; lemon; marmalade; orang...   \n",
       "2   citrus; brioche; cream; lemon; minerals; apple...   \n",
       "3   chocolate; raisin; plum; cherry; oak; caramel;...   \n",
       "4   apricot; honey; peach; pineapple; apple; citru...   \n",
       "5   cherry; raspberry; oak; strawberry; earthy; re...   \n",
       "6   raisin; chocolate; blackberry; plum; caramel; ...   \n",
       "7   peach; honey; pear; apple; citrus; lychee; lem...   \n",
       "8   oak; vanilla; cherry; leather; red fruit; plum...   \n",
       "9   oak; butter; cream; vanilla; citrus; pear; toa...   \n",
       "10  honey; apricot; caramel; peach; marmalade; ora...   \n",
       "11  caramel; raisin; honey; walnut; dried fruit; a...   \n",
       "12  oak; blackberry; vanilla; cherry; plum; chocol...   \n",
       "13  oak; butter; minerals; citrus; peach; apricot;...   \n",
       "14  honey; apple; apricot; minerals; pear; cheese;...   \n",
       "15  butter; oak; minerals; oil; citrus; cream; tro...   \n",
       "16  apple; brioche; citrus; toast; minerals; lemon...   \n",
       "17  honey; peach; pear; apple; lemon; citrus; mine...   \n",
       "18  honey; peach; pineapple; stone; stone fruit; m...   \n",
       "19  lemon; citrus; lime; stone; peach; minerals; p...   \n",
       "\n",
       "                                         vintage_name  ... currency_code  \\\n",
       "0                      Bread & Butter Pinot Noir 2022  ...           USD   \n",
       "1                         Château Liot Sauternes 2001  ...           USD   \n",
       "2   Billecart-Salmon Cuvée Louis Blanc de Blancs B...  ...           USD   \n",
       "3    Bussola Recioto Della Valpolicella Classico 2017  ...           USD   \n",
       "4              Château Jolys Cuvée Jean Jurançon 2016  ...           USD   \n",
       "5                         Kings Ridge Pinot Noir 2023  ...           USD   \n",
       "6                           Fonseca Vintage Port 1994  ...           USD   \n",
       "7                         Saracco Moscato d'Asti 2021  ...           USD   \n",
       "8                              Lan Crianza Rioja 2019  ...           USD   \n",
       "9                      Staglin Estate Chardonnay 2022  ...           USD   \n",
       "10  Château Suduiraut Sauternes (Premier Grand Cru...  ...           USD   \n",
       "11                         Barros Colheita Porto 2011  ...           USD   \n",
       "12       Duckhorn Napa Valley Cabernet Sauvignon 1985  ...           USD   \n",
       "13  Domaine Philippe Pernot-Belicard Chardonnay Bo...  ...           USD   \n",
       "14   Domaine Huet Vouvray Clos du Bourg Moelleux 2023  ...           USD   \n",
       "15  Château de La Maltroye Chassagne-Montrachet 1e...  ...           USD   \n",
       "16              Henriot Millésimé Brut Champagne 2012  ...           USD   \n",
       "17  Fritz Windisch Niersteiner Spiegelberg Rieslin...  ...           USD   \n",
       "18  Reichsgraf von Kesselstatt Juffer-Sonnenuhr Ri...  ...           USD   \n",
       "19     Gaía Monograph Moschofilero (Μοσχοφίλερο) 2024  ...           USD   \n",
       "\n",
       "   acidity intensity  sweetness  tannin fizziness  rating_avg  rating_count  \\\n",
       "0     3.25      2.92       1.81    2.01       NaN         4.0          8211   \n",
       "1     4.32      4.75       4.86     NaN       NaN         4.1            27   \n",
       "2     4.38      3.78        NaN     NaN      4.17         4.5           449   \n",
       "3      NaN       NaN        NaN     NaN       NaN         4.5           473   \n",
       "4     3.29      3.89       4.92     NaN       NaN         4.0           102   \n",
       "5     3.92      2.13       1.38    2.14       NaN         3.7          5894   \n",
       "6     2.88      4.37       4.72     NaN       NaN         4.6           180   \n",
       "7     2.69      2.53        NaN     NaN      1.09         4.1          1548   \n",
       "8     3.74      3.75       1.64    3.75       NaN         3.8          1407   \n",
       "9     2.75      4.78       2.44     NaN       NaN         4.3           577   \n",
       "10    4.33      4.74       4.87     NaN       NaN         4.3           538   \n",
       "11    3.02      4.55       4.54     NaN       NaN         4.2            42   \n",
       "12    3.37      4.68       1.63    3.28       NaN         4.3         44209   \n",
       "13    3.40      3.83       1.22     NaN       NaN         3.8           452   \n",
       "14    4.45      3.48       4.08     NaN       NaN         4.2          1254   \n",
       "15    3.14      4.04       1.76     NaN       NaN         4.3           290   \n",
       "16    4.44      4.06        NaN     NaN      4.31         4.2          1038   \n",
       "17    4.73      2.89       2.66     NaN       NaN         3.8           879   \n",
       "18    4.42      3.09       2.60     NaN       NaN         4.2           147   \n",
       "19     NaN       NaN        NaN     NaN       NaN         3.7          1605   \n",
       "\n",
       "                                           vivino_url  \\\n",
       "0   https://www.vivino.com/US/en/bread-and-butter-...   \n",
       "1   https://www.vivino.com/US/en/liot-sauternes/w/...   \n",
       "2   https://www.vivino.com/US/en/champagne-billeca...   \n",
       "3   https://www.vivino.com/US/en/tommaso-bussola-r...   \n",
       "4   https://www.vivino.com/US/en/chateau-jolys-cuv...   \n",
       "5   https://www.vivino.com/US/en/kings-ridge-pinot...   \n",
       "6   https://www.vivino.com/US/en/fonseca-guimaraen...   \n",
       "7   https://www.vivino.com/US/en/saracco-paolo-mos...   \n",
       "8   https://www.vivino.com/US/en/lan-crianza-rioja...   \n",
       "9   https://www.vivino.com/US/en/staglin-family-vi...   \n",
       "10  https://www.vivino.com/US/en/chateau-suduiraut...   \n",
       "11  https://www.vivino.com/US/en/barros-porto-colh...   \n",
       "12  https://www.vivino.com/US/en/duckhorn-napa-val...   \n",
       "13  https://www.vivino.com/US/en/pernot-belicard-c...   \n",
       "14  https://www.vivino.com/US/en/domaine-huet-vouv...   \n",
       "15  https://www.vivino.com/US/en/chateau-de-la-mal...   \n",
       "16  https://www.vivino.com/US/en/champagne-henriot...   \n",
       "17  https://www.vivino.com/US/en/fritz-windisch-ni...   \n",
       "18  https://www.vivino.com/US/en/reichsgraf-von-ke...   \n",
       "19  https://www.vivino.com/US/en/gaia-nemea-monogr...   \n",
       "\n",
       "                                          description  \n",
       "0   Pinot Noir has the well deserved reputation of...  \n",
       "1                                                 NaN  \n",
       "2   While there are many sparkling wine regions ar...  \n",
       "3                                                 NaN  \n",
       "4                                                 NaN  \n",
       "5   Light to medium-bodied, Oregon Pinot is more f...  \n",
       "6                                                 NaN  \n",
       "7   The light, slightly sweet wines of Moscato d'A...  \n",
       "8   Rioja is one Spain's most famous wine regions ...  \n",
       "9                                                 NaN  \n",
       "10                                                NaN  \n",
       "11                                                NaN  \n",
       "12                                                NaN  \n",
       "13  White Burgundy, or Bourgogne Blanc, as it is o...  \n",
       "14                                                NaN  \n",
       "15                                                NaN  \n",
       "16  While there are many sparkling wine regions ar...  \n",
       "17  Riesling is without question Germany's favorit...  \n",
       "18  Riesling is without question Germany's favorit...  \n",
       "19                                                NaN  \n",
       "\n",
       "[20 rows x 25 columns]"
      ]
     },
     "execution_count": 14,
     "metadata": {},
     "output_type": "execute_result"
    }
   ],
   "source": [
    "df"
   ]
  },
  {
   "cell_type": "code",
   "execution_count": null,
   "id": "1991945c-ddf9-458b-a7cb-a7df196d87a1",
   "metadata": {},
   "outputs": [],
   "source": []
  }
 ],
 "metadata": {
  "kernelspec": {
   "display_name": "llm_zoomcamp_project2",
   "language": "python",
   "name": "llm_zoomcamp_project2"
  },
  "language_info": {
   "codemirror_mode": {
    "name": "ipython",
    "version": 3
   },
   "file_extension": ".py",
   "mimetype": "text/x-python",
   "name": "python",
   "nbconvert_exporter": "python",
   "pygments_lexer": "ipython3",
   "version": "3.11.9"
  }
 },
 "nbformat": 4,
 "nbformat_minor": 5
}
