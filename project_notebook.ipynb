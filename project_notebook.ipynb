{
 "cells": [
  {
   "cell_type": "markdown",
   "id": "43e589a1-2e8f-48aa-9710-d624624c61d3",
   "metadata": {},
   "source": [
    "# Dataset"
   ]
  },
  {
   "cell_type": "code",
   "execution_count": 1,
   "id": "4fd56b76-1b41-47da-a344-91f9ddf5680b",
   "metadata": {},
   "outputs": [],
   "source": [
    "import json\n",
    "import pandas as pd\n",
    "pd.set_option('display.float_format', lambda x: f'{x:.2f}' if isinstance(x, float) else x)\n",
    "pd.set_option('display.max_columns', None)\n",
    "pd.set_option('display.max_rows', 20)\n"
   ]
  },
  {
   "cell_type": "code",
   "execution_count": 2,
   "id": "ecda9f65-53d0-4a15-87a3-43b701c98764",
   "metadata": {},
   "outputs": [
    {
     "data": {
      "text/html": [
       "<div>\n",
       "<style scoped>\n",
       "    .dataframe tbody tr th:only-of-type {\n",
       "        vertical-align: middle;\n",
       "    }\n",
       "\n",
       "    .dataframe tbody tr th {\n",
       "        vertical-align: top;\n",
       "    }\n",
       "\n",
       "    .dataframe thead th {\n",
       "        text-align: right;\n",
       "    }\n",
       "</style>\n",
       "<table border=\"1\" class=\"dataframe\">\n",
       "  <thead>\n",
       "    <tr style=\"text-align: right;\">\n",
       "      <th></th>\n",
       "      <th>wine_id</th>\n",
       "      <th>vintage_id</th>\n",
       "      <th>wine_type</th>\n",
       "      <th>region_id</th>\n",
       "      <th>region_name</th>\n",
       "      <th>country_name</th>\n",
       "      <th>used_grapes</th>\n",
       "      <th>relevant_food</th>\n",
       "      <th>top_flavors</th>\n",
       "      <th>vintage_name</th>\n",
       "      <th>wine_name</th>\n",
       "      <th>varietal_name</th>\n",
       "      <th>style_name</th>\n",
       "      <th>year</th>\n",
       "      <th>price</th>\n",
       "      <th>currency_code</th>\n",
       "      <th>acidity</th>\n",
       "      <th>intensity</th>\n",
       "      <th>sweetness</th>\n",
       "      <th>tannin</th>\n",
       "      <th>fizziness</th>\n",
       "      <th>rating_avg</th>\n",
       "      <th>rating_count</th>\n",
       "      <th>vivino_url</th>\n",
       "      <th>style_description</th>\n",
       "    </tr>\n",
       "  </thead>\n",
       "  <tbody>\n",
       "    <tr>\n",
       "      <th>0</th>\n",
       "      <td>1122095</td>\n",
       "      <td>164942645</td>\n",
       "      <td>Rose</td>\n",
       "      <td>409.00</td>\n",
       "      <td>Champagne</td>\n",
       "      <td>France</td>\n",
       "      <td>Pinot Noir; Chardonnay; Merlot</td>\n",
       "      <td>Pork; Rich fish (salmon, tuna etc); Shellfish;...</td>\n",
       "      <td>citrus; green apple; pear; apple; toast; brioc...</td>\n",
       "      <td>Moët &amp; Chandon Impérial Brut Champagne</td>\n",
       "      <td>Impérial Brut Champagne</td>\n",
       "      <td>Champagne</td>\n",
       "      <td>French Champagne</td>\n",
       "      <td>NaN</td>\n",
       "      <td>29.99</td>\n",
       "      <td>USD</td>\n",
       "      <td>4.21</td>\n",
       "      <td>3.76</td>\n",
       "      <td>NaN</td>\n",
       "      <td>NaN</td>\n",
       "      <td>4.28</td>\n",
       "      <td>4.10</td>\n",
       "      <td>136529</td>\n",
       "      <td>https://www.vivino.com/US/en/moet-chandon-impe...</td>\n",
       "      <td>While there are many sparkling wine regions ar...</td>\n",
       "    </tr>\n",
       "    <tr>\n",
       "      <th>1</th>\n",
       "      <td>1178210</td>\n",
       "      <td>1561557</td>\n",
       "      <td>Rose</td>\n",
       "      <td>409.00</td>\n",
       "      <td>Champagne</td>\n",
       "      <td>France</td>\n",
       "      <td>Pinot Noir; Chardonnay; Merlot</td>\n",
       "      <td>Pork; Rich fish (salmon, tuna etc); Shellfish;...</td>\n",
       "      <td>apple; citrus; brioche; green apple; toast; pe...</td>\n",
       "      <td>Pommery Royal Brut Champagne</td>\n",
       "      <td>Royal Brut Champagne</td>\n",
       "      <td>Champagne</td>\n",
       "      <td>French Champagne</td>\n",
       "      <td>NaN</td>\n",
       "      <td>29.99</td>\n",
       "      <td>USD</td>\n",
       "      <td>4.15</td>\n",
       "      <td>3.66</td>\n",
       "      <td>NaN</td>\n",
       "      <td>NaN</td>\n",
       "      <td>4.23</td>\n",
       "      <td>3.90</td>\n",
       "      <td>39101</td>\n",
       "      <td>https://www.vivino.com/US/en/pommery-royal-bru...</td>\n",
       "      <td>While there are many sparkling wine regions ar...</td>\n",
       "    </tr>\n",
       "    <tr>\n",
       "      <th>2</th>\n",
       "      <td>6363154</td>\n",
       "      <td>157213587</td>\n",
       "      <td>Rose</td>\n",
       "      <td>4623.00</td>\n",
       "      <td>Champagne Grand Cru 'Chouilly'</td>\n",
       "      <td>France</td>\n",
       "      <td>Pinot Noir; Chardonnay; Merlot</td>\n",
       "      <td>Pork; Rich fish (salmon, tuna etc); Shellfish;...</td>\n",
       "      <td>apple; citrus; pear; brioche; green apple; toa...</td>\n",
       "      <td>Nicolas Feuillatte Réserve Exclusive Brut Cham...</td>\n",
       "      <td>Réserve Exclusive Brut Champagne</td>\n",
       "      <td>Champagne</td>\n",
       "      <td>French Champagne</td>\n",
       "      <td>NaN</td>\n",
       "      <td>30.00</td>\n",
       "      <td>USD</td>\n",
       "      <td>4.25</td>\n",
       "      <td>3.66</td>\n",
       "      <td>NaN</td>\n",
       "      <td>NaN</td>\n",
       "      <td>4.28</td>\n",
       "      <td>3.90</td>\n",
       "      <td>27382</td>\n",
       "      <td>https://www.vivino.com/US/en/nicolas-feuillatt...</td>\n",
       "      <td>While there are many sparkling wine regions ar...</td>\n",
       "    </tr>\n",
       "    <tr>\n",
       "      <th>3</th>\n",
       "      <td>1134756</td>\n",
       "      <td>1471106</td>\n",
       "      <td>Rose</td>\n",
       "      <td>3233.00</td>\n",
       "      <td>Prosecco di Treviso</td>\n",
       "      <td>Italy</td>\n",
       "      <td>Sangiovese; Chardonnay; Merlot</td>\n",
       "      <td>Shellfish; Vegetarian; Appetizers and snacks; ...</td>\n",
       "      <td>pear; apple; citrus; green apple; lemon; honey...</td>\n",
       "      <td>La Gioiosa Prosecco Treviso</td>\n",
       "      <td>Prosecco Treviso</td>\n",
       "      <td>Prosecco</td>\n",
       "      <td>Italian Prosecco</td>\n",
       "      <td>NaN</td>\n",
       "      <td>19.67</td>\n",
       "      <td>USD</td>\n",
       "      <td>3.67</td>\n",
       "      <td>2.07</td>\n",
       "      <td>NaN</td>\n",
       "      <td>NaN</td>\n",
       "      <td>3.72</td>\n",
       "      <td>3.70</td>\n",
       "      <td>17190</td>\n",
       "      <td>https://www.vivino.com/US/en/la-gioiosa-prosec...</td>\n",
       "      <td>A beautiful, somewhat less popular, and often ...</td>\n",
       "    </tr>\n",
       "    <tr>\n",
       "      <th>4</th>\n",
       "      <td>1117594</td>\n",
       "      <td>1518502</td>\n",
       "      <td>Rose</td>\n",
       "      <td>724.00</td>\n",
       "      <td>Crémant de Bourgogne</td>\n",
       "      <td>France</td>\n",
       "      <td>Pinot Noir; Chardonnay; Merlot</td>\n",
       "      <td>Shellfish; Poultry; Appetizers and snacks; Lea...</td>\n",
       "      <td>citrus; minerals; apple; green apple; lemon; g...</td>\n",
       "      <td>Domaine Les Temps Perdus - Clotilde Davenne Cr...</td>\n",
       "      <td>Crémant de Bourgogne Brut Extra</td>\n",
       "      <td>Cremant</td>\n",
       "      <td>French Crémant</td>\n",
       "      <td>NaN</td>\n",
       "      <td>27.99</td>\n",
       "      <td>USD</td>\n",
       "      <td>3.67</td>\n",
       "      <td>3.24</td>\n",
       "      <td>NaN</td>\n",
       "      <td>NaN</td>\n",
       "      <td>3.85</td>\n",
       "      <td>3.80</td>\n",
       "      <td>15736</td>\n",
       "      <td>https://www.vivino.com/US/en/clotilde-davenne-...</td>\n",
       "      <td>NaN</td>\n",
       "    </tr>\n",
       "  </tbody>\n",
       "</table>\n",
       "</div>"
      ],
      "text/plain": [
       "   wine_id  vintage_id wine_type  region_id                     region_name  \\\n",
       "0  1122095   164942645      Rose     409.00                       Champagne   \n",
       "1  1178210     1561557      Rose     409.00                       Champagne   \n",
       "2  6363154   157213587      Rose    4623.00  Champagne Grand Cru 'Chouilly'   \n",
       "3  1134756     1471106      Rose    3233.00             Prosecco di Treviso   \n",
       "4  1117594     1518502      Rose     724.00            Crémant de Bourgogne   \n",
       "\n",
       "  country_name                     used_grapes  \\\n",
       "0       France  Pinot Noir; Chardonnay; Merlot   \n",
       "1       France  Pinot Noir; Chardonnay; Merlot   \n",
       "2       France  Pinot Noir; Chardonnay; Merlot   \n",
       "3        Italy  Sangiovese; Chardonnay; Merlot   \n",
       "4       France  Pinot Noir; Chardonnay; Merlot   \n",
       "\n",
       "                                       relevant_food  \\\n",
       "0  Pork; Rich fish (salmon, tuna etc); Shellfish;...   \n",
       "1  Pork; Rich fish (salmon, tuna etc); Shellfish;...   \n",
       "2  Pork; Rich fish (salmon, tuna etc); Shellfish;...   \n",
       "3  Shellfish; Vegetarian; Appetizers and snacks; ...   \n",
       "4  Shellfish; Poultry; Appetizers and snacks; Lea...   \n",
       "\n",
       "                                         top_flavors  \\\n",
       "0  citrus; green apple; pear; apple; toast; brioc...   \n",
       "1  apple; citrus; brioche; green apple; toast; pe...   \n",
       "2  apple; citrus; pear; brioche; green apple; toa...   \n",
       "3  pear; apple; citrus; green apple; lemon; honey...   \n",
       "4  citrus; minerals; apple; green apple; lemon; g...   \n",
       "\n",
       "                                        vintage_name  \\\n",
       "0             Moët & Chandon Impérial Brut Champagne   \n",
       "1                       Pommery Royal Brut Champagne   \n",
       "2  Nicolas Feuillatte Réserve Exclusive Brut Cham...   \n",
       "3                        La Gioiosa Prosecco Treviso   \n",
       "4  Domaine Les Temps Perdus - Clotilde Davenne Cr...   \n",
       "\n",
       "                          wine_name varietal_name        style_name  year  \\\n",
       "0           Impérial Brut Champagne     Champagne  French Champagne   NaN   \n",
       "1              Royal Brut Champagne     Champagne  French Champagne   NaN   \n",
       "2  Réserve Exclusive Brut Champagne     Champagne  French Champagne   NaN   \n",
       "3                  Prosecco Treviso      Prosecco  Italian Prosecco   NaN   \n",
       "4   Crémant de Bourgogne Brut Extra       Cremant    French Crémant   NaN   \n",
       "\n",
       "   price currency_code  acidity  intensity  sweetness  tannin  fizziness  \\\n",
       "0  29.99           USD     4.21       3.76        NaN     NaN       4.28   \n",
       "1  29.99           USD     4.15       3.66        NaN     NaN       4.23   \n",
       "2  30.00           USD     4.25       3.66        NaN     NaN       4.28   \n",
       "3  19.67           USD     3.67       2.07        NaN     NaN       3.72   \n",
       "4  27.99           USD     3.67       3.24        NaN     NaN       3.85   \n",
       "\n",
       "   rating_avg  rating_count  \\\n",
       "0        4.10        136529   \n",
       "1        3.90         39101   \n",
       "2        3.90         27382   \n",
       "3        3.70         17190   \n",
       "4        3.80         15736   \n",
       "\n",
       "                                          vivino_url  \\\n",
       "0  https://www.vivino.com/US/en/moet-chandon-impe...   \n",
       "1  https://www.vivino.com/US/en/pommery-royal-bru...   \n",
       "2  https://www.vivino.com/US/en/nicolas-feuillatt...   \n",
       "3  https://www.vivino.com/US/en/la-gioiosa-prosec...   \n",
       "4  https://www.vivino.com/US/en/clotilde-davenne-...   \n",
       "\n",
       "                                   style_description  \n",
       "0  While there are many sparkling wine regions ar...  \n",
       "1  While there are many sparkling wine regions ar...  \n",
       "2  While there are many sparkling wine regions ar...  \n",
       "3  A beautiful, somewhat less popular, and often ...  \n",
       "4                                                NaN  "
      ]
     },
     "execution_count": 2,
     "metadata": {},
     "output_type": "execute_result"
    }
   ],
   "source": [
    "df = pd.read_csv('data/wines.csv')\n",
    "df.head()"
   ]
  },
  {
   "cell_type": "code",
   "execution_count": 3,
   "id": "b70398f2",
   "metadata": {},
   "outputs": [
    {
     "data": {
      "text/plain": [
       "{'wine_id': 1122095,\n",
       " 'vintage_id': 164942645,\n",
       " 'wine_type': 'Rose',\n",
       " 'region_id': 409.0,\n",
       " 'region_name': 'Champagne',\n",
       " 'country_name': 'France',\n",
       " 'used_grapes': 'Pinot Noir; Chardonnay; Merlot',\n",
       " 'relevant_food': 'Pork; Rich fish (salmon, tuna etc); Shellfish; Mild and soft cheese',\n",
       " 'top_flavors': 'citrus; green apple; pear; apple; toast; brioche; lemon; yeast; cream; honey',\n",
       " 'vintage_name': 'Moët & Chandon Impérial Brut Champagne',\n",
       " 'wine_name': 'Impérial Brut Champagne',\n",
       " 'varietal_name': 'Champagne',\n",
       " 'style_name': 'French Champagne',\n",
       " 'year': nan,\n",
       " 'price': 29.99,\n",
       " 'currency_code': 'USD',\n",
       " 'acidity': 4.21,\n",
       " 'intensity': 3.76,\n",
       " 'sweetness': nan,\n",
       " 'tannin': nan,\n",
       " 'fizziness': 4.28,\n",
       " 'rating_avg': 4.1,\n",
       " 'rating_count': 136529,\n",
       " 'vivino_url': 'https://www.vivino.com/US/en/moet-chandon-imperial-brut-champagne/w/1122095',\n",
       " 'style_description': \"While there are many sparkling wine regions around the globe, only Champagne from the Champagne appellation in France can be labeled as such.\\xa0\\n\\nChampagne has long been the wine of choice to celebrate special occasions, and its reputation as a luxury beverage has been intact since the Romans established vineyards in Reims in the 5th century (that's a really long time ago).\\xa0\\n\\nSparkling Champagne wasn't discovered until the 16th century, by accident, by the Benedictine Monks. Early vintages of Champagne were dubbed “the devil's wine” because the bottles tended to explode. Improvements to both bottle and cork developed over hundreds of years.\\xa0\\n\\nChampagne is mainly made from a blend of Chardonnay, Pinot Noir, and Pinot Meunier grapes, and most of it is produced as a non-vintage wine, meaning that it's a blend of several vintages. Generally speaking, non-vintage Champagne is fantastic, and tends to be less expensive than vintage Champagne—this is because a vintage year is only declared when growing conditions are especially favorable.\\xa0\\n\\nThe convivial nature of Champagne is due in part to how it's made. Following primary fermentation and bottling, a secondary alcoholic fermentation is induced in the bottle, which is achieved by the addition of yeast and rock sugar. The bubbles we love so much are a natural byproduct of this magical secondary fermentation, in the form of carbon dioxide.\"}"
      ]
     },
     "execution_count": 3,
     "metadata": {},
     "output_type": "execute_result"
    }
   ],
   "source": [
    "df.loc[0].to_dict()"
   ]
  },
  {
   "cell_type": "markdown",
   "id": "329699b9",
   "metadata": {},
   "source": [
    "## Data analysis"
   ]
  },
  {
   "cell_type": "markdown",
   "id": "8c514d3c",
   "metadata": {},
   "source": [
    "First let's delete irrelevant fields"
   ]
  },
  {
   "cell_type": "code",
   "execution_count": 4,
   "id": "3b3d09e3",
   "metadata": {},
   "outputs": [],
   "source": [
    "relevant_fields = [\n",
    "    \"vintage_id\",\n",
    "    \"wine_name\",\n",
    "    \"vintage_name\",\n",
    "    \"varietal_name\",\n",
    "    \"country_name\",\n",
    "    \"region_name\",\n",
    "    \"wine_type\",\n",
    "    \"year\",\n",
    "    \"top_flavors\",\n",
    "    \"relevant_food\",\n",
    "    \"price\",\n",
    "    \"currency_code\",\n",
    "    \"sweetness\",\n",
    "    \"acidity\",\n",
    "    \"intensity\",\n",
    "    \"tannin\",\n",
    "    \"fizziness\",\n",
    "    \"rating_avg\",\n",
    "    \"rating_count\",\n",
    "    \"vivino_url\"\n",
    "]\n",
    "\n",
    "df = df[relevant_fields]"
   ]
  },
  {
   "cell_type": "code",
   "execution_count": 5,
   "id": "78732e8b",
   "metadata": {},
   "outputs": [
    {
     "data": {
      "text/html": [
       "<div>\n",
       "<style scoped>\n",
       "    .dataframe tbody tr th:only-of-type {\n",
       "        vertical-align: middle;\n",
       "    }\n",
       "\n",
       "    .dataframe tbody tr th {\n",
       "        vertical-align: top;\n",
       "    }\n",
       "\n",
       "    .dataframe thead th {\n",
       "        text-align: right;\n",
       "    }\n",
       "</style>\n",
       "<table border=\"1\" class=\"dataframe\">\n",
       "  <thead>\n",
       "    <tr style=\"text-align: right;\">\n",
       "      <th></th>\n",
       "      <th>vintage_id</th>\n",
       "      <th>wine_name</th>\n",
       "      <th>vintage_name</th>\n",
       "      <th>varietal_name</th>\n",
       "      <th>country_name</th>\n",
       "      <th>region_name</th>\n",
       "      <th>wine_type</th>\n",
       "      <th>year</th>\n",
       "      <th>top_flavors</th>\n",
       "      <th>relevant_food</th>\n",
       "      <th>price</th>\n",
       "      <th>currency_code</th>\n",
       "      <th>sweetness</th>\n",
       "      <th>acidity</th>\n",
       "      <th>intensity</th>\n",
       "      <th>tannin</th>\n",
       "      <th>fizziness</th>\n",
       "      <th>rating_avg</th>\n",
       "      <th>rating_count</th>\n",
       "      <th>vivino_url</th>\n",
       "    </tr>\n",
       "  </thead>\n",
       "  <tbody>\n",
       "    <tr>\n",
       "      <th>0</th>\n",
       "      <td>164942645</td>\n",
       "      <td>Impérial Brut Champagne</td>\n",
       "      <td>Moët &amp; Chandon Impérial Brut Champagne</td>\n",
       "      <td>Champagne</td>\n",
       "      <td>France</td>\n",
       "      <td>Champagne</td>\n",
       "      <td>Rose</td>\n",
       "      <td>NaN</td>\n",
       "      <td>citrus; green apple; pear; apple; toast; brioc...</td>\n",
       "      <td>Pork; Rich fish (salmon, tuna etc); Shellfish;...</td>\n",
       "      <td>29.99</td>\n",
       "      <td>USD</td>\n",
       "      <td>NaN</td>\n",
       "      <td>4.21</td>\n",
       "      <td>3.76</td>\n",
       "      <td>NaN</td>\n",
       "      <td>4.28</td>\n",
       "      <td>4.10</td>\n",
       "      <td>136529</td>\n",
       "      <td>https://www.vivino.com/US/en/moet-chandon-impe...</td>\n",
       "    </tr>\n",
       "    <tr>\n",
       "      <th>1</th>\n",
       "      <td>1561557</td>\n",
       "      <td>Royal Brut Champagne</td>\n",
       "      <td>Pommery Royal Brut Champagne</td>\n",
       "      <td>Champagne</td>\n",
       "      <td>France</td>\n",
       "      <td>Champagne</td>\n",
       "      <td>Rose</td>\n",
       "      <td>NaN</td>\n",
       "      <td>apple; citrus; brioche; green apple; toast; pe...</td>\n",
       "      <td>Pork; Rich fish (salmon, tuna etc); Shellfish;...</td>\n",
       "      <td>29.99</td>\n",
       "      <td>USD</td>\n",
       "      <td>NaN</td>\n",
       "      <td>4.15</td>\n",
       "      <td>3.66</td>\n",
       "      <td>NaN</td>\n",
       "      <td>4.23</td>\n",
       "      <td>3.90</td>\n",
       "      <td>39101</td>\n",
       "      <td>https://www.vivino.com/US/en/pommery-royal-bru...</td>\n",
       "    </tr>\n",
       "    <tr>\n",
       "      <th>2</th>\n",
       "      <td>157213587</td>\n",
       "      <td>Réserve Exclusive Brut Champagne</td>\n",
       "      <td>Nicolas Feuillatte Réserve Exclusive Brut Cham...</td>\n",
       "      <td>Champagne</td>\n",
       "      <td>France</td>\n",
       "      <td>Champagne Grand Cru 'Chouilly'</td>\n",
       "      <td>Rose</td>\n",
       "      <td>NaN</td>\n",
       "      <td>apple; citrus; pear; brioche; green apple; toa...</td>\n",
       "      <td>Pork; Rich fish (salmon, tuna etc); Shellfish;...</td>\n",
       "      <td>30.00</td>\n",
       "      <td>USD</td>\n",
       "      <td>NaN</td>\n",
       "      <td>4.25</td>\n",
       "      <td>3.66</td>\n",
       "      <td>NaN</td>\n",
       "      <td>4.28</td>\n",
       "      <td>3.90</td>\n",
       "      <td>27382</td>\n",
       "      <td>https://www.vivino.com/US/en/nicolas-feuillatt...</td>\n",
       "    </tr>\n",
       "    <tr>\n",
       "      <th>3</th>\n",
       "      <td>1471106</td>\n",
       "      <td>Prosecco Treviso</td>\n",
       "      <td>La Gioiosa Prosecco Treviso</td>\n",
       "      <td>Prosecco</td>\n",
       "      <td>Italy</td>\n",
       "      <td>Prosecco di Treviso</td>\n",
       "      <td>Rose</td>\n",
       "      <td>NaN</td>\n",
       "      <td>pear; apple; citrus; green apple; lemon; honey...</td>\n",
       "      <td>Shellfish; Vegetarian; Appetizers and snacks; ...</td>\n",
       "      <td>19.67</td>\n",
       "      <td>USD</td>\n",
       "      <td>NaN</td>\n",
       "      <td>3.67</td>\n",
       "      <td>2.07</td>\n",
       "      <td>NaN</td>\n",
       "      <td>3.72</td>\n",
       "      <td>3.70</td>\n",
       "      <td>17190</td>\n",
       "      <td>https://www.vivino.com/US/en/la-gioiosa-prosec...</td>\n",
       "    </tr>\n",
       "    <tr>\n",
       "      <th>4</th>\n",
       "      <td>1518502</td>\n",
       "      <td>Crémant de Bourgogne Brut Extra</td>\n",
       "      <td>Domaine Les Temps Perdus - Clotilde Davenne Cr...</td>\n",
       "      <td>Cremant</td>\n",
       "      <td>France</td>\n",
       "      <td>Crémant de Bourgogne</td>\n",
       "      <td>Rose</td>\n",
       "      <td>NaN</td>\n",
       "      <td>citrus; minerals; apple; green apple; lemon; g...</td>\n",
       "      <td>Shellfish; Poultry; Appetizers and snacks; Lea...</td>\n",
       "      <td>27.99</td>\n",
       "      <td>USD</td>\n",
       "      <td>NaN</td>\n",
       "      <td>3.67</td>\n",
       "      <td>3.24</td>\n",
       "      <td>NaN</td>\n",
       "      <td>3.85</td>\n",
       "      <td>3.80</td>\n",
       "      <td>15736</td>\n",
       "      <td>https://www.vivino.com/US/en/clotilde-davenne-...</td>\n",
       "    </tr>\n",
       "  </tbody>\n",
       "</table>\n",
       "</div>"
      ],
      "text/plain": [
       "   vintage_id                         wine_name  \\\n",
       "0   164942645           Impérial Brut Champagne   \n",
       "1     1561557              Royal Brut Champagne   \n",
       "2   157213587  Réserve Exclusive Brut Champagne   \n",
       "3     1471106                  Prosecco Treviso   \n",
       "4     1518502   Crémant de Bourgogne Brut Extra   \n",
       "\n",
       "                                        vintage_name varietal_name  \\\n",
       "0             Moët & Chandon Impérial Brut Champagne     Champagne   \n",
       "1                       Pommery Royal Brut Champagne     Champagne   \n",
       "2  Nicolas Feuillatte Réserve Exclusive Brut Cham...     Champagne   \n",
       "3                        La Gioiosa Prosecco Treviso      Prosecco   \n",
       "4  Domaine Les Temps Perdus - Clotilde Davenne Cr...       Cremant   \n",
       "\n",
       "  country_name                     region_name wine_type  year  \\\n",
       "0       France                       Champagne      Rose   NaN   \n",
       "1       France                       Champagne      Rose   NaN   \n",
       "2       France  Champagne Grand Cru 'Chouilly'      Rose   NaN   \n",
       "3        Italy             Prosecco di Treviso      Rose   NaN   \n",
       "4       France            Crémant de Bourgogne      Rose   NaN   \n",
       "\n",
       "                                         top_flavors  \\\n",
       "0  citrus; green apple; pear; apple; toast; brioc...   \n",
       "1  apple; citrus; brioche; green apple; toast; pe...   \n",
       "2  apple; citrus; pear; brioche; green apple; toa...   \n",
       "3  pear; apple; citrus; green apple; lemon; honey...   \n",
       "4  citrus; minerals; apple; green apple; lemon; g...   \n",
       "\n",
       "                                       relevant_food  price currency_code  \\\n",
       "0  Pork; Rich fish (salmon, tuna etc); Shellfish;...  29.99           USD   \n",
       "1  Pork; Rich fish (salmon, tuna etc); Shellfish;...  29.99           USD   \n",
       "2  Pork; Rich fish (salmon, tuna etc); Shellfish;...  30.00           USD   \n",
       "3  Shellfish; Vegetarian; Appetizers and snacks; ...  19.67           USD   \n",
       "4  Shellfish; Poultry; Appetizers and snacks; Lea...  27.99           USD   \n",
       "\n",
       "   sweetness  acidity  intensity  tannin  fizziness  rating_avg  rating_count  \\\n",
       "0        NaN     4.21       3.76     NaN       4.28        4.10        136529   \n",
       "1        NaN     4.15       3.66     NaN       4.23        3.90         39101   \n",
       "2        NaN     4.25       3.66     NaN       4.28        3.90         27382   \n",
       "3        NaN     3.67       2.07     NaN       3.72        3.70         17190   \n",
       "4        NaN     3.67       3.24     NaN       3.85        3.80         15736   \n",
       "\n",
       "                                          vivino_url  \n",
       "0  https://www.vivino.com/US/en/moet-chandon-impe...  \n",
       "1  https://www.vivino.com/US/en/pommery-royal-bru...  \n",
       "2  https://www.vivino.com/US/en/nicolas-feuillatt...  \n",
       "3  https://www.vivino.com/US/en/la-gioiosa-prosec...  \n",
       "4  https://www.vivino.com/US/en/clotilde-davenne-...  "
      ]
     },
     "execution_count": 5,
     "metadata": {},
     "output_type": "execute_result"
    }
   ],
   "source": [
    "df.head()"
   ]
  },
  {
   "cell_type": "markdown",
   "id": "3cb554f4",
   "metadata": {},
   "source": [
    "Now let's normilize the data, so it would be easily queriable"
   ]
  },
  {
   "cell_type": "markdown",
   "id": "1b022c30",
   "metadata": {
    "jp-MarkdownHeadingCollapsed": true
   },
   "source": [
    "### Prices"
   ]
  },
  {
   "cell_type": "code",
   "execution_count": 6,
   "id": "c7cbd974",
   "metadata": {},
   "outputs": [
    {
     "data": {
      "text/plain": [
       "count     7112\n",
       "unique       1\n",
       "top        USD\n",
       "freq      7112\n",
       "Name: currency_code, dtype: object"
      ]
     },
     "execution_count": 6,
     "metadata": {},
     "output_type": "execute_result"
    }
   ],
   "source": [
    "df['currency_code'].describe() "
   ]
  },
  {
   "cell_type": "markdown",
   "id": "8bebe734",
   "metadata": {},
   "source": [
    "All prices are in dollars, so we can just drop that field"
   ]
  },
  {
   "cell_type": "code",
   "execution_count": 7,
   "id": "a1d4fdda",
   "metadata": {},
   "outputs": [],
   "source": [
    "del df['currency_code']"
   ]
  },
  {
   "cell_type": "markdown",
   "id": "7ca6f377",
   "metadata": {
    "jp-MarkdownHeadingCollapsed": true
   },
   "source": [
    "### Year"
   ]
  },
  {
   "cell_type": "code",
   "execution_count": 8,
   "id": "251fd89b",
   "metadata": {},
   "outputs": [
    {
     "data": {
      "text/plain": [
       "count   5874.00\n",
       "mean    2016.87\n",
       "std       10.97\n",
       "min     1924.00\n",
       "25%     2017.00\n",
       "50%     2021.00\n",
       "75%     2023.00\n",
       "max     2024.00\n",
       "Name: year, dtype: float64"
      ]
     },
     "execution_count": 8,
     "metadata": {},
     "output_type": "execute_result"
    }
   ],
   "source": [
    "df['year'].describe() "
   ]
  },
  {
   "cell_type": "code",
   "execution_count": 9,
   "id": "d320ed53",
   "metadata": {},
   "outputs": [
    {
     "data": {
      "text/plain": [
       "1238"
      ]
     },
     "execution_count": 9,
     "metadata": {},
     "output_type": "execute_result"
    }
   ],
   "source": [
    "int(df['year'].isnull().sum())"
   ]
  },
  {
   "cell_type": "markdown",
   "id": "7e6bb446",
   "metadata": {},
   "source": [
    "Let's delete all the wines that don't have year"
   ]
  },
  {
   "cell_type": "code",
   "execution_count": 10,
   "id": "c9fb7409",
   "metadata": {},
   "outputs": [
    {
     "name": "stdout",
     "output_type": "stream",
     "text": [
      "Total rows before dropping nans: 7112\n",
      "Total rows after dropping nans: 5874\n"
     ]
    }
   ],
   "source": [
    "# drop nans if year is nan\n",
    "print(f\"Total rows before dropping nans: {len(df)}\")\n",
    "df = df.dropna(subset=['year'])\n",
    "print(f\"Total rows after dropping nans: {len(df)}\")"
   ]
  },
  {
   "cell_type": "markdown",
   "id": "73fbad7f",
   "metadata": {},
   "source": [
    "Let's also turn year into integer"
   ]
  },
  {
   "cell_type": "code",
   "execution_count": 11,
   "id": "ee0ba06f",
   "metadata": {},
   "outputs": [],
   "source": [
    "# Let's also turn year into integer\n",
    "df['year'] = df['year'].astype(int)"
   ]
  },
  {
   "cell_type": "markdown",
   "id": "680dfb4c",
   "metadata": {
    "jp-MarkdownHeadingCollapsed": true
   },
   "source": [
    "### Wines types and styles"
   ]
  },
  {
   "cell_type": "code",
   "execution_count": 12,
   "id": "17633e06",
   "metadata": {},
   "outputs": [],
   "source": [
    "types_and_styles_columns = [\n",
    "    \"wine_type\",\n",
    "    \"varietal_name\"\n",
    "]"
   ]
  },
  {
   "cell_type": "code",
   "execution_count": 13,
   "id": "84de0ad5",
   "metadata": {},
   "outputs": [
    {
     "data": {
      "text/plain": [
       "wine_type\n",
       "White        2103\n",
       "Red          1758\n",
       "Dessert       662\n",
       "Sparkling     617\n",
       "Rose          453\n",
       "Fortified     281\n",
       "Name: count, dtype: int64"
      ]
     },
     "execution_count": 13,
     "metadata": {},
     "output_type": "execute_result"
    }
   ],
   "source": [
    "df['wine_type'].value_counts()"
   ]
  },
  {
   "cell_type": "code",
   "execution_count": 14,
   "id": "a08d0817",
   "metadata": {},
   "outputs": [
    {
     "data": {
      "text/plain": [
       "varietal_name\n",
       "Rosé                  541\n",
       "Chardonnay            528\n",
       "White                 454\n",
       "Cabernet Sauvignon    427\n",
       "Sauternes             278\n",
       "                     ... \n",
       "Priorat tinto           1\n",
       "Moulis-en-Médoc         1\n",
       "Listrac-Médoc           1\n",
       "Grauburgunder           1\n",
       "Douro Red               1\n",
       "Name: count, Length: 162, dtype: int64"
      ]
     },
     "execution_count": 14,
     "metadata": {},
     "output_type": "execute_result"
    }
   ],
   "source": [
    "df['varietal_name'].value_counts()"
   ]
  },
  {
   "cell_type": "code",
   "execution_count": 15,
   "id": "bdddcf90",
   "metadata": {},
   "outputs": [
    {
     "data": {
      "text/plain": [
       "np.int64(289)"
      ]
     },
     "execution_count": 15,
     "metadata": {},
     "output_type": "execute_result"
    }
   ],
   "source": [
    "# Let's count how many empty values we have in varietal_name\n",
    "df['varietal_name'].isna().sum()"
   ]
  },
  {
   "cell_type": "code",
   "execution_count": 16,
   "id": "5fc0b9a2",
   "metadata": {},
   "outputs": [
    {
     "name": "stdout",
     "output_type": "stream",
     "text": [
      "Total rows before dropping nans: 5874\n",
      "Total rows after dropping nans: 5585\n"
     ]
    }
   ],
   "source": [
    "# Let's drop those values\n",
    "print(f\"Total rows before dropping nans: {len(df)}\")\n",
    "df = df.dropna(subset=['varietal_name'])\n",
    "print(f\"Total rows after dropping nans: {len(df)}\")"
   ]
  },
  {
   "cell_type": "markdown",
   "id": "1995cabe",
   "metadata": {},
   "source": [
    "Let's normilize unicode of those"
   ]
  },
  {
   "cell_type": "code",
   "execution_count": 17,
   "id": "e939be1b",
   "metadata": {},
   "outputs": [
    {
     "data": {
      "text/plain": [
       "'chardonnay'"
      ]
     },
     "execution_count": 17,
     "metadata": {},
     "output_type": "execute_result"
    }
   ],
   "source": [
    "from dataset_normalisation import varietal_name_normalisation\n",
    "varietal_name_normalisation('Chardonnay')"
   ]
  },
  {
   "cell_type": "code",
   "execution_count": 18,
   "id": "7a43d4bb",
   "metadata": {},
   "outputs": [],
   "source": [
    "df['varietal_name'] = df['varietal_name'].apply(varietal_name_normalisation)"
   ]
  },
  {
   "cell_type": "code",
   "execution_count": 19,
   "id": "72c8a184",
   "metadata": {},
   "outputs": [
    {
     "data": {
      "text/plain": [
       "varietal_name\n",
       "amarone            23\n",
       "petite sirah       21\n",
       "rioja tinto        21\n",
       "syrah              19\n",
       "pauillac           18\n",
       "                   ..\n",
       "alentejo tinto      1\n",
       "moulis-en-medoc     1\n",
       "hermitage           1\n",
       "malagouzia          1\n",
       "douro red           1\n",
       "Name: count, Length: 120, dtype: int64"
      ]
     },
     "execution_count": 19,
     "metadata": {},
     "output_type": "execute_result"
    }
   ],
   "source": [
    "df['varietal_name'].value_counts().tail(120)"
   ]
  },
  {
   "cell_type": "code",
   "execution_count": 20,
   "id": "5cc3fae2",
   "metadata": {},
   "outputs": [
    {
     "name": "stdout",
     "output_type": "stream",
     "text": [
      "Total rows before dropping unpopular varietals: 5585\n",
      "Total rows after dropping unpopular varietals: 4761\n"
     ]
    }
   ],
   "source": [
    "# We can see that most of the wines belong to top 40 varietals,\n",
    "# so let's drop unpopulated varietals\n",
    "\n",
    "# Keep only rows where varietal_name appears at least 25 times\n",
    "print(f\"Total rows before dropping unpopular varietals: {len(df)}\")\n",
    "\n",
    "varietal_counts = df['varietal_name'].value_counts()\n",
    "popular_varietals = varietal_counts[varietal_counts >= 25].index\n",
    "df = df[df['varietal_name'].isin(popular_varietals)]\n",
    "print(f\"Total rows after dropping unpopular varietals: {len(df)}\")\n"
   ]
  },
  {
   "cell_type": "code",
   "execution_count": 21,
   "id": "95fba999",
   "metadata": {},
   "outputs": [
    {
     "data": {
      "text/plain": [
       "varietal_name\n",
       "rose                  541\n",
       "chardonnay            528\n",
       "white                 454\n",
       "cabernet sauvignon    427\n",
       "sauternes             278\n",
       "                     ... \n",
       "colheita port          28\n",
       "saint-julien           25\n",
       "pinot gris             25\n",
       "tokaji aszu            25\n",
       "vin santo              25\n",
       "Name: count, Length: 39, dtype: int64"
      ]
     },
     "execution_count": 21,
     "metadata": {},
     "output_type": "execute_result"
    }
   ],
   "source": [
    "df['varietal_name'].value_counts()"
   ]
  },
  {
   "cell_type": "markdown",
   "id": "e075eefa",
   "metadata": {},
   "source": [
    "We are left with top 40 varietals  \n",
    "Let's check that wine types are still all presented"
   ]
  },
  {
   "cell_type": "code",
   "execution_count": 22,
   "id": "86c32f75",
   "metadata": {},
   "outputs": [
    {
     "data": {
      "text/plain": [
       "wine_type\n",
       "White        1894\n",
       "Red          1253\n",
       "Sparkling     556\n",
       "Dessert       457\n",
       "Rose          388\n",
       "Fortified     213\n",
       "Name: count, dtype: int64"
      ]
     },
     "execution_count": 22,
     "metadata": {},
     "output_type": "execute_result"
    }
   ],
   "source": [
    "df['wine_type'].value_counts()"
   ]
  },
  {
   "cell_type": "markdown",
   "id": "b18617bf",
   "metadata": {
    "jp-MarkdownHeadingCollapsed": true
   },
   "source": [
    "### Flavors"
   ]
  },
  {
   "cell_type": "markdown",
   "id": "433e48d1",
   "metadata": {},
   "source": [
    "Let's check how many flavors we have and turn flavors into a list before uploading it to database"
   ]
  },
  {
   "cell_type": "code",
   "execution_count": 23,
   "id": "2b20aced",
   "metadata": {},
   "outputs": [
    {
     "data": {
      "text/plain": [
       "['pear',\n",
       " 'green apple',\n",
       " 'citrus',\n",
       " 'apple',\n",
       " 'minerals',\n",
       " 'honey',\n",
       " 'peach',\n",
       " 'lemon',\n",
       " 'honeysuckle',\n",
       " 'grapefruit']"
      ]
     },
     "execution_count": 23,
     "metadata": {},
     "output_type": "execute_result"
    }
   ],
   "source": [
    "from dataset_normalisation import flavors_into_list\n",
    "flavors = df.iloc[0]['top_flavors']\n",
    "flavors_into_list(flavors)"
   ]
  },
  {
   "cell_type": "code",
   "execution_count": 24,
   "id": "c55c0300",
   "metadata": {},
   "outputs": [
    {
     "name": "stdout",
     "output_type": "stream",
     "text": [
      "280\n"
     ]
    }
   ],
   "source": [
    "flavors_set = set()\n",
    "for iter, row in df.iterrows():\n",
    "    flavors_set.update(flavors_into_list(row['top_flavors']))\n",
    "\n",
    "print(len(flavors_set))"
   ]
  },
  {
   "cell_type": "code",
   "execution_count": 25,
   "id": "a903dd36",
   "metadata": {},
   "outputs": [
    {
     "name": "stdout",
     "output_type": "stream",
     "text": [
      "Number of empty values in top_flavors: 53\n",
      "Id of the first row with empty top_flavors: 281\n"
     ]
    }
   ],
   "source": [
    "# Let's check empty values in top_flavors\n",
    "print(\"Number of empty values in top_flavors:\", df[\"top_flavors\"].isna().sum())\n",
    "first_empty_row = df[df[\"top_flavors\"].isna()].index[0]\n",
    "print(\"Id of the first row with empty top_flavors:\", first_empty_row)"
   ]
  },
  {
   "cell_type": "code",
   "execution_count": 26,
   "id": "5140b1d1",
   "metadata": {},
   "outputs": [
    {
     "name": "stdout",
     "output_type": "stream",
     "text": [
      "Example of filled top_flavors: strawberry;citrus;raspberry;minerals;peach;grapefruit\n"
     ]
    }
   ],
   "source": [
    "# Let's find out what are the most popular flavors for each varietal name\n",
    "\n",
    "from dataset_normalisation import get_most_common_flavors\n",
    "varietal_flavors = get_most_common_flavors(df)\n",
    "df['top_flavors'] = df['varietal_name'].map(varietal_flavors)\n",
    "df[\"top_flavors\"].isna().sum()\n",
    "print(f\"Example of filled top_flavors: {df.iloc[first_empty_row]['top_flavors']}\")"
   ]
  },
  {
   "cell_type": "markdown",
   "id": "3d8ba27c",
   "metadata": {},
   "source": [
    "### Relevant food\n",
    "Let's check how many different categories of food we have"
   ]
  },
  {
   "cell_type": "code",
   "execution_count": 27,
   "id": "16445c97",
   "metadata": {},
   "outputs": [
    {
     "data": {
      "text/plain": [
       "['pork', 'shellfish', 'vegetarian', 'poultry']"
      ]
     },
     "execution_count": 27,
     "metadata": {},
     "output_type": "execute_result"
    }
   ],
   "source": [
    "from dataset_normalisation import relevant_food_into_list\n",
    "flavors = df.iloc[22]['relevant_food']\n",
    "relevant_food_into_list(flavors)"
   ]
  },
  {
   "cell_type": "code",
   "execution_count": 28,
   "id": "6a55a905",
   "metadata": {},
   "outputs": [
    {
     "name": "stdout",
     "output_type": "stream",
     "text": [
      "46\n"
     ]
    }
   ],
   "source": [
    "relevant_food_set = set()\n",
    "for iter, row in df.iterrows():\n",
    "    relevant_food_set.update(relevant_food_into_list(row['relevant_food']))\n",
    "\n",
    "print(len(relevant_food_set))"
   ]
  },
  {
   "cell_type": "code",
   "execution_count": 29,
   "id": "e31450df",
   "metadata": {},
   "outputs": [
    {
     "name": "stdout",
     "output_type": "stream",
     "text": [
      "Number of empty values in relevant_food: 50\n",
      "Id of the first row with empty relevant_food: 419\n"
     ]
    }
   ],
   "source": [
    "# Let's check empty values in relevant_food\n",
    "print(\"Number of empty values in relevant_food:\", df[\"relevant_food\"].isna().sum())\n",
    "first_empty_row = df[df[\"relevant_food\"].isna()].index[0]\n",
    "print(\"Id of the first row with empty relevant_food:\", first_empty_row)"
   ]
  },
  {
   "cell_type": "code",
   "execution_count": 30,
   "id": "d0711726",
   "metadata": {},
   "outputs": [
    {
     "name": "stdout",
     "output_type": "stream",
     "text": [
      "['shellfish', 'appetizers and snacks', 'lean fish', 'aperitif']\n"
     ]
    },
    {
     "data": {
      "text/plain": [
       "{'albarino': 'pasta;shellfish;vegetarian',\n",
       " 'barolo': 'beef;pasta;lamb',\n",
       " 'bordeaux blend': 'beef;poultry;game (deer, venison)',\n",
       " 'branco': 'marisco;vegetariano;carne de porco',\n",
       " 'brunello': 'beef;lamb;game (deer, venison)',\n",
       " 'cabernet sauvignon': 'beef;lamb;game (deer, venison)',\n",
       " 'chablis': 'pork;rich fish (salmon, tuna etc);shellfish',\n",
       " 'champagne': 'pork;rich fish (salmon, tuna etc);shellfish',\n",
       " 'chardonnay': 'pork;vegetarian;poultry',\n",
       " 'chenin blanc': 'mild and soft cheese;rich fish (salmon, tuna etc);vegetarian',\n",
       " 'chenin blanc dessert': 'mature and hard cheese;fruity desserts;blue cheese',\n",
       " 'colheita port': 'sweet desserts;mature and hard cheese;blue cheese',\n",
       " 'cote de beaune white': 'pasta;rich fish (salmon, tuna etc);shellfish',\n",
       " 'dessert': 'fruity desserts;blue cheese;sweet desserts',\n",
       " 'late bottled vintage port': 'sweet desserts;mature and hard cheese;blue cheese',\n",
       " 'maconnais white': 'pasta;vegetarian;cured meat',\n",
       " 'malbec': 'beef;lamb;pork',\n",
       " 'merlot': 'beef;lamb;veal',\n",
       " \"moscato d'asti\": 'fruity desserts;aperitif',\n",
       " 'pinot grigio': 'shellfish;vegetarian;mushrooms',\n",
       " 'pinot gris': 'pork;spicy food;mushrooms',\n",
       " 'pinot noir': 'veal;poultry;vitela',\n",
       " 'red': 'beef;lamb;veal',\n",
       " 'red blend': 'beef;veal;poultry',\n",
       " 'riesling': 'pork;cured meat;spicy food',\n",
       " 'rioja red': 'beef;lamb;veal',\n",
       " 'rose': 'shellfish;appetizers and snacks;poultry',\n",
       " 'saint-emilion': 'beef;lamb;game (deer, venison)',\n",
       " 'saint-julien': 'beef;lamb;game (deer, venison)',\n",
       " 'sauternes': 'fruity desserts;blue cheese;sobremesas com frutas',\n",
       " 'sauvignon blanc': \"vegetarian;goat's milk cheese;shellfish\",\n",
       " 'sparkling': 'appetizers and snacks;aperitif;shellfish',\n",
       " 'tinto': 'carne de vaca;cordeiro;vitela',\n",
       " 'tokaji aszu': 'sweet desserts;blue cheese;sobremesa',\n",
       " 'vin santo': 'sweet desserts;blue cheese;sobremesa',\n",
       " 'vintage port': 'mature and hard cheese;blue cheese',\n",
       " 'white': 'shellfish;lean fish;vegetarian',\n",
       " 'white blend': 'pork;shellfish;poultry',\n",
       " 'zinfandel': 'beef;lamb;poultry'}"
      ]
     },
     "execution_count": 30,
     "metadata": {},
     "output_type": "execute_result"
    }
   ],
   "source": [
    "print(relevant_food_into_list(df.iloc[0]['relevant_food']))\n",
    "\n",
    "from dataset_normalisation import get_most_common_relevant_food\n",
    "varietal_relevant_food = get_most_common_relevant_food(df)\n",
    "varietal_relevant_food"
   ]
  },
  {
   "cell_type": "code",
   "execution_count": 31,
   "id": "532b1a44",
   "metadata": {},
   "outputs": [
    {
     "name": "stdout",
     "output_type": "stream",
     "text": [
      "Example of filled top_flavors: shellfish;vegetarian;mushrooms\n"
     ]
    }
   ],
   "source": [
    "# Let's find out what are the most popular relevant_food for each varietal name\n",
    "\n",
    "from dataset_normalisation import get_most_common_relevant_food\n",
    "varietal_relevant_food = get_most_common_relevant_food(df)\n",
    "df['relevant_food'] = df['varietal_name'].map(varietal_relevant_food)\n",
    "df[\"relevant_food\"].isna().sum()\n",
    "print(f\"Example of filled top_flavors: {df.iloc[first_empty_row]['relevant_food']}\")\n"
   ]
  },
  {
   "cell_type": "markdown",
   "id": "0b0e6985",
   "metadata": {
    "jp-MarkdownHeadingCollapsed": true
   },
   "source": [
    "### Numerical flavors"
   ]
  },
  {
   "cell_type": "markdown",
   "id": "b6a23fc8",
   "metadata": {},
   "source": [
    "Numerical flavor characterictics are:\n",
    "    \"sweetness\",\n",
    "    \"acidity\",\n",
    "    \"intensity\",\n",
    "    \"tannin\",\n",
    "    \"fizziness\"\n",
    "\n",
    "\n",
    "\n",
    "\n",
    "\n"
   ]
  },
  {
   "cell_type": "code",
   "execution_count": 32,
   "id": "bdaa95b5",
   "metadata": {},
   "outputs": [
    {
     "data": {
      "text/html": [
       "<div>\n",
       "<style scoped>\n",
       "    .dataframe tbody tr th:only-of-type {\n",
       "        vertical-align: middle;\n",
       "    }\n",
       "\n",
       "    .dataframe tbody tr th {\n",
       "        vertical-align: top;\n",
       "    }\n",
       "\n",
       "    .dataframe thead th {\n",
       "        text-align: right;\n",
       "    }\n",
       "</style>\n",
       "<table border=\"1\" class=\"dataframe\">\n",
       "  <thead>\n",
       "    <tr style=\"text-align: right;\">\n",
       "      <th></th>\n",
       "      <th>sweetness</th>\n",
       "      <th>acidity</th>\n",
       "      <th>intensity</th>\n",
       "      <th>tannin</th>\n",
       "      <th>fizziness</th>\n",
       "    </tr>\n",
       "  </thead>\n",
       "  <tbody>\n",
       "    <tr>\n",
       "      <th>count</th>\n",
       "      <td>4374.00</td>\n",
       "      <td>4761.00</td>\n",
       "      <td>4761.00</td>\n",
       "      <td>1253.00</td>\n",
       "      <td>387.00</td>\n",
       "    </tr>\n",
       "    <tr>\n",
       "      <th>mean</th>\n",
       "      <td>2.29</td>\n",
       "      <td>3.56</td>\n",
       "      <td>3.66</td>\n",
       "      <td>3.07</td>\n",
       "      <td>3.59</td>\n",
       "    </tr>\n",
       "    <tr>\n",
       "      <th>std</th>\n",
       "      <td>1.14</td>\n",
       "      <td>0.63</td>\n",
       "      <td>0.84</td>\n",
       "      <td>0.58</td>\n",
       "      <td>1.16</td>\n",
       "    </tr>\n",
       "    <tr>\n",
       "      <th>min</th>\n",
       "      <td>1.00</td>\n",
       "      <td>1.50</td>\n",
       "      <td>1.18</td>\n",
       "      <td>1.40</td>\n",
       "      <td>1.00</td>\n",
       "    </tr>\n",
       "    <tr>\n",
       "      <th>25%</th>\n",
       "      <td>1.54</td>\n",
       "      <td>3.10</td>\n",
       "      <td>2.99</td>\n",
       "      <td>2.65</td>\n",
       "      <td>3.68</td>\n",
       "    </tr>\n",
       "    <tr>\n",
       "      <th>50%</th>\n",
       "      <td>1.82</td>\n",
       "      <td>3.42</td>\n",
       "      <td>3.76</td>\n",
       "      <td>3.25</td>\n",
       "      <td>4.00</td>\n",
       "    </tr>\n",
       "    <tr>\n",
       "      <th>75%</th>\n",
       "      <td>2.52</td>\n",
       "      <td>4.03</td>\n",
       "      <td>4.51</td>\n",
       "      <td>3.44</td>\n",
       "      <td>4.30</td>\n",
       "    </tr>\n",
       "    <tr>\n",
       "      <th>max</th>\n",
       "      <td>5.00</td>\n",
       "      <td>5.00</td>\n",
       "      <td>5.00</td>\n",
       "      <td>4.58</td>\n",
       "      <td>5.00</td>\n",
       "    </tr>\n",
       "  </tbody>\n",
       "</table>\n",
       "</div>"
      ],
      "text/plain": [
       "       sweetness  acidity  intensity  tannin  fizziness\n",
       "count    4374.00  4761.00    4761.00 1253.00     387.00\n",
       "mean        2.29     3.56       3.66    3.07       3.59\n",
       "std         1.14     0.63       0.84    0.58       1.16\n",
       "min         1.00     1.50       1.18    1.40       1.00\n",
       "25%         1.54     3.10       2.99    2.65       3.68\n",
       "50%         1.82     3.42       3.76    3.25       4.00\n",
       "75%         2.52     4.03       4.51    3.44       4.30\n",
       "max         5.00     5.00       5.00    4.58       5.00"
      ]
     },
     "execution_count": 32,
     "metadata": {},
     "output_type": "execute_result"
    }
   ],
   "source": [
    "numerical_flavor_characteristics = [\n",
    "    \"sweetness\",\n",
    "    \"acidity\",\n",
    "    \"intensity\",\n",
    "    \"tannin\",\n",
    "    \"fizziness\"\n",
    "]\n",
    "\n",
    "df[numerical_flavor_characteristics].describe()"
   ]
  },
  {
   "cell_type": "markdown",
   "id": "4c9988b1",
   "metadata": {},
   "source": [
    "We can see that those are characteristics from 1 to 5.  \n",
    "Let's try to generate a proxy taste description based on those parameters and wine type"
   ]
  },
  {
   "cell_type": "code",
   "execution_count": 33,
   "id": "602e063a",
   "metadata": {},
   "outputs": [
    {
     "data": {
      "text/plain": [
       "{'balanced (off-dry)',\n",
       " 'bright & zesty',\n",
       " 'crisp & dry',\n",
       " 'dessert or fortified',\n",
       " 'dry & balanced',\n",
       " 'dry red',\n",
       " 'lush & sweet',\n",
       " 'neutral or unspecified',\n",
       " 'off-dry red',\n",
       " 'rich & full red',\n",
       " 'rich & full-bodied',\n",
       " 'soft & smooth red',\n",
       " 'sparkling (unspecified)',\n",
       " 'sparkling brut (dry)',\n",
       " 'sparkling demi-sec (off-dry)',\n",
       " 'sparkling doux (sweet)',\n",
       " 'sweet-leaning red',\n",
       " 'tannic & structured red'}"
      ]
     },
     "execution_count": 33,
     "metadata": {},
     "output_type": "execute_result"
    }
   ],
   "source": [
    "from dataset_normalisation import taste_category\n",
    "\n",
    "categories = set()\n",
    "for iter, row in df.iterrows():\n",
    "    categories.add(taste_category(row))\n",
    "\n",
    "categories\n"
   ]
  },
  {
   "cell_type": "code",
   "execution_count": 34,
   "id": "afccedb6",
   "metadata": {},
   "outputs": [],
   "source": [
    "df[\"taste_category\"] = df.apply(taste_category, axis=1)"
   ]
  },
  {
   "cell_type": "markdown",
   "id": "6148245f",
   "metadata": {
    "jp-MarkdownHeadingCollapsed": true
   },
   "source": [
    "### Region and country"
   ]
  },
  {
   "cell_type": "markdown",
   "id": "95c7b625",
   "metadata": {},
   "source": [
    "Let's normalize region and country as well"
   ]
  },
  {
   "cell_type": "code",
   "execution_count": 35,
   "id": "6a8abb78",
   "metadata": {},
   "outputs": [
    {
     "data": {
      "text/plain": [
       "'penedes'"
      ]
     },
     "execution_count": 35,
     "metadata": {},
     "output_type": "execute_result"
    }
   ],
   "source": [
    "from dataset_normalisation import region_and_country_normalisation\n",
    "region_and_country_normalisation(\"Penedès\")\n"
   ]
  },
  {
   "cell_type": "code",
   "execution_count": 36,
   "id": "77a2e698",
   "metadata": {},
   "outputs": [],
   "source": [
    "df[\"country_name\"] = df[\"country_name\"].apply(region_and_country_normalisation)\n",
    "df[\"region_name\"] = df[\"region_name\"].apply(region_and_country_normalisation)"
   ]
  },
  {
   "cell_type": "markdown",
   "id": "6e99d856",
   "metadata": {},
   "source": [
    "### Ratings"
   ]
  },
  {
   "cell_type": "code",
   "execution_count": 37,
   "id": "f9543ac7",
   "metadata": {},
   "outputs": [
    {
     "name": "stdout",
     "output_type": "stream",
     "text": [
      "Nan ratings count:\n",
      "rating_avg      0\n",
      "rating_count    0\n",
      "dtype: int64\n",
      "Ratings description:\n"
     ]
    },
    {
     "data": {
      "text/html": [
       "<div>\n",
       "<style scoped>\n",
       "    .dataframe tbody tr th:only-of-type {\n",
       "        vertical-align: middle;\n",
       "    }\n",
       "\n",
       "    .dataframe tbody tr th {\n",
       "        vertical-align: top;\n",
       "    }\n",
       "\n",
       "    .dataframe thead th {\n",
       "        text-align: right;\n",
       "    }\n",
       "</style>\n",
       "<table border=\"1\" class=\"dataframe\">\n",
       "  <thead>\n",
       "    <tr style=\"text-align: right;\">\n",
       "      <th></th>\n",
       "      <th>rating_avg</th>\n",
       "      <th>rating_count</th>\n",
       "    </tr>\n",
       "  </thead>\n",
       "  <tbody>\n",
       "    <tr>\n",
       "      <th>count</th>\n",
       "      <td>4761.00</td>\n",
       "      <td>4761.00</td>\n",
       "    </tr>\n",
       "    <tr>\n",
       "      <th>mean</th>\n",
       "      <td>4.12</td>\n",
       "      <td>2039.20</td>\n",
       "    </tr>\n",
       "    <tr>\n",
       "      <th>std</th>\n",
       "      <td>0.27</td>\n",
       "      <td>4829.49</td>\n",
       "    </tr>\n",
       "    <tr>\n",
       "      <th>min</th>\n",
       "      <td>3.20</td>\n",
       "      <td>25.00</td>\n",
       "    </tr>\n",
       "    <tr>\n",
       "      <th>25%</th>\n",
       "      <td>3.90</td>\n",
       "      <td>136.00</td>\n",
       "    </tr>\n",
       "    <tr>\n",
       "      <th>50%</th>\n",
       "      <td>4.20</td>\n",
       "      <td>582.00</td>\n",
       "    </tr>\n",
       "    <tr>\n",
       "      <th>75%</th>\n",
       "      <td>4.30</td>\n",
       "      <td>1952.00</td>\n",
       "    </tr>\n",
       "    <tr>\n",
       "      <th>max</th>\n",
       "      <td>4.80</td>\n",
       "      <td>91938.00</td>\n",
       "    </tr>\n",
       "  </tbody>\n",
       "</table>\n",
       "</div>"
      ],
      "text/plain": [
       "       rating_avg  rating_count\n",
       "count     4761.00       4761.00\n",
       "mean         4.12       2039.20\n",
       "std          0.27       4829.49\n",
       "min          3.20         25.00\n",
       "25%          3.90        136.00\n",
       "50%          4.20        582.00\n",
       "75%          4.30       1952.00\n",
       "max          4.80      91938.00"
      ]
     },
     "execution_count": 37,
     "metadata": {},
     "output_type": "execute_result"
    }
   ],
   "source": [
    "ratings_columns = [\n",
    "    \"rating_avg\",\n",
    "    \"rating_count\"\n",
    "]\n",
    "print(\"Nan ratings count:\")\n",
    "print(df[ratings_columns].isna().sum())\n",
    "\n",
    "print(\"Ratings description:\")\n",
    "df[ratings_columns].describe()"
   ]
  },
  {
   "cell_type": "markdown",
   "id": "9ffd0d2d",
   "metadata": {},
   "source": [
    "## Final dataframe"
   ]
  },
  {
   "cell_type": "code",
   "execution_count": 38,
   "id": "2b0ed440",
   "metadata": {},
   "outputs": [
    {
     "data": {
      "text/html": [
       "<div>\n",
       "<style scoped>\n",
       "    .dataframe tbody tr th:only-of-type {\n",
       "        vertical-align: middle;\n",
       "    }\n",
       "\n",
       "    .dataframe tbody tr th {\n",
       "        vertical-align: top;\n",
       "    }\n",
       "\n",
       "    .dataframe thead th {\n",
       "        text-align: right;\n",
       "    }\n",
       "</style>\n",
       "<table border=\"1\" class=\"dataframe\">\n",
       "  <thead>\n",
       "    <tr style=\"text-align: right;\">\n",
       "      <th></th>\n",
       "      <th>vintage_id</th>\n",
       "      <th>wine_name</th>\n",
       "      <th>vintage_name</th>\n",
       "      <th>varietal_name</th>\n",
       "      <th>country_name</th>\n",
       "      <th>region_name</th>\n",
       "      <th>wine_type</th>\n",
       "      <th>year</th>\n",
       "      <th>top_flavors</th>\n",
       "      <th>relevant_food</th>\n",
       "      <th>price</th>\n",
       "      <th>sweetness</th>\n",
       "      <th>acidity</th>\n",
       "      <th>intensity</th>\n",
       "      <th>tannin</th>\n",
       "      <th>fizziness</th>\n",
       "      <th>rating_avg</th>\n",
       "      <th>rating_count</th>\n",
       "      <th>vivino_url</th>\n",
       "      <th>taste_category</th>\n",
       "    </tr>\n",
       "  </thead>\n",
       "  <tbody>\n",
       "    <tr>\n",
       "      <th>36</th>\n",
       "      <td>180201168</td>\n",
       "      <td>Petillant Blanc (Vi d'Agulla)</td>\n",
       "      <td>Avinyó Petillant Blanc (Vi d'Agulla) 2024</td>\n",
       "      <td>sparkling</td>\n",
       "      <td>spain</td>\n",
       "      <td>catalunya</td>\n",
       "      <td>Rose</td>\n",
       "      <td>2024</td>\n",
       "      <td>citrus;apple;cream;yeast;green apple;lemon</td>\n",
       "      <td>appetizers and snacks;aperitif;shellfish</td>\n",
       "      <td>19.99</td>\n",
       "      <td>NaN</td>\n",
       "      <td>3.43</td>\n",
       "      <td>2.87</td>\n",
       "      <td>NaN</td>\n",
       "      <td>3.90</td>\n",
       "      <td>4.20</td>\n",
       "      <td>3097</td>\n",
       "      <td>https://www.vivino.com/US/en/avinyo-petillant-...</td>\n",
       "      <td>sparkling (unspecified)</td>\n",
       "    </tr>\n",
       "    <tr>\n",
       "      <th>91</th>\n",
       "      <td>168723836</td>\n",
       "      <td>Moscato d'Asti</td>\n",
       "      <td>Bartenura Moscato d'Asti 2021</td>\n",
       "      <td>moscato d'asti</td>\n",
       "      <td>italy</td>\n",
       "      <td>moscato d'asti</td>\n",
       "      <td>Rose</td>\n",
       "      <td>2021</td>\n",
       "      <td>honey;peach;pear;apple;apricot;citrus</td>\n",
       "      <td>fruity desserts;aperitif</td>\n",
       "      <td>15.99</td>\n",
       "      <td>NaN</td>\n",
       "      <td>2.66</td>\n",
       "      <td>2.69</td>\n",
       "      <td>NaN</td>\n",
       "      <td>1.13</td>\n",
       "      <td>4.30</td>\n",
       "      <td>804</td>\n",
       "      <td>https://www.vivino.com/US/en/bartenura-moscato...</td>\n",
       "      <td>neutral or unspecified</td>\n",
       "    </tr>\n",
       "    <tr>\n",
       "      <th>94</th>\n",
       "      <td>171198806</td>\n",
       "      <td>Brut Reserva</td>\n",
       "      <td>AT Roca Brut Reserva 2022</td>\n",
       "      <td>sparkling</td>\n",
       "      <td>spain</td>\n",
       "      <td>penedes</td>\n",
       "      <td>Rose</td>\n",
       "      <td>2022</td>\n",
       "      <td>citrus;apple;cream;yeast;green apple;lemon</td>\n",
       "      <td>appetizers and snacks;aperitif;shellfish</td>\n",
       "      <td>29.00</td>\n",
       "      <td>NaN</td>\n",
       "      <td>3.25</td>\n",
       "      <td>3.07</td>\n",
       "      <td>NaN</td>\n",
       "      <td>3.91</td>\n",
       "      <td>3.90</td>\n",
       "      <td>749</td>\n",
       "      <td>https://www.vivino.com/US/en/at-roca-brut-rese...</td>\n",
       "      <td>sparkling (unspecified)</td>\n",
       "    </tr>\n",
       "    <tr>\n",
       "      <th>133</th>\n",
       "      <td>151506413</td>\n",
       "      <td>Late Bottled Vintage Port</td>\n",
       "      <td>Quinta do Crasto Late Bottled Vintage Port 2017</td>\n",
       "      <td>late bottled vintage port</td>\n",
       "      <td>portugal</td>\n",
       "      <td>porto</td>\n",
       "      <td>Fortified</td>\n",
       "      <td>2017</td>\n",
       "      <td>chocolate;raisin;cherry;plum;blackberry;fig</td>\n",
       "      <td>sweet desserts;mature and hard cheese;blue cheese</td>\n",
       "      <td>28.34</td>\n",
       "      <td>4.57</td>\n",
       "      <td>3.01</td>\n",
       "      <td>4.82</td>\n",
       "      <td>NaN</td>\n",
       "      <td>NaN</td>\n",
       "      <td>4.10</td>\n",
       "      <td>495</td>\n",
       "      <td>https://www.vivino.com/US/en/quinta-do-crasto-...</td>\n",
       "      <td>dessert or fortified</td>\n",
       "    </tr>\n",
       "    <tr>\n",
       "      <th>134</th>\n",
       "      <td>142337431</td>\n",
       "      <td>Late Bottled Vintage Unfiltered Port</td>\n",
       "      <td>Quinta do Noval Late Bottled Vintage Unfiltere...</td>\n",
       "      <td>late bottled vintage port</td>\n",
       "      <td>portugal</td>\n",
       "      <td>porto</td>\n",
       "      <td>Fortified</td>\n",
       "      <td>2016</td>\n",
       "      <td>chocolate;raisin;cherry;plum;blackberry;fig</td>\n",
       "      <td>sweet desserts;mature and hard cheese;blue cheese</td>\n",
       "      <td>28.34</td>\n",
       "      <td>4.50</td>\n",
       "      <td>3.06</td>\n",
       "      <td>4.80</td>\n",
       "      <td>NaN</td>\n",
       "      <td>NaN</td>\n",
       "      <td>4.10</td>\n",
       "      <td>452</td>\n",
       "      <td>https://www.vivino.com/US/en/quinta-do-noval-l...</td>\n",
       "      <td>dessert or fortified</td>\n",
       "    </tr>\n",
       "  </tbody>\n",
       "</table>\n",
       "</div>"
      ],
      "text/plain": [
       "     vintage_id                             wine_name  \\\n",
       "36    180201168         Petillant Blanc (Vi d'Agulla)   \n",
       "91    168723836                        Moscato d'Asti   \n",
       "94    171198806                          Brut Reserva   \n",
       "133   151506413             Late Bottled Vintage Port   \n",
       "134   142337431  Late Bottled Vintage Unfiltered Port   \n",
       "\n",
       "                                          vintage_name  \\\n",
       "36           Avinyó Petillant Blanc (Vi d'Agulla) 2024   \n",
       "91                       Bartenura Moscato d'Asti 2021   \n",
       "94                           AT Roca Brut Reserva 2022   \n",
       "133    Quinta do Crasto Late Bottled Vintage Port 2017   \n",
       "134  Quinta do Noval Late Bottled Vintage Unfiltere...   \n",
       "\n",
       "                 varietal_name country_name     region_name  wine_type  year  \\\n",
       "36                   sparkling        spain       catalunya       Rose  2024   \n",
       "91              moscato d'asti        italy  moscato d'asti       Rose  2021   \n",
       "94                   sparkling        spain         penedes       Rose  2022   \n",
       "133  late bottled vintage port     portugal           porto  Fortified  2017   \n",
       "134  late bottled vintage port     portugal           porto  Fortified  2016   \n",
       "\n",
       "                                     top_flavors  \\\n",
       "36    citrus;apple;cream;yeast;green apple;lemon   \n",
       "91         honey;peach;pear;apple;apricot;citrus   \n",
       "94    citrus;apple;cream;yeast;green apple;lemon   \n",
       "133  chocolate;raisin;cherry;plum;blackberry;fig   \n",
       "134  chocolate;raisin;cherry;plum;blackberry;fig   \n",
       "\n",
       "                                         relevant_food  price  sweetness  \\\n",
       "36            appetizers and snacks;aperitif;shellfish  19.99        NaN   \n",
       "91                            fruity desserts;aperitif  15.99        NaN   \n",
       "94            appetizers and snacks;aperitif;shellfish  29.00        NaN   \n",
       "133  sweet desserts;mature and hard cheese;blue cheese  28.34       4.57   \n",
       "134  sweet desserts;mature and hard cheese;blue cheese  28.34       4.50   \n",
       "\n",
       "     acidity  intensity  tannin  fizziness  rating_avg  rating_count  \\\n",
       "36      3.43       2.87     NaN       3.90        4.20          3097   \n",
       "91      2.66       2.69     NaN       1.13        4.30           804   \n",
       "94      3.25       3.07     NaN       3.91        3.90           749   \n",
       "133     3.01       4.82     NaN        NaN        4.10           495   \n",
       "134     3.06       4.80     NaN        NaN        4.10           452   \n",
       "\n",
       "                                            vivino_url  \\\n",
       "36   https://www.vivino.com/US/en/avinyo-petillant-...   \n",
       "91   https://www.vivino.com/US/en/bartenura-moscato...   \n",
       "94   https://www.vivino.com/US/en/at-roca-brut-rese...   \n",
       "133  https://www.vivino.com/US/en/quinta-do-crasto-...   \n",
       "134  https://www.vivino.com/US/en/quinta-do-noval-l...   \n",
       "\n",
       "              taste_category  \n",
       "36   sparkling (unspecified)  \n",
       "91    neutral or unspecified  \n",
       "94   sparkling (unspecified)  \n",
       "133     dessert or fortified  \n",
       "134     dessert or fortified  "
      ]
     },
     "execution_count": 38,
     "metadata": {},
     "output_type": "execute_result"
    }
   ],
   "source": [
    "df.head()"
   ]
  },
  {
   "cell_type": "markdown",
   "id": "76572874",
   "metadata": {},
   "source": [
    "Let's apply simple sanity check to understand if the data is noisy"
   ]
  },
  {
   "cell_type": "code",
   "execution_count": 39,
   "id": "456c4e91",
   "metadata": {},
   "outputs": [],
   "source": [
    "def flag_inconsistencies(df: pd.DataFrame) -> pd.DataFrame:\n",
    "    flags = []\n",
    "\n",
    "    for i, row in df.iterrows():\n",
    "        wt = str(row[\"wine_type\"]).lower()\n",
    "        varietal = str(row.get(\"varietal_name\", \"\")).lower()\n",
    "        fizz = row.get(\"fizziness\")\n",
    "        sweet = row.get(\"sweetness\")\n",
    "\n",
    "        flag_list = []\n",
    "\n",
    "        # Sparkling wines should usually have fizziness > 2.0\n",
    "        if wt == \"sparkling\" and (pd.isna(fizz) or fizz < 2.0):\n",
    "            flag_list.append(\"sparkling_no_fizz\")\n",
    "\n",
    "        # Non-sparkling wines with high fizziness\n",
    "        if wt != \"sparkling\" and not pd.isna(fizz) and fizz > 2.5:\n",
    "            flag_list.append(\"still_with_fizz\")\n",
    "\n",
    "        # Rosé label but varietal suggests sparkling\n",
    "        if wt == \"rose\" and \"sparkling\" in varietal:\n",
    "            flag_list.append(\"rose_vs_sparkling\")\n",
    "\n",
    "        # Dessert wines should usually be sweet\n",
    "        if wt == \"dessert\" and (pd.isna(sweet) or sweet < 3.0):\n",
    "            flag_list.append(\"dessert_not_sweet\")\n",
    "\n",
    "        if flag_list:\n",
    "            flags.append({\"index\": i, \"flags\": flag_list})\n",
    "\n",
    "    return pd.DataFrame(flags)"
   ]
  },
  {
   "cell_type": "code",
   "execution_count": 40,
   "id": "05bcb786",
   "metadata": {},
   "outputs": [
    {
     "name": "stdout",
     "output_type": "stream",
     "text": [
      "flags\n",
      "sparkling_no_fizz   0.55\n",
      "still_with_fizz     0.32\n",
      "rose_vs_sparkling   0.13\n",
      "dessert_not_sweet   0.00\n",
      "Name: proportion, dtype: float64\n"
     ]
    }
   ],
   "source": [
    "noise_df = flag_inconsistencies(df)\n",
    "print(noise_df[\"flags\"].explode().value_counts(normalize=True))\n"
   ]
  },
  {
   "cell_type": "markdown",
   "id": "11315982",
   "metadata": {},
   "source": [
    "**This was a small validation that our data is consistent**"
   ]
  },
  {
   "cell_type": "markdown",
   "id": "14fdfdc0",
   "metadata": {},
   "source": [
    "Let's see how we want to see our data in the database"
   ]
  },
  {
   "cell_type": "code",
   "execution_count": 43,
   "id": "b500bb2c",
   "metadata": {},
   "outputs": [
    {
     "name": "stdout",
     "output_type": "stream",
     "text": [
      "{\n",
      "    \"vintage_id\": 177988134,\n",
      "    \"wine_name\": \"Chavignol Sancerre Ros\\u00e9\",\n",
      "    \"vintage_name\": \"Fran\\u00e7ois Cotat Chavignol Sancerre Ros\\u00e9 2023\",\n",
      "    \"varietal_name\": \"rose\",\n",
      "    \"country_name\": \"france\",\n",
      "    \"region_name\": \"sancerre\",\n",
      "    \"wine_type\": \"Sparkling\",\n",
      "    \"year\": 2023,\n",
      "    \"top_flavors\": [\n",
      "        \"strawberry\",\n",
      "        \"citrus\",\n",
      "        \"raspberry\",\n",
      "        \"minerals\",\n",
      "        \"peach\",\n",
      "        \"grapefruit\"\n",
      "    ],\n",
      "    \"relevant_food\": [\n",
      "        \"shellfish\",\n",
      "        \"appetizers and snacks\",\n",
      "        \"poultry\"\n",
      "    ],\n",
      "    \"price\": 74.0,\n",
      "    \"sweetness\": 1.75,\n",
      "    \"acidity\": 4.04,\n",
      "    \"intensity\": 1.77,\n",
      "    \"tannin\": NaN,\n",
      "    \"fizziness\": NaN,\n",
      "    \"rating_avg\": 4.1,\n",
      "    \"rating_count\": 597,\n",
      "    \"vivino_url\": \"https://www.vivino.com/US/en/francois-cotat-chavignol-sancerre-rose/w/1690155\",\n",
      "    \"taste_category\": \"sparkling brut (dry)\"\n",
      "}\n"
     ]
    }
   ],
   "source": [
    "example_row = df.iloc[25].to_dict()\n",
    "\n",
    "example_row['top_flavors'] = flavors_into_list(example_row['top_flavors'])\n",
    "example_row['relevant_food'] = relevant_food_into_list(example_row['relevant_food'])\n",
    "print(json.dumps(example_row, indent=4))"
   ]
  },
  {
   "cell_type": "code",
   "execution_count": 42,
   "id": "29cbfba5",
   "metadata": {},
   "outputs": [],
   "source": [
    "# df.to_csv('wines_light.csv', index=False)"
   ]
  },
  {
   "cell_type": "markdown",
   "id": "0d1a2840",
   "metadata": {},
   "source": []
  }
 ],
 "metadata": {
  "kernelspec": {
   "display_name": "llm_zoomcamp_project2",
   "language": "python",
   "name": "llm_zoomcamp_project2"
  },
  "language_info": {
   "codemirror_mode": {
    "name": "ipython",
    "version": 3
   },
   "file_extension": ".py",
   "mimetype": "text/x-python",
   "name": "python",
   "nbconvert_exporter": "python",
   "pygments_lexer": "ipython3",
   "version": "3.11.9"
  }
 },
 "nbformat": 4,
 "nbformat_minor": 5
}
